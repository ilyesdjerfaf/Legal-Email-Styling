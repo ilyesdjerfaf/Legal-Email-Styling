{
 "cells": [
  {
   "cell_type": "code",
   "execution_count": 1,
   "metadata": {},
   "outputs": [],
   "source": [
    "import chromadb\n",
    "from chromadb.config import Settings\n"
   ]
  },
  {
   "cell_type": "code",
   "execution_count": 2,
   "metadata": {},
   "outputs": [],
   "source": [
    "client = chromadb.Client()"
   ]
  },
  {
   "cell_type": "code",
   "execution_count": 3,
   "metadata": {},
   "outputs": [],
   "source": [
    "collection = client.create_collection(\"my_collection\")"
   ]
  },
  {
   "cell_type": "code",
   "execution_count": 4,
   "metadata": {},
   "outputs": [
    {
     "name": "stdout",
     "output_type": "stream",
     "text": [
      "Requirement already satisfied: pandas in /opt/homebrew/lib/python3.10/site-packages (2.2.3)\n",
      "Requirement already satisfied: python-dateutil>=2.8.2 in /Users/boufadeslina/Library/Python/3.10/lib/python/site-packages (from pandas) (2.9.0.post0)\n",
      "Requirement already satisfied: pytz>=2020.1 in /opt/homebrew/lib/python3.10/site-packages (from pandas) (2024.2)\n",
      "Requirement already satisfied: tzdata>=2022.7 in /opt/homebrew/lib/python3.10/site-packages (from pandas) (2024.2)\n",
      "Requirement already satisfied: numpy>=1.22.4 in /opt/homebrew/lib/python3.10/site-packages (from pandas) (2.1.2)\n",
      "Requirement already satisfied: six>=1.5 in /Users/boufadeslina/Library/Python/3.10/lib/python/site-packages (from python-dateutil>=2.8.2->pandas) (1.16.0)\n",
      "\n",
      "\u001b[1m[\u001b[0m\u001b[34;49mnotice\u001b[0m\u001b[1;39;49m]\u001b[0m\u001b[39;49m A new release of pip available: \u001b[0m\u001b[31;49m22.2.2\u001b[0m\u001b[39;49m -> \u001b[0m\u001b[32;49m24.3.1\u001b[0m\n",
      "\u001b[1m[\u001b[0m\u001b[34;49mnotice\u001b[0m\u001b[1;39;49m]\u001b[0m\u001b[39;49m To update, run: \u001b[0m\u001b[32;49mpython3.10 -m pip install --upgrade pip\u001b[0m\n",
      "Note: you may need to restart the kernel to use updated packages.\n"
     ]
    }
   ],
   "source": [
    "pip install pandas"
   ]
  },
  {
   "cell_type": "code",
   "execution_count": 5,
   "metadata": {},
   "outputs": [],
   "source": [
    "import pandas as pd\n",
    "df = pd.read_csv(\"embedded_emails_all_miniLM.csv\")"
   ]
  },
  {
   "cell_type": "code",
   "execution_count": 6,
   "metadata": {},
   "outputs": [
    {
     "data": {
      "text/html": [
       "<div>\n",
       "<style scoped>\n",
       "    .dataframe tbody tr th:only-of-type {\n",
       "        vertical-align: middle;\n",
       "    }\n",
       "\n",
       "    .dataframe tbody tr th {\n",
       "        vertical-align: top;\n",
       "    }\n",
       "\n",
       "    .dataframe thead th {\n",
       "        text-align: right;\n",
       "    }\n",
       "</style>\n",
       "<table border=\"1\" class=\"dataframe\">\n",
       "  <thead>\n",
       "    <tr style=\"text-align: right;\">\n",
       "      <th></th>\n",
       "      <th>id</th>\n",
       "      <th>chunks</th>\n",
       "      <th>chunks_embedded</th>\n",
       "    </tr>\n",
       "  </thead>\n",
       "  <tbody>\n",
       "    <tr>\n",
       "      <th>0</th>\n",
       "      <td>&lt;6501090.1075843349674.JavaMail.evans@thyme&gt;</td>\n",
       "      <td>FYI. Commentary calls George W. Bush task gett...</td>\n",
       "      <td>[-0.046354301273822784, -0.022795911878347397,...</td>\n",
       "    </tr>\n",
       "    <tr>\n",
       "      <th>1</th>\n",
       "      <td>&lt;6501090.1075843349674.JavaMail.evans@thyme&gt;</td>\n",
       "      <td>inauguration, President Bush's electricity pol...</td>\n",
       "      <td>[0.018535984680056572, -0.0205399040132761, 0....</td>\n",
       "    </tr>\n",
       "    <tr>\n",
       "      <th>2</th>\n",
       "      <td>&lt;6501090.1075843349674.JavaMail.evans@thyme&gt;</td>\n",
       "      <td>Energy Regulatory Commission (FERC) signals FE...</td>\n",
       "      <td>[0.07399576902389526, 0.06288360804319382, 0.0...</td>\n",
       "    </tr>\n",
       "    <tr>\n",
       "      <th>3</th>\n",
       "      <td>&lt;6501090.1075843349674.JavaMail.evans@thyme&gt;</td>\n",
       "      <td>California. Skyrocketing retail electric price...</td>\n",
       "      <td>[0.03702124208211899, -0.002088540932163596, 0...</td>\n",
       "    </tr>\n",
       "    <tr>\n",
       "      <th>4</th>\n",
       "      <td>&lt;6501090.1075843349674.JavaMail.evans@thyme&gt;</td>\n",
       "      <td>fuses bombs lit passage Energy Policy Act (EPA...</td>\n",
       "      <td>[-0.04222314432263374, 0.07322569191455841, 0....</td>\n",
       "    </tr>\n",
       "    <tr>\n",
       "      <th>...</th>\n",
       "      <td>...</td>\n",
       "      <td>...</td>\n",
       "      <td>...</td>\n",
       "    </tr>\n",
       "    <tr>\n",
       "      <th>5765</th>\n",
       "      <td>&lt;22527048.1075843384871.JavaMail.evans@thyme&gt;</td>\n",
       "      <td>(E-mail)'; 'Cody Carter (E-mail)'; 'Curt Hatto...</td>\n",
       "      <td>[-0.07114706188440323, 0.0022635660134255886, ...</td>\n",
       "    </tr>\n",
       "    <tr>\n",
       "      <th>5766</th>\n",
       "      <td>&lt;22527048.1075843384871.JavaMail.evans@thyme&gt;</td>\n",
       "      <td>Lednicky (E-mail)'; 'Marty McFadden (E-mail)';...</td>\n",
       "      <td>[-0.030311042442917824, -0.06628071516752243, ...</td>\n",
       "    </tr>\n",
       "    <tr>\n",
       "      <th>5767</th>\n",
       "      <td>&lt;22527048.1075843384871.JavaMail.evans@thyme&gt;</td>\n",
       "      <td>committee soon possible meet discuss direction...</td>\n",
       "      <td>[-0.029136644676327705, -0.06298520416021347, ...</td>\n",
       "    </tr>\n",
       "    <tr>\n",
       "      <th>5768</th>\n",
       "      <td>&lt;22527048.1075843384871.JavaMail.evans@thyme&gt;</td>\n",
       "      <td>also set agenda Thursday person meeting. Thurs...</td>\n",
       "      <td>[-0.05355614051222801, -0.02812141552567482, -...</td>\n",
       "    </tr>\n",
       "    <tr>\n",
       "      <th>5769</th>\n",
       "      <td>&lt;22527048.1075843384871.JavaMail.evans@thyme&gt;</td>\n",
       "      <td>Producers Association (916) 448-9499 - Public ...</td>\n",
       "      <td>[-0.048051025718450546, -0.03116493485867977, ...</td>\n",
       "    </tr>\n",
       "  </tbody>\n",
       "</table>\n",
       "<p>5770 rows × 3 columns</p>\n",
       "</div>"
      ],
      "text/plain": [
       "                                                 id  \\\n",
       "0      <6501090.1075843349674.JavaMail.evans@thyme>   \n",
       "1      <6501090.1075843349674.JavaMail.evans@thyme>   \n",
       "2      <6501090.1075843349674.JavaMail.evans@thyme>   \n",
       "3      <6501090.1075843349674.JavaMail.evans@thyme>   \n",
       "4      <6501090.1075843349674.JavaMail.evans@thyme>   \n",
       "...                                             ...   \n",
       "5765  <22527048.1075843384871.JavaMail.evans@thyme>   \n",
       "5766  <22527048.1075843384871.JavaMail.evans@thyme>   \n",
       "5767  <22527048.1075843384871.JavaMail.evans@thyme>   \n",
       "5768  <22527048.1075843384871.JavaMail.evans@thyme>   \n",
       "5769  <22527048.1075843384871.JavaMail.evans@thyme>   \n",
       "\n",
       "                                                 chunks  \\\n",
       "0     FYI. Commentary calls George W. Bush task gett...   \n",
       "1     inauguration, President Bush's electricity pol...   \n",
       "2     Energy Regulatory Commission (FERC) signals FE...   \n",
       "3     California. Skyrocketing retail electric price...   \n",
       "4     fuses bombs lit passage Energy Policy Act (EPA...   \n",
       "...                                                 ...   \n",
       "5765  (E-mail)'; 'Cody Carter (E-mail)'; 'Curt Hatto...   \n",
       "5766  Lednicky (E-mail)'; 'Marty McFadden (E-mail)';...   \n",
       "5767  committee soon possible meet discuss direction...   \n",
       "5768  also set agenda Thursday person meeting. Thurs...   \n",
       "5769  Producers Association (916) 448-9499 - Public ...   \n",
       "\n",
       "                                        chunks_embedded  \n",
       "0     [-0.046354301273822784, -0.022795911878347397,...  \n",
       "1     [0.018535984680056572, -0.0205399040132761, 0....  \n",
       "2     [0.07399576902389526, 0.06288360804319382, 0.0...  \n",
       "3     [0.03702124208211899, -0.002088540932163596, 0...  \n",
       "4     [-0.04222314432263374, 0.07322569191455841, 0....  \n",
       "...                                                 ...  \n",
       "5765  [-0.07114706188440323, 0.0022635660134255886, ...  \n",
       "5766  [-0.030311042442917824, -0.06628071516752243, ...  \n",
       "5767  [-0.029136644676327705, -0.06298520416021347, ...  \n",
       "5768  [-0.05355614051222801, -0.02812141552567482, -...  \n",
       "5769  [-0.048051025718450546, -0.03116493485867977, ...  \n",
       "\n",
       "[5770 rows x 3 columns]"
      ]
     },
     "execution_count": 6,
     "metadata": {},
     "output_type": "execute_result"
    }
   ],
   "source": [
    "df"
   ]
  },
  {
   "cell_type": "code",
   "execution_count": 7,
   "metadata": {},
   "outputs": [],
   "source": [
    "document = []\n",
    "metaData = []\n",
    "\n",
    "for i in range(len(df)) :\n",
    "    document.append(df.iloc[i][\"chunks\"])\n",
    "    metaData.append({\"id\" : df.iloc[i][\"id\"]})"
   ]
  },
  {
   "cell_type": "code",
   "execution_count": 8,
   "metadata": {},
   "outputs": [],
   "source": [
    "import ast"
   ]
  },
  {
   "cell_type": "code",
   "execution_count": 9,
   "metadata": {},
   "outputs": [],
   "source": [
    "batch_size = 500\n",
    "\n",
    "# Parcourir le dataframe par lots\n",
    "for batch_start in range(0, len(df), batch_size):\n",
    "    # Créer un batch de données\n",
    "    batch = df.iloc[batch_start:batch_start + batch_size]\n",
    "    \n",
    "    # Convertir les embeddings sous forme de chaîne en liste (utilisation de eval pour convertir de string à list)\n",
    "    embeddings = batch['chunks_embedded'].apply(ast.literal_eval).tolist()\n",
    "\n",
    "    # Extraire les documents du batch\n",
    "    documents = batch['chunks'].tolist()  # Liste des chunks\n",
    "\n",
    "    # Convertir les metadatas en dictionnaires (avec l'ID du mail comme clé)\n",
    "    metadatas = [{'id': str(mail_id)} for mail_id in batch['id'].tolist()]\n",
    "\n",
    "    # Créer des ids uniques pour chaque chunk\n",
    "    chunk_ids = [f\"{batch_start + idx}\" for idx in range(len(batch))]  # Créer un id unique pour chaque chunk\n",
    "\n",
    "    # Ajouter les documents et leurs métadonnées à la collection\n",
    "    collection.add(\n",
    "        metadatas=metadatas,  # Métadonnées sous forme de dictionnaire\n",
    "        ids=chunk_ids,  # ID uniques pour chaque chunk (numérotés)\n",
    "        documents=documents,  # Les chunks du document\n",
    "        embeddings=embeddings  # Embeddings associés\n",
    "    )"
   ]
  },
  {
   "cell_type": "code",
   "execution_count": 10,
   "metadata": {},
   "outputs": [
    {
     "name": "stdout",
     "output_type": "stream",
     "text": [
      "Il y a 5770 documents dans la collection.\n"
     ]
    }
   ],
   "source": [
    "# Compter le nombre de documents dans la collection\n",
    "num_documents = collection.count()\n",
    "print(f\"Il y a {num_documents} documents dans la collection.\")\n"
   ]
  },
  {
   "cell_type": "code",
   "execution_count": 11,
   "metadata": {},
   "outputs": [
    {
     "name": "stdout",
     "output_type": "stream",
     "text": [
      "{'ids': [['5500', '4652', '4651', '3031', '5499']], 'embeddings': None, 'documents': [['Steve= n=20 Schuman (schuman@haas.berkeley.edu) Thursday (March 15): Evening - Haas Technology Club Firm Night - Airport Marriot Hotel,=20 Burlingame, CA Friday (March 16): 3:30-4:45:? John Williams, SVP Marketing Intelligence Alliances, VI= SA=20 International - Wells Fargo Room - John Williams, Senior Vice President Market Intelligence Alliance= s=20 VISA International, speak experiences original member = of=20 Palm team, co-founder Razorfish graduate Haas an= d=20 Boalt schools. 5:00-??:?', \"achievements already familiar many you. We're fortunate gentlemen aboard.? information available at: http://www.haas-abc.org/details/keynote.asp ? addition, outstanding lineup panelists, spread?across 6 panels: Biotech, E-Commerce, Entrepreneurship, Technology/Manufacturing, Telecom & Wireless, Venture Capital. firms represented: NTT, Sun, Sony, eSamsung, Sina.com, TSMC, Ericsson, SSMB, Walden International, among others. info: http://www.haas-abc.org/details/panelists.asp ? mention sponsor\", \"Haas-mates: ? I'd like take?a moment invite Haas Asia Business Conference, happening Saturday.? subject line says, online ticket sales end tonight midnight. sales going well, gone well would liked within Haas -- 90% tickets sold alums professionals.? I'd like take moment time explain find ABC Saturday. ? starters, solid lineup keynotes:Ta-Lin Hsu, Chairman H&Q Asia Pacific; and?John Wadsworth, Honorary Chairman of?Morgan Stanley Dean Witter?Asia.?Dr. Hsu known John Doerr Asia, Mr. Wadsworth's\", \"Notes To: <eveningmba@haas.berkeley.edu> Mime-Version: 1.0 Content-Type: text/plain; charset=ISO-8859-1 X-Mailer: Unknown (No Version) Message-ID: <8f.6f321aa.27bd8083@aol.com> Hello everyone, John Morel received wonderful feedback either attended one roundtable sessions responded directly. Here's synopsis: Overall comments 1) Continued improved branding Haas EvMBA efforts Career Center personnel well Haas administration 2) John implemented database, tracking recruitment career search outcomes\", 'including RSVP details: see e-mail Steven= =20 Schuman (schuman@haas.berkeley.edu) Wednesday (March 14): 5:30-7:00:? Tour Berkeley Incubator - Bancroft Hotel - Berkeley Incubator, founded 1997 start-ups created current Haas= =20 students recent graduates.? Designed provide office space, advanced= =20 telecommunications capabilities access Lester Center=01,s networ= ks of=20 venture capitalists, attorneys, accountants, consultants. - interested, please email Shing Wong (swong@haas.berkeley.edu)']], 'uris': None, 'data': None, 'metadatas': [[{'id': '<2011060.1075843382922.JavaMail.evans@thyme>'}, {'id': '<12962727.1075843377496.JavaMail.evans@thyme>'}, {'id': '<12962727.1075843377496.JavaMail.evans@thyme>'}, {'id': '<22463104.1075843366831.JavaMail.evans@thyme>'}, {'id': '<2011060.1075843382922.JavaMail.evans@thyme>'}]], 'distances': [[0.0, 0.8092944025993347, 0.8436180949211121, 0.845629096031189, 0.858935534954071]], 'included': [<IncludeEnum.distances: 'distances'>, <IncludeEnum.documents: 'documents'>, <IncludeEnum.metadatas: 'metadatas'>]}\n"
     ]
    }
   ],
   "source": [
    "result = collection.query(\n",
    "    query_embeddings=embeddings[0],  # Exemple d'embedding pour la recherche\n",
    "    n_results=5  # Limiter le nombre de résultats à 5\n",
    ")\n",
    "\n",
    "# Afficher les résultats\n",
    "print(result)"
   ]
  },
  {
   "cell_type": "code",
   "execution_count": 13,
   "metadata": {},
   "outputs": [
    {
     "name": "stdout",
     "output_type": "stream",
     "text": [
      "Premier document:\n",
      "IDs: [['517']]\n",
      "Documents: [[\"remedies Ameritech performance failures WISCONSIN -- Bipartisan bill restrict telemarketers introduced NORTH CAROLINA -- Commission orders NANPA reclaim 'NXX' codes OREGON -- PUC selects NeuStar interim number pooling administrator TENNESSEE -- Bill would adopt Lifeline/Link-Up Services Act OREGON -- PUC resolve UNE mapping issues HAWAII -- Counties would hold hearing wireless facility construction bill RHODE ISLAND -- Legislation would update telemarketing law OREGON -- Number complaints long\"]]\n",
      "Metadatas: [[{'id': '<25878449.1075843352551.JavaMail.evans@thyme>'}]]\n"
     ]
    }
   ],
   "source": [
    "# Récupérer un échantillon de documents depuis la collection\n",
    "results = collection.query(\n",
    "    query_embeddings=[0] * len(embeddings[0]),  # Utilisation de vecteurs nuls pour récupérer des documents\n",
    "    n_results=1  # Limiter à 1 résultat pour récupérer la première ligne\n",
    ")\n",
    "\n",
    "# Afficher les résultats, en particulier le premier document\n",
    "print(\"Premier document:\")\n",
    "print(f\"IDs: {results['ids']}\")\n",
    "print(f\"Documents: {results['documents']}\")\n",
    "print(f\"Metadatas: {results['metadatas']}\")\n",
    "\n"
   ]
  },
  {
   "cell_type": "code",
   "execution_count": 14,
   "metadata": {},
   "outputs": [
    {
     "name": "stdout",
     "output_type": "stream",
     "text": [
      "[-0.046354301273822784, -0.022795911878347397, 0.06693904846906662, 0.014837532304227352, 0.05049677938222885, 0.01832733489573002, -0.053233444690704346, 0.003616438712924719, -0.06215368211269379, -0.03772963210940361, -0.0645771250128746, 0.03820159286260605, -0.021201657131314278, -0.04062708839774132, 0.05253129079937935, -0.050735849887132645, 0.0234296265989542, -0.0466858446598053, 0.003993561957031488, -0.004270418547093868, 0.09445533156394958, -0.032903339713811874, 0.058278732001781464, -0.06387335062026978, 0.05314430221915245, 0.06506576389074326, -0.012689601629972458, 0.037282198667526245, -0.013506348244845867, -0.0358133502304554, -0.04414188861846924, -0.0479794517159462, -0.028094831854104996, 0.007869802415370941, 0.06819146871566772, 0.02253865823149681, -0.04079688340425491, 0.0472920760512352, 0.03312340006232262, 0.05169094353914261, 0.008569756522774696, -0.13954280316829681, 0.009540442377328873, -0.018456684425473213, -0.021161772310733795, -0.00236634723842144, 0.03699487820267677, -0.044566936790943146, -0.033690404146909714, -0.08411090821027756, -0.0029296190477907658, -0.017158707603812218, 0.053834326565265656, 0.027487624436616898, 0.015690820291638374, -0.03060571849346161, 0.03795628622174263, -0.02849365770816803, 0.05774654820561409, 0.043957360088825226, 0.002038861159235239, -0.017304955050349236, -0.05348644778132439, 0.04502193629741669, 0.0881582498550415, -0.009342090226709843, -0.037750378251075745, 0.03335781395435333, -0.06375417858362198, -0.030214952304959297, 0.06287800520658493, -0.02288920059800148, -0.03988979756832123, -0.026375537738204002, 0.0021450696513056755, -0.03550264239311218, 0.038272783160209656, 0.00781959481537342, 0.06724239885807037, 0.018089519813656807, 0.01581224426627159, -0.0605757012963295, -0.0765334814786911, -0.05550292506814003, 0.002864898880943656, 0.0072668311186134815, -0.01209968701004982, -0.021585440263152122, -0.0347866490483284, -0.034125372767448425, 0.0006699779769405723, -0.024324651807546616, 0.03418441861867905, 0.10951932519674301, 0.015062208287417889, 0.055677380412817, -0.07094305008649826, -0.02558346465229988, -0.021912481635808945, 0.016133196651935577, 0.09210866689682007, 0.0369870699942112, -0.035561058670282364, -0.03626471385359764, 0.035712432116270065, -0.07681399583816528, -0.08442620933055878, 0.08567412197589874, 0.01898861862719059, -0.003663460025563836, -0.001348212594166398, -0.027036938816308975, -0.04546090215444565, -0.052469369024038315, -0.04225084185600281, -0.04186611622571945, -0.011057273484766483, -0.03234638273715973, 0.06293409317731857, 0.04595416411757469, 0.07335349172353745, 0.014645615592598915, -0.07888349890708923, 0.0831964761018753, -0.039776284247636795, -0.005883764009922743, -0.018102215602993965, 6.0636913651167965e-33, -0.048820238560438156, -0.06536935269832611, -0.005567287560552359, 0.023221829906105995, -0.026925615966320038, 0.13011838495731354, -0.0739901140332222, 0.04909350350499153, 0.0005707687232643366, 0.01227567344903946, -0.08906039595603943, 0.10364343225955963, 0.0374542735517025, 0.03707732632756233, -0.01031502615660429, -0.1085817739367485, -0.09387148916721344, -0.009311139583587646, 0.06009054183959961, -0.06135561689734459, 0.03907129541039467, 0.031658824533224106, 0.050143953412771225, 0.09058132767677307, 0.01633063517510891, -0.03998802602291107, 0.03034670278429985, -0.08525556325912476, 0.03283270448446274, 0.05045007914304733, -0.01806420274078846, 0.01595897413790226, 0.026168223470449448, 0.045412328094244, -0.05161366984248161, 0.029865017160773277, 0.008505399338901043, -0.06514875590801239, -0.011127281002700329, 0.04583229869604111, -0.08477065712213516, 0.043541353195905685, -0.015087159350514412, 0.019892359152436256, 0.021868286654353142, 0.027934057638049126, 0.05559542030096054, -0.013556413352489471, 0.010364755988121033, -0.00598389096558094, -0.006617218721657991, 0.07164620608091354, -0.0016893015708774328, -0.05396558344364166, 0.047508008778095245, -0.05842289328575134, -0.01235902402549982, -0.026604825630784035, 0.07594424486160278, -0.011141353286802769, -0.02632371336221695, 0.11866342276334763, -0.014578976668417454, -0.03976413980126381, -0.13425622880458832, 0.07343016564846039, -0.06237601861357689, 0.0031727002933621407, -0.10250848531723022, 0.08240485936403275, 0.01703384891152382, -0.05905647575855255, -0.05104155093431473, -0.018470413982868195, 0.04347244277596474, 0.0011742275673896074, -0.049808017909526825, 0.09487105160951614, 0.058614980429410934, -0.06942515075206757, 0.005797611083835363, -0.07323001325130463, 0.13311681151390076, -0.0908358171582222, -0.025206195190548897, -0.03717058151960373, -0.04055396094918251, -0.015443616546690464, 0.0149018419906497, -0.024707617238163948, 0.02599453367292881, 0.015028192661702633, 0.01410988811403513, 0.05554124340415001, 0.009838455356657505, -7.454148367873956e-33, -0.09458845853805542, 0.050079163163900375, -0.10166891664266586, 0.03357481211423874, 0.04554092884063721, 0.012985406443476677, -0.03954899311065674, -0.03103245422244072, 0.07637163251638412, 0.03162623569369316, -0.032582007348537445, -0.01282551884651184, 0.010152805596590042, 0.01592736504971981, -0.00851760245859623, -0.08548993617296219, 0.0006671481532976031, 0.0070594605058431625, -0.05377577617764473, 0.021604003384709358, 0.010671636089682579, 0.033174168318510056, -0.10913867503404617, 0.01565222255885601, -0.03283480927348137, 0.025046542286872864, 0.005786914844065905, -0.09436748176813126, 0.036867979913949966, 0.01615424081683159, -0.1133904680609703, 0.004821766633540392, -0.08377034217119217, 0.14834657311439514, -0.07398391515016556, 0.06845119595527649, 0.0359182246029377, -0.04617045074701309, -0.01257727574557066, -0.035626690834760666, 0.06411179900169373, -0.030732372775673866, 0.007719976361840963, 0.04209490492939949, -0.04967706277966499, -0.05559796094894409, -0.07220684736967087, -0.017763815820217133, 0.024799136444926262, 0.08833738416433334, -0.051986321806907654, 0.055188775062561035, -0.011967620812356472, -0.0021714435424655676, -0.12594828009605408, -0.018690556287765503, 0.010746989399194717, 0.04137431085109711, -0.04427900165319443, 0.0626484677195549, 0.016300946474075317, 0.04380400851368904, 0.06569982320070267, 0.012136448174715042, 0.03556076064705849, -0.027008624747395515, 0.029140101745724678, 0.005151401273906231, 0.0993414893746376, -0.06355956196784973, 0.04491754621267319, 0.03363567218184471, -0.043027520179748535, -0.12983612716197968, -0.06029822304844856, 0.0841897651553154, 0.007068836595863104, 0.0188117828220129, -0.05062553659081459, 0.0341867096722126, 0.03472823649644852, 0.05588672310113907, 0.04478030651807785, -0.04921354725956917, 0.014610880985856056, -0.03938448056578636, 0.04268774017691612, -0.04404895380139351, -0.032153841108083725, 0.03631465137004852, -0.06893068552017212, -0.07780653983354568, -0.02414834499359131, 0.049189694225788116, 0.007150683552026749, -5.811945413825015e-08, -0.018581967800855637, 0.06381691992282867, -0.01538100466132164, 0.02691594511270523, 0.04121973738074303, -0.011800008825957775, 0.05067189782857895, 0.01962299458682537, 0.026310570538043976, 0.023077363148331642, 0.15353496372699738, -0.01072581298649311, 0.00883118063211441, 0.03140978515148163, 0.023343922570347786, 0.015140091069042683, -0.026621883735060692, 0.09246257692575455, 0.0025116894394159317, 0.03008430451154709, 0.04169517755508423, 0.07126348465681076, 0.019920002669095993, 0.00616841996088624, -0.001954793930053711, 0.09621351957321167, 0.00839146226644516, 0.08390156179666519, 0.001605048542842269, 0.0181034617125988, -0.11418698728084564, -0.00800133217126131, -0.023998675867915154, -0.07607226818799973, -0.017582712695002556, 0.06046115607023239, -0.050752270966768265, 0.026236796751618385, -0.030812572687864304, -0.022861193865537643, -0.06734486669301987, -0.02129833959043026, 0.01901576854288578, 0.03377280384302139, 0.020444976165890694, -0.025732342153787613, -0.07681885361671448, 0.0006320098182186484, 0.09893765300512314, 0.026611609384417534, -0.018859809264540672, -0.05229921266436577, 0.004309465177357197, -0.04353456199169159, 0.05446399748325348, 0.00781713705509901, -0.07295289635658264, -0.0380895659327507, -0.0992613285779953, -0.05073835700750351, 0.039191197603940964, -0.03757835924625397, 0.004006503615528345, 0.11143314838409424]\n"
     ]
    }
   ],
   "source": [
    "print(df['chunks_embedded'].iloc[0])  # Affiche les embeddings du premier chunk\n"
   ]
  },
  {
   "cell_type": "code",
   "execution_count": 15,
   "metadata": {},
   "outputs": [
    {
     "data": {
      "text/plain": [
       "dict_keys(['ids', 'embeddings', 'documents', 'uris', 'data', 'metadatas', 'included'])"
      ]
     },
     "execution_count": 15,
     "metadata": {},
     "output_type": "execute_result"
    }
   ],
   "source": [
    "collection.get(include=['embeddings']).keys()"
   ]
  },
  {
   "cell_type": "code",
   "execution_count": 16,
   "metadata": {},
   "outputs": [],
   "source": [
    "dc = collection.get(include=['embeddings', \"documents\", \"metadatas\"])"
   ]
  },
  {
   "cell_type": "code",
   "execution_count": 17,
   "metadata": {},
   "outputs": [],
   "source": [
    "for k in ['ids', 'uris', 'data', 'included'] :\n",
    "    del dc[k]\n"
   ]
  },
  {
   "cell_type": "code",
   "execution_count": 18,
   "metadata": {},
   "outputs": [
    {
     "data": {
      "text/plain": [
       "dict_keys(['embeddings', 'documents', 'metadatas'])"
      ]
     },
     "execution_count": 18,
     "metadata": {},
     "output_type": "execute_result"
    }
   ],
   "source": [
    "dc.keys()"
   ]
  },
  {
   "cell_type": "code",
   "execution_count": 19,
   "metadata": {},
   "outputs": [],
   "source": [
    "dc[\"embeddings\"] = list(dc[\"embeddings\"])"
   ]
  },
  {
   "cell_type": "code",
   "execution_count": 20,
   "metadata": {},
   "outputs": [
    {
     "data": {
      "text/plain": [
       "dict"
      ]
     },
     "execution_count": 20,
     "metadata": {},
     "output_type": "execute_result"
    }
   ],
   "source": [
    "type(dc[\"metadatas\"][0])"
   ]
  },
  {
   "cell_type": "code",
   "execution_count": 21,
   "metadata": {},
   "outputs": [
    {
     "data": {
      "text/plain": [
       "{'id': '<6501090.1075843349674.JavaMail.evans@thyme>'}"
      ]
     },
     "execution_count": 21,
     "metadata": {},
     "output_type": "execute_result"
    }
   ],
   "source": [
    "dc[\"metadatas\"][0]"
   ]
  },
  {
   "cell_type": "code",
   "execution_count": 22,
   "metadata": {},
   "outputs": [],
   "source": [
    "dc[\"metadatas\"] = list(map(lambda x : x[\"id\"], dc[\"metadatas\"]))"
   ]
  },
  {
   "cell_type": "code",
   "execution_count": 23,
   "metadata": {},
   "outputs": [
    {
     "data": {
      "text/plain": [
       "5770"
      ]
     },
     "execution_count": 23,
     "metadata": {},
     "output_type": "execute_result"
    }
   ],
   "source": [
    "len(dc[\"documents\"])\n"
   ]
  },
  {
   "cell_type": "code",
   "execution_count": 24,
   "metadata": {},
   "outputs": [
    {
     "data": {
      "text/plain": [
       "5770"
      ]
     },
     "execution_count": 24,
     "metadata": {},
     "output_type": "execute_result"
    }
   ],
   "source": [
    "len(dc[\"metadatas\"])"
   ]
  },
  {
   "cell_type": "code",
   "execution_count": 25,
   "metadata": {},
   "outputs": [],
   "source": [
    "res = pd.DataFrame.from_dict(dc)"
   ]
  },
  {
   "cell_type": "code",
   "execution_count": 26,
   "metadata": {},
   "outputs": [
    {
     "data": {
      "text/html": [
       "<div>\n",
       "<style scoped>\n",
       "    .dataframe tbody tr th:only-of-type {\n",
       "        vertical-align: middle;\n",
       "    }\n",
       "\n",
       "    .dataframe tbody tr th {\n",
       "        vertical-align: top;\n",
       "    }\n",
       "\n",
       "    .dataframe thead th {\n",
       "        text-align: right;\n",
       "    }\n",
       "</style>\n",
       "<table border=\"1\" class=\"dataframe\">\n",
       "  <thead>\n",
       "    <tr style=\"text-align: right;\">\n",
       "      <th></th>\n",
       "      <th>embeddings</th>\n",
       "      <th>documents</th>\n",
       "      <th>metadatas</th>\n",
       "    </tr>\n",
       "  </thead>\n",
       "  <tbody>\n",
       "    <tr>\n",
       "      <th>0</th>\n",
       "      <td>[-0.046354301273822784, -0.022795911878347397,...</td>\n",
       "      <td>FYI. Commentary calls George W. Bush task gett...</td>\n",
       "      <td>&lt;6501090.1075843349674.JavaMail.evans@thyme&gt;</td>\n",
       "    </tr>\n",
       "    <tr>\n",
       "      <th>1</th>\n",
       "      <td>[0.018535984680056572, -0.0205399040132761, 0....</td>\n",
       "      <td>inauguration, President Bush's electricity pol...</td>\n",
       "      <td>&lt;6501090.1075843349674.JavaMail.evans@thyme&gt;</td>\n",
       "    </tr>\n",
       "    <tr>\n",
       "      <th>2</th>\n",
       "      <td>[0.07399576902389526, 0.06288360804319382, 0.0...</td>\n",
       "      <td>Energy Regulatory Commission (FERC) signals FE...</td>\n",
       "      <td>&lt;6501090.1075843349674.JavaMail.evans@thyme&gt;</td>\n",
       "    </tr>\n",
       "    <tr>\n",
       "      <th>3</th>\n",
       "      <td>[0.03702124208211899, -0.002088540932163596, 0...</td>\n",
       "      <td>California. Skyrocketing retail electric price...</td>\n",
       "      <td>&lt;6501090.1075843349674.JavaMail.evans@thyme&gt;</td>\n",
       "    </tr>\n",
       "    <tr>\n",
       "      <th>4</th>\n",
       "      <td>[-0.04222314432263374, 0.07322569191455841, 0....</td>\n",
       "      <td>fuses bombs lit passage Energy Policy Act (EPA...</td>\n",
       "      <td>&lt;6501090.1075843349674.JavaMail.evans@thyme&gt;</td>\n",
       "    </tr>\n",
       "    <tr>\n",
       "      <th>...</th>\n",
       "      <td>...</td>\n",
       "      <td>...</td>\n",
       "      <td>...</td>\n",
       "    </tr>\n",
       "    <tr>\n",
       "      <th>5765</th>\n",
       "      <td>[-0.07114706188440323, 0.0022635660134255886, ...</td>\n",
       "      <td>(E-mail)'; 'Cody Carter (E-mail)'; 'Curt Hatto...</td>\n",
       "      <td>&lt;22527048.1075843384871.JavaMail.evans@thyme&gt;</td>\n",
       "    </tr>\n",
       "    <tr>\n",
       "      <th>5766</th>\n",
       "      <td>[-0.030311042442917824, -0.06628071516752243, ...</td>\n",
       "      <td>Lednicky (E-mail)'; 'Marty McFadden (E-mail)';...</td>\n",
       "      <td>&lt;22527048.1075843384871.JavaMail.evans@thyme&gt;</td>\n",
       "    </tr>\n",
       "    <tr>\n",
       "      <th>5767</th>\n",
       "      <td>[-0.029136644676327705, -0.06298520416021347, ...</td>\n",
       "      <td>committee soon possible meet discuss direction...</td>\n",
       "      <td>&lt;22527048.1075843384871.JavaMail.evans@thyme&gt;</td>\n",
       "    </tr>\n",
       "    <tr>\n",
       "      <th>5768</th>\n",
       "      <td>[-0.05355614051222801, -0.02812141552567482, -...</td>\n",
       "      <td>also set agenda Thursday person meeting. Thurs...</td>\n",
       "      <td>&lt;22527048.1075843384871.JavaMail.evans@thyme&gt;</td>\n",
       "    </tr>\n",
       "    <tr>\n",
       "      <th>5769</th>\n",
       "      <td>[-0.048051025718450546, -0.03116493485867977, ...</td>\n",
       "      <td>Producers Association (916) 448-9499 - Public ...</td>\n",
       "      <td>&lt;22527048.1075843384871.JavaMail.evans@thyme&gt;</td>\n",
       "    </tr>\n",
       "  </tbody>\n",
       "</table>\n",
       "<p>5770 rows × 3 columns</p>\n",
       "</div>"
      ],
      "text/plain": [
       "                                             embeddings  \\\n",
       "0     [-0.046354301273822784, -0.022795911878347397,...   \n",
       "1     [0.018535984680056572, -0.0205399040132761, 0....   \n",
       "2     [0.07399576902389526, 0.06288360804319382, 0.0...   \n",
       "3     [0.03702124208211899, -0.002088540932163596, 0...   \n",
       "4     [-0.04222314432263374, 0.07322569191455841, 0....   \n",
       "...                                                 ...   \n",
       "5765  [-0.07114706188440323, 0.0022635660134255886, ...   \n",
       "5766  [-0.030311042442917824, -0.06628071516752243, ...   \n",
       "5767  [-0.029136644676327705, -0.06298520416021347, ...   \n",
       "5768  [-0.05355614051222801, -0.02812141552567482, -...   \n",
       "5769  [-0.048051025718450546, -0.03116493485867977, ...   \n",
       "\n",
       "                                              documents  \\\n",
       "0     FYI. Commentary calls George W. Bush task gett...   \n",
       "1     inauguration, President Bush's electricity pol...   \n",
       "2     Energy Regulatory Commission (FERC) signals FE...   \n",
       "3     California. Skyrocketing retail electric price...   \n",
       "4     fuses bombs lit passage Energy Policy Act (EPA...   \n",
       "...                                                 ...   \n",
       "5765  (E-mail)'; 'Cody Carter (E-mail)'; 'Curt Hatto...   \n",
       "5766  Lednicky (E-mail)'; 'Marty McFadden (E-mail)';...   \n",
       "5767  committee soon possible meet discuss direction...   \n",
       "5768  also set agenda Thursday person meeting. Thurs...   \n",
       "5769  Producers Association (916) 448-9499 - Public ...   \n",
       "\n",
       "                                          metadatas  \n",
       "0      <6501090.1075843349674.JavaMail.evans@thyme>  \n",
       "1      <6501090.1075843349674.JavaMail.evans@thyme>  \n",
       "2      <6501090.1075843349674.JavaMail.evans@thyme>  \n",
       "3      <6501090.1075843349674.JavaMail.evans@thyme>  \n",
       "4      <6501090.1075843349674.JavaMail.evans@thyme>  \n",
       "...                                             ...  \n",
       "5765  <22527048.1075843384871.JavaMail.evans@thyme>  \n",
       "5766  <22527048.1075843384871.JavaMail.evans@thyme>  \n",
       "5767  <22527048.1075843384871.JavaMail.evans@thyme>  \n",
       "5768  <22527048.1075843384871.JavaMail.evans@thyme>  \n",
       "5769  <22527048.1075843384871.JavaMail.evans@thyme>  \n",
       "\n",
       "[5770 rows x 3 columns]"
      ]
     },
     "execution_count": 26,
     "metadata": {},
     "output_type": "execute_result"
    }
   ],
   "source": [
    "res"
   ]
  },
  {
   "cell_type": "code",
   "execution_count": 26,
   "metadata": {},
   "outputs": [],
   "source": [
    "res.to_csv(\"GIST-small-Embedding-v0.csv\",  index=False)"
   ]
  },
  {
   "cell_type": "code",
   "execution_count": 27,
   "metadata": {},
   "outputs": [
    {
     "name": "stdout",
     "output_type": "stream",
     "text": [
      "//\n",
      "\n",
      "FYI. Commentary calls George W. Bush task getting competition electricity markets. Jim ----- Forwarded James Steffes/NA/Enron 02/06/2001 08:06 ----- \"PennFuture\" <pennfuture@pennfuture.org> 02/05/2001 03:33 PM Please respond \"PennFuture\" To: <Undisclosed-Recipient:@mailman.enron.com;> cc: Subject: PennFuture's E-cubed - Breaking Box PennFuture's E-cubed commentary biweekly email publication concerning current themes trends energy market. February 5, 2001 Vol. 3, No. 3 Breaking Box Two weeks\n",
      "//\n",
      "\n",
      "//\n",
      "\n",
      "inauguration, President Bush's electricity policy already emerging crucible California characterized obedience free market ideology federalism confines federal government limited, backseat role. told California's crisis isolated event, result California's unique mistakes. view, federal government neither contributed crisis major role play solving it. Wholesale market caps level declared inappropriate intrusion free markets make things worse. Moreover, appointment Curt Hebert new Chairman Federal\n",
      "//\n",
      "\n",
      "//\n",
      "\n",
      "Energy Regulatory Commission (FERC) signals FERC assert ensure wholesale electricity markets genuinely competitive principles open access comparability legal fictions. Finally, environmental regulation fingered primary obstacle adequate supplies reasonable prices. emerging policy begins misdiagnosis. fact, mess California West roots huge policy mistakes made state federal governments. One federal mistake 1995 FERC decision blocked competitive solicitation 1400 megawatts new generation\n",
      "//\n",
      "\n",
      "//\n",
      "\n",
      "California. Skyrocketing retail electric prices states due wholesale market failure soon make clear nation's electricity problems start Washington DC failed wholesale market policies. hot seat shift Governor Gray Davis federal officials become apparent strict obedience free market ideology limited role federal authority not?cure?past mistakes electric policy. President Bush inherits America wholesale electricity markets isolated dysfunctional - ticking time bombs planted beneath Presidency.\n",
      "//\n",
      "\n",
      "//\n",
      "\n",
      "fuses bombs lit passage Energy Policy Act (EPACT) 1992, deregulated price generation wholesale electric market left FERC job creating genuinely competitive wholesale market would restrain prices competitive pressures. neither FERC Congress ensured free movement electricity interstate commerce workably competitive markets since passage EPACT. Market power abuses rife, parts country even benefit independent system operator ensure nondiscrimination open access transmission grids. Even so, FERC\n",
      "//\n",
      "\n",
      "//\n",
      "\n",
      "compel formation utility membership independent system operators. Worse yet, face opposition states several powerful utilities, Congress fiddled thumbs national restructuring legislation five years required transition retail competition every state. failing open retail markets, Congress ensured wholesale electricity markets cannot effectively disciplined demand changes long-term retail contracts. Meanwhile, states behave electric islands immune results failed federal stewardship wholesale\n",
      "//\n",
      "\n",
      "//\n",
      "\n",
      "markets. Foolishly, become principal stumbling block optimally sized regional power markets encourage FERC timidity banging drums states' rights Capitol Hill. day, 58,000 megawatts control, PJM largest wholesale market free-trade zone electricity country amounts 6 percent nation's electric industry. remaining 94 percent industry divided hundreds wholesale markets unique rules pricing operation. nine years EPACT, bombs begun go off, first California, disastrous state policies mixed federal\n",
      "//\n",
      "\n",
      "//\n",
      "\n",
      "mistakes created spectacular explosion, Washington Idaho, two states passed retail restructuring laws, retail rates going much 84 percent 29 percent respectively. matter time electricity time bombs explode states. reality federal government's actions inaction made problems worse California elsewhere. Denying fact thwarts efforts fix problem, attacking environmental protection endlessly repeating free market states' rights ideology. Hopefully heresy must said: Strong federal action wise\n",
      "//\n",
      "\n",
      "//\n",
      "\n",
      "intervention required wholesale markets stabilized made competitive. First, federal government must organize country 10 12 regional wholesale electric markets, administered Independent System Operator legal duty necessary authority ensure market reliable genuinely competitive. ISO must clear responsibility identify prevent market power abuses order protect public confidence electricity markets prevent autopsies like done California's effort deregulate. Second, absolutely crucial formation\n",
      "//\n",
      "\n",
      "//\n",
      "\n",
      "competitive electricity markets, federal government require every state equip retail customers time-of-use metering appliance control devices (thermostat resetting others) increase price elasticity demand. Third, electric markets cannot competitive either wholesale retail market remain closed. customers allowed choose electricity suppliers certain, specific date. Fourth, fuel diversity clean energy clear value markets - federal restructuring legislation promote fuel diversity well address host\n",
      "//\n",
      "\n",
      "//\n",
      "\n",
      "major environmental problems establishing reasonable renewable energy requirements. Fifth, federal government must face fact periods peak demand system emergency conditions, suppliers currently almost total pricing power high wholesale price caps immediate necessity. times, price curve looks like \"J,\" prices unlimited demand changes climbing straight up. three wholesale markets administered viable independent system operators - PJM, New York, New England - operate $1,000 per megawatt-hour price\n",
      "//\n",
      "\n",
      "//\n",
      "\n",
      "cap. use caps committed making competition work, demand currently responsive price emerging markets vulnerable strategic bidding could destroy public support competition. sternest test leadership modern politician face friends greatest act friendship save friend himself. President could lessen need caps telling friends energy industry behaving like Marxist caricature businessmen need given enough rope order hang themselves. wholesale energy suppliers - persisting wholesale markets cannot limit\n",
      "//\n",
      "\n",
      "//\n",
      "\n",
      "prices competition demand response charge $1,000, $2,000, $3,000 per megawatt-hour, prices greatly exceed cost profit requirement - triggered public reaction could eventually crush them. example, California, recently passed emergency state statute \"suspends\" retail direct access many communities understandably beginning process forming municipal utilities. President must remind wholesale energy suppliers need restraint America's dysfunctional wholesale electricity markets repaired. Americans\n",
      "//\n",
      "\n",
      "//\n",
      "\n",
      "deserve true, functional, clean affordable competitive electric markets. energy bills often consume least 10 percent average family's income, 50 percent poor household's take-home pay, Americans little tolerance high energy costs. And, Jimmy Carter discovered, families carry lunch buckets hold people government responsible energy shortages price spikes. President Bush seems sense energy threatens Presidency - electricity alone could downfall. Perhaps talent political survival yet cause President\n",
      "//\n",
      "\n",
      "//\n",
      "\n",
      "change course electric policy break confined ideological box appears verge entering. fate presidency, energy future, may hang balance. E-cubed available reprint newspapers publications. Authors available print broadcast. Support E-cubed becoming member PennFuture - visit secure online membership page www.pennfuture.org clicking \"Support Work.\" PennFuture, offices Harrisburg, Philadelphia Pittsburgh, statewide public interest membership organization, advances policies protect improve state's\n",
      "//\n",
      "\n",
      "//\n",
      "\n",
      "environment economy. PennFuture's activities include litigating cases regulatory bodies local, state federal courts, advocating advancing legislative action state federal level, public education assisting citizens public advocacy. - Vol3No3_2501.doc\n",
      "//\n",
      "\n",
      "//\n",
      "\n",
      "Telecommunications Reports presents . . . . . TR's State NewsWire February 6, 2001 8 A.M. Edition STATES ARIZONA -- Bill would end antitrust exemption competitive services CONN. -- DPUC nixes service reclassification, OKs rest Verizon `alt reg' plan TEXAS -- Counties would gain authority wireless telecom facilities bill TENNESSEE -- Bill would limit utilities' charges pole attachments NORTH DAKOTA -- Legislators fight extension Internet tax moratorium OREGON -- House OKs digital signature bill\n",
      "//\n",
      "\n",
      "//\n",
      "\n",
      "MICHIGAN -- Local calling areas become larger Ameritech, Verizon customers KENTUCKY -- PSC plans meeting discuss `N11' pricing issues ILLINOIS -- Rep. Franks takes aim telemarketers MISSISSIPPI -- Internet child protection bills advance ARIZONA -- Bill would change excise tax funds emergency telecom services COMPETITIVE LOCAL ENTRY ARIZONA Bill would end antitrust exemption competitive services Arizona Legislature considering bill would remove competitive telecom service exemption Uniform State\n",
      "//\n",
      "\n",
      "//\n",
      "\n",
      "Antitrust Act. Current law exempts conduct activity public service corporation holding certification public convenience necessity Act. staff Democratic Caucus explained TR HB 2447 would apply competitive services, companies whole. example, bill would affect services like Caller ID, call waiting, three-way calling. staff added similar bill passed last year removed competitive electricity generation service antitrust exemption. HB 2447, introduced Rep. Bill Brotherton (D., District 20), awaits\n",
      "//\n",
      "\n",
      "//\n",
      "\n",
      "consideration House Energy, Utilities, Technology Committee, House Commerce Economic Development Committee, House Rules Committee. ALTERNATIVE REGULATION CONNECTICUT DPUC nixes service reclassification, OKs rest Verizon `alt reg' plan Department Public Utility Control approved Verizon New York, Inc.'s revised proposed alternative regulation plan condition company remove certain service reclassification provisions. Connecticut law requires incumbent local exchange carrier's (ILEC's) services\n",
      "//\n",
      "\n",
      "//\n",
      "\n",
      "classified competitive, noncompetitive, emerging-competitive. Verizon proposed new services new service packages offered plan would \"proposed competitive, subject department's acceptance.\" Verizon also suggested designating toll service offerings competitive department already classified services competitive Southern New England Telephone Co. (SNET), state's ILEC. DPUC said statute requires specific notice hearing procedures change classification ILEC's service. department decided roll statutory\n",
      "//\n",
      "\n",
      "//\n",
      "\n",
      "reclassification procedure tariff procedures. Turning reclassification toll services, department said \"although Verizon's presence Connecticut dwarfed SNET's presence,\" Verizon incumbent telco two territories \"arguably maintains presence SNET compared competitive local exchange companies.\" DPUC concluded Verizon can't use revised \"alt reg\" plan \"circumvent\" statutory reclassification requirements. also concluded Verizon provided evidence detailing status level competition territories. department\n",
      "//\n",
      "\n",
      "//\n",
      "\n",
      "found rest plan acceptable, including elimination $2.07 touch tone charge residential customers, representing $830,000 revenue reduction 3-year life plan. revised plan also commits Verizon previously established service-quality requirements. department told Verizon resubmit plan, minus service reclassification provisions, Feb. 15. (Docket no. 99-03-06, Application New York Telephone Co. Alternative Regulation) STATE & LOCAL GOVERNMENT TEXAS Counties would gain authority wireless telecom\n",
      "//\n",
      "\n",
      "//\n",
      "\n",
      "facilities bill Rep. Robert Cook (D., District 28) introduced bill would give counties authority regulate wireless communications facilities, including collocated shared facilities. HB 1148 would allow counties require companies seek permits constructing, expanding, removing tower facility. bill also would authorize counties impose fees cover cost regulating facilities. counties would able regulate height, lighting, location, removal towers facilities. HB 1148 additionally establishes set\n",
      "//\n",
      "\n",
      "//\n",
      "\n",
      "procedures person must complete constructing wireless communications facility. FUTURE REGULATION TENNESSEE Bill would limit utilities' charges pole attachments Sen. William C. Clabough (R., District 8) introduced SB 1217 restrict amount utilities could request receive telephone companies cable TV providers attaching facilities utilities' poles. Utilities would comply SB 1217 applicable laws granting permission pole attachments. bill also would require utilities offer access poles conduits\n",
      "//\n",
      "\n",
      "//\n",
      "\n",
      "located public rights-of-way telephone company cable TV provider requested access. Utilities could deny requests pole attachments access technically viable. Telephone companies cable TV providers refused permission attach facilities utility's poles could file lawsuit declaratory judgment injunction, both. bill's text available http://www.legislature.state.tn.us/bills/currentga/BILL/SB1217.pdf. INTERNET NORTH DAKOTA Legislators fight extension Internet tax moratorium resolution introduced House\n",
      "//\n",
      "\n",
      "//\n",
      "\n",
      "would urge U.S. Congress reject attempt extend Internet Tax Freedom Act's moratorium state local taxes Internet access electronic commerce transactions. moratorium expires Oct. 21. Reps. Francis Wald (R., District 37), George Keiser (R., District 47), Mike Timm (R., District 5) Sens. Judy Lee (R., District 13), Tim Mathern (D., District 11), Herb Urlacher (R., District 36) introduced HCR 3012. INTERNET OREGON House OKs digital signature bill House approved bill require Department Administrative\n",
      "//\n",
      "\n",
      "//\n",
      "\n",
      "Services adopt rules use digital signature state agencies. HB 2040 would require adoption rules ensure adequate integrity, security, confidentiality state agency e-commerce transactions. rules also would need ensure transactions could audited. Joint Legislative Committee Information Management Technology requested introduction HB 2040 behalf Oregon Internet Commission. NETWORK MANAGEMENT MICHIGAN Local calling areas become larger Ameritech, Verizon customers Public Service Commission yesterday\n",
      "//\n",
      "\n",
      "//\n",
      "\n",
      "determined local calling area defined \"home exchange customer's local access line assigned specified maps boundary descriptions incumbent local telephone service provider's tariffs.\" commission adopted definition pursuant provision recent amendment Michigan Telecommunications Act. (7/7/00 p.m.) provision requires calls made calling areas adjacent caller's local calling area considered billed local calls. PSC determined statutory provision create new service thus prohibits setting rate expanded\n",
      "//\n",
      "\n",
      "//\n",
      "\n",
      "local calling new service. Carriers must charge rate charging local calls. may make adjustments customers' access areas (and thus associated access charges) rate groups basic local exchange service. commission's order available http://cis.state.mi.us/cgi-bin/mpsc/vieworder.cgi?filename=/mpsc/orders/comm/2 001/u-12515b.htm. (Case nos. U-12515, U-12528) CUSTOMER-AFFECTING KENTUCKY PSC plans meeting discuss `N11' pricing issues Public Service Commission scheduled Feb. 13 conference Cincinnati Bell\n",
      "//\n",
      "\n",
      "//\n",
      "\n",
      "Telephone Co. Kentucky Transportation Cabinet discuss pricing issues related \"N11\" abbreviated dialing codes. Specifically, PSC intends address proposed contract Cincinnati Bell Transportation Cabinet converting access travel information services \"211\" code \"511\" code. addition, Cincinnati Bell expected defend proposed price providing 511 service cabinet. November 1997 PSC required Cincinnati Bell allocate 211 dialing code cabinet trial period. Then, July 2000 FCC ruled 511 dialing code used\n",
      "//\n",
      "\n",
      "//\n",
      "\n",
      "travel information. Last fall PSC assigned 511 dialing code Cincinnati Bell's service area state's transportation cabinet serve travel safety information service. (11/1/00 a.m.) January PSC reopened investigation allocation N11 dialing codes response BellSouth Telecommunications, Inc.'s Dec. 11, 2000, filing tariffs provide 511, 211, \"711\" services. (1/16/01 a.m.) (Administrative case no. 343 - Matter Investigation Assignment Abbreviated N11 Dialing Codes) CUSTOMER-AFFECTING ILLINOIS Rep. Franks\n",
      "//\n",
      "\n",
      "//\n",
      "\n",
      "takes aim telemarketers Rep. Jack D. Franks (D., Woodstock) introduced HB 570 require telemarketers register attorney general, obtain surety bond, maintain certain business records. measure would require AG charge \"reasonable\" application renewal fees. Telemarketers would disclose identity, purpose calling, nature goods services offered telephone solicitation. would provide written notice customers 10 days completing sale. AG would authority enforce provisions legislation unawful act state's\n",
      "//\n",
      "\n",
      "//\n",
      "\n",
      "Consumer Fraud Deceptive Business Practices Act. INTERNET MISSISSIPPI Internet child protection bills advance Two bills aim protect children sexual exploitation Internet passed first hurdles Legislature. HB 1140, introduced Rep. Jamie Franks Jr. (D., District 19), passed House. bill would ban use Internet transport visual depictions children engaging sexually explicit acts. (1/22/01 a.m.) SB 2146, sponsored Sen. Terry C. Burton (D., District 31), cleared Senate. bill would prohibit using\n",
      "//\n",
      "\n",
      "//\n",
      "\n",
      "Internet distribute \"indecent materials\" intent seducing minor. (1/23/01 a.m.) NETWORK MANAGEMENT ARIZONA Bill would change excise tax funds emergency telecom services Sen. Susan Gerard (R., District 18) introduced bill would alter tax levied fund state emergency telecom services fund. SB 1504 would levy tax 37.5 cents per month activated wireline wireless service account. current law, tax wireline carriers percentage gross proceeds, wireless carriers assessed flat tax. SB 1504 awaits\n",
      "//\n",
      "\n",
      "//\n",
      "\n",
      "consideration Senate Finance Committee Senate Rules Committee. Federal law prohibits duplication form, including electronic, without permission publisher. TR's State NewsWire Copyright 1998, 1999, 2000 Telecommunications Reports International, Inc. (ISSN 1082-9350) transmitted business day 8 a.m. 2 p.m., except holidays. Telecommunications Reports International, Inc. 1333 H St. NW, Suite 100-E Washington, DC 20005-4707 Associate Editor Online Publications: Jennifer Erschen, E-mail:\n",
      "//\n",
      "\n",
      "//\n",
      "\n",
      "jerschen@tr.com Senior Legislative & Regulatory Analyst: Gayle Kansagor, E-mail: gkansagor@tr.com Senior Research Analyst: Steve Arlowe, E-mail: sarlowe@tr.com Senior Analyst: Barney McManigal, E-mail: bmcmanigal@tr.com Account Services: Eileen Callahan (202) 312-6116, (202) 842-3023 (fax) E-mail: ecallahan@tr.com\n",
      "//\n",
      "\n",
      "//\n",
      "\n",
      "Lexis-Nexis trusted source real-time archival information 28 years. Continuing Lexis-Nexis tradition providing comprehensive credible information marketplace, nexis.comSM Web interface released corporate subscribers Fall 2000. determine applicability interface graduate schools business, Lexis-Nexis entered pilot program select leading business schools. pilot program participant University California - Berkeley, Haas School Business, Lexis Nexis provided unlimited access nexis.com service. want\n",
      "//\n",
      "\n",
      "//\n",
      "\n",
      "return opinion well nexis.com service meets expectations. best understand nexis.com service meets needs, Lexis-Nexis chosen independent market research firm, Shugoll Research, conduct research study pilot program participants like yourself. strictly market research absolutely sales effort involved. research used identify ways nexis.com service improved. urge participate research. Focus group research scheduled for: February 12, 2001 4 PM Haas School Business qualified participants receive\n",
      "//\n",
      "\n",
      "//\n",
      "\n",
      "honorarium token appreciation time opinions. answers kept strictly confidential. interested participating, simply learning important research, please contact Shugoll Research one two ways: 1. E-mail Shugoll Research research@shugollresearch.com. Please include first name, telephone number best time day reach representative Shugoll Research contact you. 2. Call Shugoll Research toll free 800-322-4499 identify someone invited participate nexis.com research. Thank advance participation important\n",
      "//\n",
      "\n",
      "//\n",
      "\n",
      "research. Maegan Simpson Research Associate Shugoll Research 7475 Wisconsin Ave. Suite 200 Bethesda, MD 20814 (301) 656-0310 x109 www.shugollresearch.com\n",
      "//\n",
      "\n",
      "//\n",
      "\n",
      "Jeff kind enough show get additional balance sheet items needed finish financial ratio time sheet analysis (I missed selected financial statement table). Please see revised spreadsheet financial ratios pro forma cash flow statement next fiscal year. ********************************************** Mark D. Guinney, CFA Consultant Watson Wyatt Investment Consulting 345 California Street, Ste. 1400 San Francisco, CA 94104 (415) 733-4487 ph. (415) 733-4190 fax - HD.xls\n",
      "//\n",
      "\n",
      "//\n",
      "\n",
      "Enron Proposes $700 Mln Venezuela LNG Invest 3 Yrs Dow Jones, 02/06/01 Market Talk/IN: India Bonds Up; Pft-Taking May Emerge Dow Jones, 02/06/01 Rating Agencies Tools MNCs: Maharashtra Economic Times, 02/06/01 Enron Walks Proposed JV Ispat Business Standard, 02/06/01 Generalitat Stops Breather Enron Plant Expansion, 02/06/01 Profits Escape Owner Orange County, Calif., Electricity Generators Knight-Ridder Tribune, 02/06/01 California Power Crisis Creates Losses Out-of-State Energy Firms\n",
      "//\n",
      "\n",
      "//\n",
      "\n",
      "Knight-Ridder Tribune, 02/06/01 El Paso Energy Plans LNG Terminals --- Company Spend $1.5 Billion Facilities Supply U.S Mexico --- Projects Would Cost $250 Million $350 Million Asian Wall Street Journal, 02/06/01 Enron Proposes $700 Mln Venezuela LNG Invest 3 Yrs 02/06/2001 Dow Jones Energy Service (Copyright (c) 2001, Dow Jones & Company, Inc.) CARACAS -(Dow Jones)- U.S. energy company Enron Corp. (ENE) proposed three year, $700 million investment Venezuela's liquid natural gas sector, Domingo\n",
      "//\n",
      "\n",
      "//\n",
      "\n",
      "Marsicobetre, vice president state oil company Petroleos de Venezuela S.A, (E.PVZ), PdVSA, said Tuesday. proposal, facility Jose Industrial Complex eastern Venezuela PdVSA holding 25% venture, still approved President Hugo Chavez, Marsicobetre said. give timeframe approval. plant produce 2.1 million tons per year first phase, according local media reports. -Dow Jones Newswires, 582 564 1339; venezuela@dowjones.com MARKET TALK/IN: India Bonds Up; Pft-Taking May Emerge 02/06/2001 Dow Jones\n",
      "//\n",
      "\n",
      "//\n",
      "\n",
      "International News (Copyright (c) 2001, Dow Jones & Company, Inc.) 1624 Dow Jones] Enron India's decision invoke central government financial guarantee recover millions rupees unpaid power bills, accrued Maharashtra State Electricity Board (MSEB), unlikely harm overall foreign direct investor sentiment, says analyst; \"it's unlikely harm FDI...investors see issue two parties (Enron's Dabhol Power Co MSEB) taking long-term perspective;\" also unlikely affect foreign portfolio investment. However,\n",
      "//\n",
      "\n",
      "//\n",
      "\n",
      "analysts say may damp sentiment power sector.(SEP) Ratings agencies tools MNCs: Maharashtra Girish Kuber 02/06/2001 Economic Times Copyright (C) 2001 Economic Times; Source: World Reporter (TM) MUMBAI MAHARASHTRA government Monday denounced credit rating agencies Crisil ICRA downgrading state's ratings. \"We reject judgement,\" government said. \"These agencies considered Enron's case refused honour contractual obligations choice. strategic decision pay Enron want scrap power purchase agreement\n",
      "//\n",
      "\n",
      "//\n",
      "\n",
      "state company,\" Jayant Patil, state's finance minister told ET Monday. \"Our decision pay Enron nothing state's finances,\" clarified. Significantly, first time since Enron controversy surfaced state government put record non-payment nothing financial situation. exclusive interview ET immediately credit rating agencies downgraded state's rating visibly agitated finance minister said: \"We reject views\". According Patil, companies looking Enron-issue. \"They lack balanced approach interpretation\n",
      "//\n",
      "\n",
      "//\n",
      "\n",
      "wrong,\" said added: \"No state corporation defaulted payments. sound position.\" \"This unfortunate decision based faulty reasoning,\" said Patil. \"The state government already announced decision appoint experts committee review Enron project. committee recommends keep existing PPA alive, pay Enron,\" said. \"If agencies keep ignoring positive aspects state, must say tools hands multinationals,\" Patil said. \"We accept judgments,\" said. Enron walks proposed JV Ispat Arijit De & Ravindran Mumbai\n",
      "//\n",
      "\n",
      "//\n",
      "\n",
      "02/06/2001 Business Standard 1 Copyright (c) Business Standard Global energy major Enron decided walk proposed joint venture Ispat group set 354 mw power project. project, Ispat Energy, captive plant Ispat Industries would significantly brought production cost steel major. Ispat Energy earlier part Ispat Industries, later hived following ballooning project costs. Enron pick 49 per cent equity venture cost Rs 100 crore, Ispat hold balance stake. Confirming development, Enron spokesman said: \"We\n",
      "//\n",
      "\n",
      "//\n",
      "\n",
      "confirm Enron investing Ispat Energy. also advised Ispat issue.\" Enron's decision likely body-blow Ispat power costs state grid would almost double proposed captive power plant. Generalitat stops breather Enron plant (La Generalitat se toma un respiro ante la central de Enron) 02/06/2001 Expansion Copyright(C) 2001 Abstracted Expansion Spanish, Source: World Reporter (TM) Local protests forced temporary stoppage construction power plant Tarragona Spanish region Catalonia. Residents area\n",
      "//\n",
      "\n",
      "//\n",
      "\n",
      "complaining \"energy waste always dumped south region\". area, affected national hydrological plan, already two nuclear power plants, numerous initiatives connected wind energy two combined cycle plant projects, one US multinational Enron Corp another Spanish natural gas company Gas Natural. Enron plan build Spain's biggest combined cycle power plant last straw. Residents' reaction forced regional government (Generalitat) halt project, given go-ahead next couple days, two three months. US company\n",
      "//\n",
      "\n",
      "//\n",
      "\n",
      "believe plant, would cost 600m euros (Pta100bn) would total power 1,600 megawatts, danger. Profits Escape Owner Orange County, Calif., Electricity Generators James B. Kelleher 02/06/2001 KRTBN Knight-Ridder Tribune Business News: Orange County Register - California Copyright (C) 2001 KRTBN Knight Ridder Tribune Business News; Source: World Reporter (TM) California's energy crisis continues generate windfall profits many out-of-state companies sell power benefiting. Williams Cos., Tulsa-based\n",
      "//\n",
      "\n",
      "//\n",
      "\n",
      "energy trader gas pipeline operator, said Monday fourth-quarter earnings continuing operations jumped almost 300 percent thanks, part, sky-high prices company able charge electricity California Western states. robust results Williams, power plants California, came expense AES Corp. Arlington, Va.-based AES owns three generating plants Southern California, including Huntington Beach Long Beach. Back skyrocketing electricity prices heralded current energy crisis, AES inked contract essentially\n",
      "//\n",
      "\n",
      "//\n",
      "\n",
      "lets Williams buy electricity produced three AES California plants predetermined fee. deal, Williams delivers natural gas plants, AES turns gas electricity Williams sells electricity state's grid wherever fetch highest price. \"We're basically paid conversion,\" says Ed Blackford, manager Huntington Beach AES plant. California's electricity prices skyrocketed, AES California plants generated big bucks Williams nothing headaches AES. fact, AES actually lost $11 million state fourth quarter profit\n",
      "//\n",
      "\n",
      "//\n",
      "\n",
      "generated Williams contract wiped $17 million fine AES pay pumping illegal emissions Southern California's air. Williams, hand, said Monday earnings continuing operations rose $259.3 million fourth quarter, $66.1 million quarter last year. company said big increase earnings, beat Wall Street's expectations mile, reflected \"substantially higher profits energy marketing trading business.\" existing AES California capacity sold Williams, AES scrambling get regulators OK plan refurbish two idled\n",
      "//\n",
      "\n",
      "//\n",
      "\n",
      "generating units Huntington Beach bring back online. units, shut 1995, could add 450 megawatts fresh capacity day substantially turn around California operating profits AES. \"Once get permit (California Energy Commission), would need three months bring units online,\" says Blackford. recent weeks, number out-of-state companies active California's energy market reported earnings: Houston-based Dynegy Inc. said fourth-quarter profit doubled $106 million. Minneapolis-based NRG Energy Inc. said\n",
      "//\n",
      "\n",
      "//\n",
      "\n",
      "fourth-quarter earnings jumped 50 percent $42 million. Houston-based Reliant Energy Inc. said fourth-quarter earnings continuing operations unchanged $73 million. Houston-based Enron Corp. said fourth-quarter profit rose 34 percent $347 million. California Power Crisis Creates Losses Out-of-State Energy Firms James B. Kelleher 02/06/2001 KRTBN Knight-Ridder Tribune Business News: Orange County Register - California Copyright (C) 2001 KRTBN Knight Ridder Tribune Business News; Source: World\n",
      "//\n",
      "\n",
      "//\n",
      "\n",
      "Reporter (TM) California's energy crisis continues generate windfall profits many out-of-state companies sell power benefiting. Williams Cos., Tulsa-based energy trader gas pipeline operator, said Monday fourth-quarter earnings continuing operations jumped almost 300 percent thanks, part, sky-high prices company able charge electricity California Western states. robust results Williams, power plants California, came expense AES Corp. Arlington, Va.-based AES owns three generating plants Southern\n",
      "//\n",
      "\n",
      "//\n",
      "\n",
      "California, including Huntington Beach Long Beach. Back skyrocketing electricity prices heralded current energy crisis, AES inked contract essentially lets Williams buy electricity produced three AES California plants predetermined fee. deal, Williams delivers natural gas plants, AES turns gas electricity Williams sells electricity state's grid wherever fetch highest price. \"We're basically paid conversion,\" says Ed Blackford, manager Huntington Beach AES plant. California's electricity prices\n",
      "//\n",
      "\n",
      "//\n",
      "\n",
      "skyrocketed, AES California plants generated big bucks Williams nothing headaches AES. fact, AES actually lost $11 million state fourth quarter profit generated Williams contract wiped $17 million fine AES pay pumping illegal emissions Southern California's air. Williams, hand, said Monday earnings continuing operations rose $259.3 million fourth quarter, $66.1 million quarter last year. company said big increase earnings, beat Wall Street's expectations mile, reflected \"substantially higher\n",
      "//\n",
      "\n",
      "//\n",
      "\n",
      "profits energy marketing trading business.\" existing AES California capacity sold Williams, AES scrambling get regulators OK plan refurbish two idled generating units Huntington Beach bring back online. units, shut 1995, could add 450 megawatts fresh capacity day substantially turn around California operating profits AES. \"Once get permit (California Energy Commission), would need three months bring units online,\" says Blackford. recent weeks, number out-of-state companies active California's\n",
      "//\n",
      "\n",
      "//\n",
      "\n",
      "energy market reported earnings: Houston-based Dynegy Inc. said fourth-quarter profit doubled $106 million. Minneapolis-based NRG Energy Inc. said fourth-quarter earnings jumped 50 percent $42 million. Houston-based Reliant Energy Inc. said fourth-quarter earnings continuing operations unchanged $73 million. Houston-based Enron Corp. said fourth-quarter profit rose 34 percent $347 million. El Paso Energy Plans LNG Terminals --- Company Spend $1.5 Billion Facilities Supply U.S Mexico --- Projects\n",
      "//\n",
      "\n",
      "//\n",
      "\n",
      "Would Cost $250 Million $350 Million Alexei Barrionuevo Staff Reporter 02/06/2001 Asian Wall Street Journal M9 (Copyright (c) 2001, Dow Jones & Company, Inc.) another sign U.S. market liquefied natural gas heating up, El Paso Energy Corp. said plans spend least $1.5 billion five years build handful terminals handling LNG U.S. Mexico markets. El Paso Energy, based Houston, said considering six projects all: three U.S., two Mexico one Bahamas. Five projects, would cost $250 million $350 million\n",
      "//\n",
      "\n",
      "//\n",
      "\n",
      "apiece, would serve U.S. market, natural-gas prices nearly three times higher last year. Last week, Enron Corp., another Houston energy concern, said plans spend much $400 million feed gas Bahamas growing Florida market. El Paso said hopes project running six months Enron's. rival projects underscore surging U.S. demand LNG, process allows natural gas shipped generally adds significantly cost. LNG vital part gas supply Asia, particularly Japan, never enjoyed sustained success U.S., mostly costly\n",
      "//\n",
      "\n",
      "//\n",
      "\n",
      "compete low U.S. natural gas prices. past two decades, cost process, cools natural gas liquid form, come 30% price construct LNG tankers dropped third, said Kathleen Eisbrenner, El Paso's managing director global LNG. Still, high U.S. natural-gas prices key. Tight gas supplies U.S. drove average prices natural gas $3.89 per thousand cubic feet last year, 71% $2.27 thousand cubic feet 1999. make El Paso's LNG bet worth effort, natural-gas prices stay $3 per thousand cubic feet next decade, said\n",
      "//\n",
      "\n",
      "//\n",
      "\n",
      "Ralph Eads, El Paso's president merchant energy. Assuming prices hold level, \"we think LNG business grow 10% 15% year next decade. energy business growing pace,\" Mr. Eads said. response, El Paso Williams Cos., Tulsa, Oklahoma, natural-gas company, expect revive mothballed terminals U.S. states Georgia Maryland next two years. El Paso's plans include plant remote part Mexico's Baja California would feed gas markets San Diego Mexico, gas demand also growing rapidly. company owns site Florida,\n",
      "//\n",
      "\n",
      "//\n",
      "\n",
      "options land Bahamas, finalizing options site southern U.S. evaluating sites Baja, San Diego San Francisco. addition, El Paso said building terminal Altamira, Mexico, feed Mexican market.\n",
      "//\n",
      "\n",
      "//\n",
      "\n",
      "Got fatal error you, resending! Hello everyone. First let say much enjoyed meeting working last Saturday. know busy lives are. appreciate energy put long, beautiful weekend day might spent playing family friends. Thank commitment brought entire day. appreciated number quality questions, engagement class discussions. look forward working next class, beyond. remainder message concerns impromptu exercise morning February 24, well reminders. message relatively long, might want save print read time.\n",
      "//\n",
      "\n",
      "//\n",
      "\n",
      "get impromptu exercise next week, want make comments impromptu speaking. People give many impromptu-type speeches lifetimes prepared speeches. cite one researcher, Rick Isaacson states book, \"Fundamentals Impromptu Speaking,\" average person gives 20 impromptu speeches every prepared speech. ratio high many give business presentations regularly, even give \"off cuff\" speeches prepared ones. effective impromptu speaking also helps organize deliver answers surprise questions may receive superiors,\n",
      "//\n",
      "\n",
      "//\n",
      "\n",
      "clients, others. chose good exercise. Now, words topics. Bring least five, feel like it. Remember put individual slips paper. plan bring myself, sure good assortment. might want write one question topic five different areas. instance, standard business topic, like bank mergers, social responsibility issues, business future Pacific Rim; Haas topic, like requirements, availability electives, costs; Bay Area topic, like traffic, environment, bridge retrofits; social topic, like welfare, education,\n",
      "//\n",
      "\n",
      "//\n",
      "\n",
      "abortion; political issue, like campaign reform, taxes, immigration; etc. etc. might even want include light topic, entertainment (perhaps asking Bay Area's best restaurant is, win Academy Awards, rock band best). brainstorm come five similar area. remember speaking topics others give you, kind. could state topic let speaker focus speech, could pose question, as: U.S. organizations offer better family leave benefits? Topics OK, allow speaker completely determine approach, though question helps\n",
      "//\n",
      "\n",
      "//\n",
      "\n",
      "speaker focus. break four groups. person select three topics \"hat,\" choose one speak on. Generally type exercise, good give speaker minute think speech, though many people choose take entire minute. speech 1 - 3 minutes - make time limit specific Feb. 24. speech coach providing constructive critical feedback. time everyone give least two impromptu speeches. also want say things final speech session afternoon. eight speeches. take break, eight more, take another break, finish eight speeches\n",
      "//\n",
      "\n",
      "//\n",
      "\n",
      "course evaluations. short coaching session speech, including comments me. Also, please remember plan start class right nine, give us much time impromptu exercise possible, well time opening exercise (which quick nonverbal game fun, invigorating, educational). also spend little time discussing articles gave you. part, want use articles help revise prepared speeches, though articles also contain ideas may want discuss. Finally, remember blank video tapes! really want contact second session. class\n",
      "//\n",
      "\n",
      "//\n",
      "\n",
      "short devote enough time fully commenting speaking abilities. bring video tape 24th, video final speech go video together later time convenient me. Even choose video, still meet discuss final speech exercises. want know also available communication advice completion class. look forward seeing working Saturday, February 24. send short reminder bring topics blank tape closer class day. Bill ============================================================================ William Sonnenschein\n",
      "//\n",
      "\n",
      "//\n",
      "\n",
      "Communications Group Faculty Haas School Business University California, Berkeley 510-643-8005 (Office) 510-336-1239 (Home) ============================================================================\n",
      "//\n",
      "\n",
      "//\n",
      "\n",
      "Sorry -- apparently recieved everyone. Thanks JOE ---------------------- Forwarded Joe Hartsoe/Corp/Enron 08/30/2000 12:01 PM --------------------------- Joe Hartsoe 08/30/2000 08:48 To: James Steffes/HOU/EES@EES, Sarah Novosel/Corp/Enron@ENRON, Christi L Nicolay/HOU/ECT@ECT, Donna Fulton/Corp/Enron@ENRON, Mary Hain/HOU/ECT@ECT, Jeff Dasovich/SFO/EES@EES cc: Richard Shapiro/HOU/EES@EES, Steven J Kean/NA/Enron@Enron, Joe Hartsoe/Corp/Enron@ENRON Subject: EPSA Meeting EPSA meeting Chicago\n",
      "//\n",
      "\n",
      "//\n",
      "\n",
      "successful. addition numerous stakeholders, press full force. became clear deregulation complete, problem deregulation -- continuing unnecessary regulation. Commissioner Massey's speech competition necessary actually quite good. message approximately 90 percent consistent Enron's wholesale level (He even called Federal siting authority.). sees price caps stop gap votes last resort. However, still contradicts questions use single price auctions work intended; but, comments PJM working. others\n",
      "//\n",
      "\n",
      "//\n",
      "\n",
      "work make sure understands. spent time Mike McLaughlin (Director Corporate Applications) Rob Cupina (Director Rates, Central). spoke RTO filings due October 15. shared concern RTO filings may incomplete asked actions FERC may take filings deficient. Mike indicated RTO filings processed rate offices three regions (east, central west) Dan Larcamp's group (OMTR). believes Order 2000 become \"voluntary\" Order 436 was. would like discuss particular questions, please hesitate call -- 202.466.9150 JOE\n",
      "//\n",
      "\n",
      "//\n",
      "\n",
      "already know \"Soldier's Joy,\" great instrumental heroine, number 6 list. y'all learn learn \"Red Haired Boy\" \"Old Joe Clark\"? LATE! >From: Cameron Sellers <cameron@perfect.com> >To: \"'Jeff.Dasovich@enron.com'\" <Jeff.Dasovich@enron.com> >CC: 'PP' <psellers@pacbell.net>, \"'Prentice (Berkeley)'\" ><psellers@haas.berkeley.edu>, 'Scott Laughlin' <scottwl@hotmail.com> >Subject: Bluegrass Guitar - Top Ten Song List >Date: Mon, 5 Feb 2001 18:06:07 -0800 > > <<Bluegrass Guitar - Top Ten Song List.url>>\n",
      "//\n",
      "\n",
      "//\n",
      "\n",
      "found list songs >you >should request Lone Mountain Sisters Band. > > http://www.bluegrassguitar.com/top10songs.asp ><< BluegrassGuitar-TopTenSongList.url >> _________________________________________________________________ Get FREE download MSN Explorer http://explorer.msn.com\n",
      "//\n",
      "\n",
      "//\n",
      "\n",
      "Hi. Apologies. Things nuts. get access code EnronOnline soon can. Hopefully today. Hope well. Best, Jeff Cameron Sellers <cameron@perfect.com> 02/05/2001 07:17 PM To: \"'PP'\" <psellers@pacbell.net>, \"'Prentice (Berkeley)'\" <psellers@haas.berkeley.edu>, \"'Scott Laughlin'\" <scottwl@hotmail.com>, \"'Jeff.Dasovich@enron.com'\" <Jeff.Dasovich@enron.com> cc: Subject: FW: Lark Morning something Colleen's brother told today. talk periodically always end talking bluegrass. He's playing fiddle. really wants\n",
      "//\n",
      "\n",
      "//\n",
      "\n",
      "us go camp. bluegrass oriented enough me, interesting. Close dome too. Cameron Sellers Vice President, Business Development PERFECT 1860 Embarcadero Road - Suite 210 Palo Alto, CA 94303 cameron@perfect.com 650.798.3366 (direct dial) 650.269.3366 (cell) 650.858.1095 (fax) -----Original Message----- From: Kevin Silva [mailto:kevins@silvaris.com] Sent: Monday, February 05, 2001 5:08 PM To: 'cameron@perfect.com' Subject: Lark Morning looks cool - wish could go year. Let know little combo goes -\n",
      "//\n",
      "\n",
      "//\n",
      "\n",
      "maybe we'll make family event next year. Nice chatting today. Kevin BACK CAMP: LARK! Irene D. Thomas \"What's difference fiddle violin?\" teased one little signs posted tree every 50 yards so. Whether put slow us dusty washboard dirt road keep first timers hopeful right road music camp, never entirely sure. second timer Lark camp, looked forward whacko riddles answer coming around bend: \"You care someone spills beer fiddle!\" \"Lark Morning\" music camp provides real wannabe musicians week-long\n",
      "//\n",
      "\n",
      "//\n",
      "\n",
      "escape redwood forest near Mendocino merry music-making, more. some. camp's organizer founder, Mickie Zekley, wife Elizabeth affectionately call Lark \"musical party educational overtones.\" Actually, explained later, began one clear focus: partying. party grew 100 outgrew house, rented Mendocino Woodlands campground weekend year, sharing cost potluck meals 250 best friends. first plan schedule, people began teaching new instruments new dances. that's \"educational overtones\" came in. Although\n",
      "//\n",
      "\n",
      "//\n",
      "\n",
      "Mickie friends' taste run Celtic American folk music, (he proprietor Lark Morning music shop Mendocino) ethnic variety musicians instruments began running wildly map, much benefit 400 campers today. one week I, one, would personally sample take part Bulgarian singing, Greek dancing, Mariachi vocals, swing singing band, dumbek drumming, Russian folksongs, Cajun dance, clogging, \"non-threatening beginning guitar.\" people like me, middle aged overachievers never took time go camp play\n",
      "//\n",
      "\n",
      "//\n",
      "\n",
      "instrument---but whose inner child alive well--- heaven. fact, heaven thought died gone woke first morning forest canopy light dappling tent, smell turkish coffee scenting redwood-laced air, celestial Andean harp music wafting somewhere nearby like glorious call musical beyond. serious decision made makeshift heaven whether sip coffee nibble pastries Tunisian Cafe set section \"quiet camp\" take shuttle bus main camp full breakfast lively conversation around campfire. Newly dubbed \"not quiet camp\"\n",
      "//\n",
      "\n",
      "//\n",
      "\n",
      "presence cafe encouraged late night, impromptu jams middle eastern drumming, fluting even belly dancing, part camp still provided oasis away crowds one wanted it. found relaxing able retreat tent book flashlight full day musical socializing. Many others though-more obsessed, even greedy miss thing---carried camp deep night, arriving breakfast late silly grins squinted eyes, like hangovers musical hightimes. might gone dances night before, maybe Cajun dancing nine Contra dancing 11, followed jam\n",
      "//\n",
      "\n",
      "//\n",
      "\n",
      "favorite group group might formed midnight dining room one porches. me, one dance per night enough, thank you. exception Balkan Greek night, hypnotic, sensuous, often frenetic strains exotic, mideastern-tinged music grabbed soul urged feet dance, matter what. Gotta dance. rhythm bounces, jerks, syncopates. Step, cross, brush, lift, leader modelled steps alternately circled snaked dance hall, music picking pace forcing us same. Glowing sweat myself, spied equally sweaty faces grinning wildly back\n",
      "//\n",
      "\n",
      "//\n",
      "\n",
      "me, others eyes closed ecstacy. wondered scholars dance say style dance prevailed many cultures. communal urge? way share thrill music act cultural cohesion? primal form safe, communal sex underaged already marrieds----the circular moving together music stirs satisfies finally exhausts partners? Whatever theory one prefers, hey, joint really jumping. Gradually, reluctantly, crowd disperses, flashlights bouncing time music left behind, humming way tents cabins campers. teens never seem turn\n",
      "//\n",
      "\n",
      "//\n",
      "\n",
      "parents campsites. One beauties place one worries. Repeat visitors seemed clear it-Lark camp safe place kids. could rise next morning night like that, lots choices made breakfast. outside dining hall could see knot people pondering list offerings chalkboard, 6 10 timetable staff members listed workshop offerings. (Mickie points essential separation staff campers, found true.) came one instrument one style master easier time it. Devout fiddlers went Irish, Greek, Cape Breton, gypsy, Yugoslav.\n",
      "//\n",
      "\n",
      "//\n",
      "\n",
      "plan stuck it. dilletantes, hand, could driven crazy palette-which color dip musical brush today? keep sanity, committed schedule paper less stayed week. First thing breakfast non-threatening beginning guitar. guitar happy enough sing dance way around musical map, ending day swing singing, led Piper Heisig San Francisco group \"Cats Jammers.\" dining room, punctuated arhythmic pot-banging kitchen workers getting dinner together, crooned oldies like \"Slow Boat China\" tried put spin \"Satin Doll.\"\n",
      "//\n",
      "\n",
      "//\n",
      "\n",
      "Local friends Olaf Palm Madge Strong kept rhythm section. sessions would move locations sample could squeeze schedule. Like spectator many-ringed musical circus, struggled hold focus happening. Moving flamenco guitars klezmer might require schizoid brain shift one quite willing make. Inevitably would linger Slavko's Yugoslav session outside dining hall. Mostly string players, would unsmilingly intent selection brought work on-like last year's, haunting melange Slavic folk classical styles, one\n",
      "//\n",
      "\n",
      "//\n",
      "\n",
      "slated performance benefit refugees homeland. Slavko Sarajevan. felt played music deeply, always crowd standing nearby, eyes wet, seemingly stunned images music aroused. One sweetest nonmusical memories camp meeting Slavko's mother wife dining hall. Overhearing speaking sounded like Croatian, introduced Czech-my ancestral language-and fun comparing common wordstock. Cynthia, wife, American learned Serbo-Croation order communicate mother-in-law, brought years ago. that, noticed= often around\n",
      "//\n",
      "\n",
      "//\n",
      "\n",
      "camp, Mama leaning heavily Cynthia's arm, Cynthia translating whispers said sung. Cynthia confessed first night met mama left country reluctantly. \"Why leave there?\" elder asked. indeed, thought, even though understand well gut-wrenching ties old woman would feel watching world come end. this-the personal tragedy, Slavic melancholy, love mama caught Slavko's face directed devoted little impromptu orchestra. Every moment learning experience Lark. example, one deduce accordian probably versatile\n",
      "//\n",
      "\n",
      "//\n",
      "\n",
      "instrument all. (\"Play accordian go camp!\" reads one Lark's souvenir buttons.) Perhaps qualifies multicultural instruments well, cutting across ethnic lines Cajun Greek Argentine tango French country Slavic around world again. accordian also turn totally hot jazz, found out, especially concert jazz fiddle bass. else learn camp? dumbek really fun unleashing timid drummers. Next year work schedule. Maybe take place clogging found harder legs tap dancing. Food, learned, though plays second fiddle\n",
      "//\n",
      "\n",
      "//\n",
      "\n",
      "musical menu, major component Lark camp's pleasures, prepared gives time music, also Lark food uniformly great. (Baked salmon tondoori chicken vegetable lasagna typical dinner fare.) setting-in amongst redwoods firs, lush meadows small streams feed Big River-ties pleasures together, sealing us irrelevant busyness retreating from. There's nothing quite like week spent around people talk day jobs. remember anyone asking real world. liked that. make music, P.R. plumbing repair professorial\n",
      "//\n",
      "\n",
      "//\n",
      "\n",
      "chitchat. Wherever came from, whatever tune came hum, sensed shared humanity tunes. exhilirated, focussed, leveled highest common denominator. Camp dust settled us equally. also liked guitar teacher (the one enough patience teach non threatening guitar) said talked place music life. \"We live society,\" said, \"that relies things outside entertainment. Maybe we've forgotten much fun entertain ourselves.\" we've forgotten, maybe Lark Camp remind us. p.s. sampling year's whacko camp riddles (they get\n",
      "//\n",
      "\n",
      "//\n",
      "\n",
      "better every year). \"What get play new age music backwards?\" answer: new age music. \"How know bagpipe tune?\" answer: someone blowing it. \"How know lead singer knocking door?\" answer: always loses key comes late. \"What's difference accordian uzi?\" answer: uzi stops 20 rounds. bagpipers walk playing?\" answer: harder miss moving target. Kevin Silva Vice President, Corporate Development Silvaris Corporation Tel: 206-328-0185 Email: kevins@silvaris.com www.silvaris.com\n",
      "//\n",
      "\n",
      "//\n",
      "\n",
      "415.782.7822. Best, Jeff Kimberly Parrish@ENRON COMMUNICATIONS 02/05/2001 05:39 PM To: Jeff Dasovich/NA/Enron@ENRON cc: Subject: Please Call Jeff I'm unable find telephone number would like speak regarding Sempra Global Photon. Please call send number moment. Thanks Kimberly Kimberly Parrish Manager, Bandwidth Origination Enron Broadband Services, Inc. http://www.enron.net (702) 562-9063 Office (702) 682-2612 Cell\n",
      "//\n",
      "\n"
     ]
    }
   ],
   "source": [
    "for i in range(100) :\n",
    "    print('//\\n')\n",
    "    print(res.iloc[i][\"documents\"])\n",
    "    print('//\\n')"
   ]
  },
  {
   "cell_type": "code",
   "execution_count": 28,
   "metadata": {},
   "outputs": [
    {
     "name": "stdout",
     "output_type": "stream",
     "text": [
      "inauguration, President Bush's electricity policy already emerging crucible California characterized obedience free market ideology federalism confines federal government limited, backseat role. told California's crisis isolated event, result California's unique mistakes. view, federal government neither contributed crisis major role play solving it. Wholesale market caps level declared inappropriate intrusion free markets make things worse. Moreover, appointment Curt Hebert new Chairman Federal\n"
     ]
    }
   ],
   "source": [
    "print(res.iloc[1][\"documents\"])"
   ]
  },
  {
   "cell_type": "code",
   "execution_count": 29,
   "metadata": {},
   "outputs": [
    {
     "name": "stdout",
     "output_type": "stream",
     "text": [
      "proposal? Jim\n"
     ]
    }
   ],
   "source": [
    "print(res.iloc[147][\"documents\"])"
   ]
  },
  {
   "cell_type": "code",
   "execution_count": 30,
   "metadata": {},
   "outputs": [
    {
     "name": "stdout",
     "output_type": "stream",
     "text": [
      "Requirement already satisfied: torch in /opt/homebrew/lib/python3.10/site-packages (2.5.1)\n",
      "Requirement already satisfied: transformers in /opt/homebrew/lib/python3.10/site-packages (4.47.0)\n",
      "Requirement already satisfied: tqdm in /opt/homebrew/lib/python3.10/site-packages (4.67.1)\n",
      "Requirement already satisfied: fsspec in /opt/homebrew/lib/python3.10/site-packages (from torch) (2024.10.0)\n",
      "Requirement already satisfied: networkx in /opt/homebrew/lib/python3.10/site-packages (from torch) (3.4.2)\n",
      "Requirement already satisfied: typing-extensions>=4.8.0 in /Users/boufadeslina/Library/Python/3.10/lib/python/site-packages (from torch) (4.12.2)\n",
      "Requirement already satisfied: jinja2 in /Users/boufadeslina/Library/Python/3.10/lib/python/site-packages (from torch) (3.1.4)\n",
      "Requirement already satisfied: sympy==1.13.1 in /opt/homebrew/lib/python3.10/site-packages (from torch) (1.13.1)\n",
      "Requirement already satisfied: filelock in /opt/homebrew/lib/python3.10/site-packages (from torch) (3.16.1)\n",
      "Requirement already satisfied: mpmath<1.4,>=1.1.0 in /opt/homebrew/lib/python3.10/site-packages (from sympy==1.13.1->torch) (1.3.0)\n",
      "Requirement already satisfied: tokenizers<0.22,>=0.21 in /opt/homebrew/lib/python3.10/site-packages (from transformers) (0.21.0)\n",
      "Requirement already satisfied: packaging>=20.0 in /Users/boufadeslina/Library/Python/3.10/lib/python/site-packages (from transformers) (24.1)\n",
      "Requirement already satisfied: safetensors>=0.4.1 in /opt/homebrew/lib/python3.10/site-packages (from transformers) (0.4.5)\n",
      "Requirement already satisfied: requests in /opt/homebrew/lib/python3.10/site-packages (from transformers) (2.32.3)\n",
      "Requirement already satisfied: regex!=2019.12.17 in /opt/homebrew/lib/python3.10/site-packages (from transformers) (2024.11.6)\n",
      "Requirement already satisfied: numpy>=1.17 in /opt/homebrew/lib/python3.10/site-packages (from transformers) (2.1.2)\n",
      "Requirement already satisfied: pyyaml>=5.1 in /opt/homebrew/lib/python3.10/site-packages (from transformers) (6.0.2)\n",
      "Requirement already satisfied: huggingface-hub<1.0,>=0.24.0 in /opt/homebrew/lib/python3.10/site-packages (from transformers) (0.26.5)\n",
      "Requirement already satisfied: MarkupSafe>=2.0 in /Users/boufadeslina/Library/Python/3.10/lib/python/site-packages (from jinja2->torch) (3.0.2)\n",
      "Requirement already satisfied: urllib3<3,>=1.21.1 in /opt/homebrew/lib/python3.10/site-packages (from requests->transformers) (2.2.3)\n",
      "Requirement already satisfied: charset-normalizer<4,>=2 in /opt/homebrew/lib/python3.10/site-packages (from requests->transformers) (3.4.0)\n",
      "Requirement already satisfied: idna<4,>=2.5 in /opt/homebrew/lib/python3.10/site-packages (from requests->transformers) (3.10)\n",
      "Requirement already satisfied: certifi>=2017.4.17 in /opt/homebrew/lib/python3.10/site-packages (from requests->transformers) (2024.8.30)\n",
      "\n",
      "\u001b[1m[\u001b[0m\u001b[34;49mnotice\u001b[0m\u001b[1;39;49m]\u001b[0m\u001b[39;49m A new release of pip available: \u001b[0m\u001b[31;49m22.2.2\u001b[0m\u001b[39;49m -> \u001b[0m\u001b[32;49m24.3.1\u001b[0m\n",
      "\u001b[1m[\u001b[0m\u001b[34;49mnotice\u001b[0m\u001b[1;39;49m]\u001b[0m\u001b[39;49m To update, run: \u001b[0m\u001b[32;49mpython3.10 -m pip install --upgrade pip\u001b[0m\n",
      "Note: you may need to restart the kernel to use updated packages.\n"
     ]
    }
   ],
   "source": [
    "pip install torch transformers tqdm"
   ]
  },
  {
   "cell_type": "code",
   "execution_count": 31,
   "metadata": {},
   "outputs": [
    {
     "name": "stderr",
     "output_type": "stream",
     "text": [
      "/opt/homebrew/lib/python3.10/site-packages/tqdm/auto.py:21: TqdmWarning: IProgress not found. Please update jupyter and ipywidgets. See https://ipywidgets.readthedocs.io/en/stable/user_install.html\n",
      "  from .autonotebook import tqdm as notebook_tqdm\n"
     ]
    },
    {
     "name": "stdout",
     "output_type": "stream",
     "text": [
      "[[-0.006061376538127661, 0.057496026158332825, 0.08485960960388184, 0.04815136641263962, 0.031404927372932434, 0.033542901277542114, -0.00026581247220747173, 0.035249702632427216, -0.07964485138654709, 0.0012700402876362205, 0.0560288168489933, 0.042307768017053604, 0.057439450174570084, -0.021935807541012764, 0.008544374257326126, 0.022930767387151718, -0.039935991168022156, -0.0787452980875969, -0.054526880383491516, 0.0008081780979409814, 0.08421900123357773, 0.06079871952533722, -0.021885987371206284, -0.0325327143073082, 0.04196997731924057, 0.06900451332330704, -0.0067999097518622875, 0.061380576342344284, -0.08010152727365494, -0.006282326299697161, -0.0025818049907684326, -0.06948334723711014, -0.04328533634543419, -0.060932401567697525, 0.03512980416417122, 0.044876065105199814, 0.0157150961458683, 0.01031945738941431, -0.026645757257938385, 0.020915798842906952, -0.010417114943265915, -0.03963593393564224, 0.0033625736832618713, 0.018160497769713402, -0.05363071709871292, 0.0003226213448215276, 0.07796720415353775, -0.05937666445970535, 0.010741792619228363, -0.03393973410129547, 0.03132740035653114, 0.043323367834091187, 0.036636218428611755, -0.030586786568164825, 0.040542665868997574, -0.008645893074572086, 0.06173492968082428, -0.010089278221130371, 0.05327386409044266, 0.08178722858428955, -0.01134449802339077, -0.07230529189109802, -0.06365525722503662, 0.027187826111912727, 0.045375674962997437, -0.019839219748973846, -0.0458507314324379, -0.0352349691092968, -0.0481683723628521, -0.02228662744164467, 0.03872102126479149, -0.024178162217140198, 0.053792379796504974, -0.09149343520402908, -0.01301205437630415, -0.10304416716098785, 0.06529175490140915, 0.08452583849430084, 0.09371291100978851, -0.061443742364645004, 0.037990838289260864, -0.07588387280702591, -0.08856422454118729, 0.0009021339938044548, 0.008240904659032822, 0.032279301434755325, 0.03500552475452423, -0.10022083669900894, -0.014035815373063087, 0.021562566980719566, 0.05631846562027931, -0.03450775891542435, 0.07270359992980957, 0.004295100923627615, -0.02688249573111534, 0.030072957277297974, -0.0728895515203476, -0.08136498183012009, -0.07378403097391129, 0.03729074448347092, 0.04476601257920265, 0.03403410315513611, -0.003948890138417482, -0.02532150223851204, -0.028196224942803383, -0.013134698383510113, -0.07483851164579391, 0.06280384212732315, -0.03069889359176159, 0.01864786632359028, 0.046568792313337326, -0.01030789501965046, -0.016416119411587715, -0.013663503341376781, -0.011458201333880424, -0.019280098378658295, 0.061919309198856354, -0.06901056319475174, 0.019571315497159958, 0.0058426568284630775, 0.01781320571899414, -0.05621964856982231, -0.04296214133501053, 0.041386231780052185, -0.04027935117483139, 0.01352851651608944, -0.047200918197631836, -6.302252800828395e-33, 0.02652868814766407, -0.046241093426942825, -0.02505485713481903, -0.017064590007066727, 0.05884592607617378, 0.03909555822610855, -0.03849700465798378, -0.007003024220466614, 0.05081264302134514, -0.06209271773695946, 0.07936345785856247, 0.054875366389751434, 0.044834017753601074, 0.03930883854627609, 0.010794543661177158, -0.0790889784693718, -0.12028229981660843, 0.04675619304180145, 0.06532487273216248, -0.04565103352069855, 0.018905464559793472, 0.0051146806217730045, 0.039721112698316574, 0.03981025516986847, 0.07494079321622849, -0.04262014850974083, 0.04125634580850601, -0.022763283923268318, -0.023350661620497704, 0.026003917679190636, -0.05076459422707558, 0.09479928016662598, 0.019953111186623573, 0.019120480865240097, -0.025866173207759857, 0.06134431064128876, 0.05801413580775261, -0.04576188698410988, -0.03817233815789223, 0.015722526237368584, 0.008266831748187542, 0.07798781991004944, 0.0676492303609848, 0.08630421757698059, 0.02255484089255333, 0.003328043967485428, 0.09020553529262543, -0.010311424732208252, 0.053791847079992294, -0.003696996020153165, -0.05944259464740753, 0.03616419807076454, -0.0037179163191467524, -0.07361897081136703, 0.025239000096917152, 0.003404048504307866, -0.046340156346559525, -0.06176282465457916, 0.005309139844030142, -0.015572787262499332, 0.013236367143690586, 0.07492708414793015, -0.017322374507784843, -0.025503411889076233, -0.03386954963207245, 0.0448174811899662, -0.0038171084597706795, -0.05634233355522156, -0.09279802441596985, 0.010217731818556786, -0.007422966416925192, -0.07697125524282455, 0.06441164016723633, -0.05718274414539337, -0.028581595048308372, 0.020663609728217125, -0.08687271922826767, 0.05505438521504402, -0.06299234926700592, -0.06118553504347801, -0.06083129346370697, -0.10615125298500061, 0.1489679366350174, -0.007020642980933189, 0.003880283795297146, -0.014825071208178997, 0.04774579778313637, 0.06121637299656868, -0.03262239322066307, -0.03682725131511688, -0.021709147840738297, 0.05477055907249451, 0.07647361606359482, -0.012242977507412434, 0.000816374144051224, 3.196065182104149e-33, -0.08521515876054764, 0.038285065442323685, -0.014094592072069645, 0.05222874879837036, 0.049597855657339096, -0.0033233310095965862, 0.021232282742857933, -0.022400427609682083, 0.0229844581335783, -0.08313409984111786, -0.06160638481378555, 0.054018404334783554, 0.007136031985282898, -0.00940979178994894, 0.05300609767436981, -0.02038216032087803, 0.0382782481610775, -0.03413737565279007, -0.059072352945804596, 0.01987713761627674, 0.013006679713726044, 0.022240297868847847, -0.05676272138953209, 0.0346415713429451, -0.02879357896745205, 0.014602016657590866, -0.032310549169778824, -0.04018688574433327, -0.004348465707153082, -0.04582033306360245, -0.03398190438747406, 0.04859371855854988, -0.09306852519512177, 0.12656821310520172, -0.07391564548015594, 0.023973863571882248, 0.0024370758328586817, -0.015598047524690628, -0.031705066561698914, 0.02300194837152958, 0.09019489586353302, -0.058195460587739944, 0.0364748053252697, 0.084844671189785, -0.0437045618891716, 0.024095503613352776, -0.05665319040417671, -0.0340367890894413, -0.053682953119277954, 0.03937527537345886, -0.02806035615503788, -0.01739351823925972, -0.06614376604557037, 0.06707169115543365, -0.08867679536342621, -0.05664195865392685, 0.08987995237112045, 0.007662336342036724, -0.14271321892738342, 0.0217747762799263, 9.813530596147757e-06, 0.014592143706977367, 0.028800254687666893, -0.01251966506242752, 0.0019952617585659027, 0.007298813201487064, 0.004840773064643145, -0.07617313414812088, 0.1518278419971466, -0.06649701297283173, 0.024123702198266983, -0.02642924152314663, -0.03990308940410614, -0.01508649904280901, -0.03767194226384163, 0.10180851817131042, -0.04525909572839737, 0.012834988534450531, -0.0817553922533989, 0.07978986203670502, -0.04674200713634491, 0.026178445667028427, -0.05972440168261528, -0.083478644490242, 0.005484389141201973, 0.015574238263070583, 0.01890561357140541, -0.0783640444278717, 0.03558209165930748, 0.07752342522144318, -0.12035148590803146, -0.033065807074308395, -0.046898819506168365, -0.008983847685158253, -0.021352263167500496, -1.8896672671075976e-08, 0.03289944678544998, 0.040946751832962036, 0.012978116050362587, -0.027091067284345627, 0.057565316557884216, 0.03652685135602951, 0.004318560473620892, 0.03475873917341232, -0.012867755256593227, 0.06811908632516861, 0.06581095606088638, 0.06640887260437012, 0.08084812760353088, 0.027823271229863167, -0.06492677330970764, -0.0339854396879673, 0.04657312110066414, 0.07541564106941223, -0.04178086668252945, 0.024278823286294937, -0.009506882168352604, 0.06020737811923027, -0.06277690082788467, 0.048455532640218735, 0.05426802486181259, 0.09041529148817062, 0.02516685239970684, 0.08958692848682404, 0.04398956894874573, 0.016428399831056595, -0.09939700365066528, -0.04213011637330055, -0.07428740710020065, -0.08079437166452408, -0.05568188428878784, 0.005853336304426193, 0.01301646325737238, -0.07817899435758591, 0.014449127949774265, -0.08004841208457947, 0.05811937898397446, 0.031227607280015945, -0.013246818445622921, 0.058855146169662476, -0.0036951499059796333, -0.026885736733675003, -0.08882097154855728, 0.015210755169391632, 0.0700366348028183, 0.04767677187919617, -0.04527055472135544, 0.07312416285276413, -0.04549473151564598, 0.019803551957011223, 0.06083608791232109, -0.053474362939596176, -0.028375638648867607, -0.08960942924022675, -0.085288405418396, 0.02554343268275261, 0.060594312846660614, 0.004766787402331829, -0.044997312128543854, 0.01370841171592474]]\n"
     ]
    }
   ],
   "source": [
    "import torch\n",
    "from transformers import AutoTokenizer, AutoModel\n",
    "import torch.nn.functional as F\n",
    "from tqdm import tqdm\n",
    "\n",
    "# Charger le modèle et le tokenizer\n",
    "tokenizer = AutoTokenizer.from_pretrained('sentence-transformers/all-MiniLM-L6-v2')\n",
    "model = AutoModel.from_pretrained('sentence-transformers/all-MiniLM-L6-v2').to(torch.device(\"cuda\" if torch.cuda.is_available() else \"cpu\"))\n",
    "\n",
    "# Fonction de pooling pour obtenir l'embedding de la phrase\n",
    "def mean_pooling(model_output, attention_mask):\n",
    "    token_embeddings = model_output[0]  # Embeddings des tokens\n",
    "    input_mask_expanded = attention_mask.unsqueeze(-1).expand(token_embeddings.size()).float()\n",
    "    # Moyenne des embeddings des tokens en prenant en compte le masque d'attention\n",
    "    return torch.sum(token_embeddings * input_mask_expanded, 1) / torch.clamp(input_mask_expanded.sum(1), min=1e-9)\n",
    "\n",
    "# Fonction pour calculer les embeddings\n",
    "def compute_embeddings_batch(batch_texts):\n",
    "    encoded_input = tokenizer(batch_texts, padding=True, truncation=True, max_length=500, return_tensors='pt').to(model.device)\n",
    "    with torch.no_grad():\n",
    "        model_output = model(**encoded_input)\n",
    "    sentence_embeddings = mean_pooling(model_output, encoded_input['attention_mask'])\n",
    "    # Normalisation de l'embedding\n",
    "    return F.normalize(sentence_embeddings, p=2, dim=1).cpu().tolist()\n",
    "\n",
    "# Fonction pour traiter les données en lots et calculer les embeddings\n",
    "def process_in_batches(df, batch_size=500):\n",
    "    all_embeddings = []\n",
    "    for i in tqdm(range(0, len(df), batch_size)):\n",
    "        batch_texts = df['chunks'][i:i+batch_size].tolist()  # Extraire les textes (chunks) pour le batch\n",
    "        batch_embeddings = compute_embeddings_batch(batch_texts)\n",
    "        all_embeddings.extend(batch_embeddings)  # Ajouter les embeddings calculés\n",
    "    return all_embeddings\n",
    "\n",
    "# Exemple d'utilisation pour une seule question\n",
    "question = [\"What was the impact of President Bush's electricity policy on California's crisis?\"]\n",
    "\n",
    "# Calculer l'embedding pour la question donnée\n",
    "question_embedding = compute_embeddings_batch(question)\n",
    "\n",
    "# Afficher l'embedding de la question\n",
    "print(question_embedding)\n"
   ]
  },
  {
   "cell_type": "code",
   "execution_count": 32,
   "metadata": {},
   "outputs": [
    {
     "name": "stdout",
     "output_type": "stream",
     "text": [
      "{'ids': [['1', '2731', '3591', '2922', '852']], 'embeddings': None, 'documents': [[\"inauguration, President Bush's electricity policy already emerging crucible California characterized obedience free market ideology federalism confines federal government limited, backseat role. told California's crisis isolated event, result California's unique mistakes. view, federal government neither contributed crisis major role play solving it. Wholesale market caps level declared inappropriate intrusion free markets make things worse. Moreover, appointment Curt Hebert new Chairman Federal\", \"Power Politics: Energy Crisis Offers Clues Workings Bush=20 Administration --- Cheney Heavy Lifting Bush Rides Agenda; Taste f= or=20 Horse-Trading --- `A Lot Pain West' Wall Street Journal, 02/16/2001 Generators: Plans Build Peaking-Power Plants Calif Dow Jones, 02/16/2001 Developments California's Electricity Crisis Associated Press Newswires, 02/16/2001 Bush Pushes Energy Plan Mexico Trade: President Wants Cut Hemispheric= =20 Barriers Oil, Gas Electricity May Hard Sell South th= e=20 Border\", 'http://www.latimes.com/news/state/20010218/t000014901.htm= l=20 .? bottom line Californians mixed electricity= =20 crisis ways could predicted.=20 example, Governor gets highest marks relative other=20 players.? approval rating gone January (29% approval rating= )=20 49% February!? However, 16% approval rating PUC the=20 lowest among Gov., legislature, utilities, even President= =20 Bush. PUC tool Governor, apparently secret on= ly=20 known several thousands us regulated power business (There=', 'power generation facilities California. \"I extremely gratified President Bush acted put federal government path California cut red tape get new power plants line,\" said Governor. ###', 'investing billions private-sector dollars buy, modernize build new power plants provide California clean, reliable affordable electricity. \"Meanwhile, urge California electricity users everything possible conserve electricity home work.\" # # # - 8 - IEP/Davis Response 2/8']], 'uris': None, 'data': None, 'metadatas': [[{'id': '<6501090.1075843349674.JavaMail.evans@thyme>'}, {'id': '<20662596.1075843364106.JavaMail.evans@thyme>'}, {'id': '<10337073.1075843370660.JavaMail.evans@thyme>'}, {'id': '<31656267.1075843365675.JavaMail.evans@thyme>'}, {'id': '<5681095.1075843354204.JavaMail.evans@thyme>'}]], 'distances': [[0.5346818566322327, 0.671896755695343, 0.6849707365036011, 0.6884670257568359, 0.721030592918396]], 'included': [<IncludeEnum.distances: 'distances'>, <IncludeEnum.documents: 'documents'>, <IncludeEnum.metadatas: 'metadatas'>]}\n"
     ]
    }
   ],
   "source": [
    "# Effectuer la requête en utilisant l'embedding de la question\n",
    "result = collection.query(\n",
    "    query_embeddings=question_embedding,  # L'embedding de la question\n",
    "    n_results=5  # Limiter le nombre de résultats à 5\n",
    ")\n",
    "\n",
    "# Afficher les résultats\n",
    "print(result)\n"
   ]
  },
  {
   "cell_type": "code",
   "execution_count": 36,
   "metadata": {},
   "outputs": [
    {
     "name": "stdout",
     "output_type": "stream",
     "text": [
      "Mail ID: 1\n",
      "Document: inauguration, President Bush's electricity policy already emerging crucible California characterized obedience free market ideology federalism confines federal government limited, backseat role. told California's crisis isolated event, result California's unique mistakes. view, federal government neither contributed crisis major role play solving it. Wholesale market caps level declared inappropriate intrusion free markets make things worse. Moreover, appointment Curt Hebert new Chairman Federal\n",
      "Mail ID: 2731\n",
      "Document: Power Politics: Energy Crisis Offers Clues Workings Bush=20 Administration --- Cheney Heavy Lifting Bush Rides Agenda; Taste f= or=20 Horse-Trading --- `A Lot Pain West' Wall Street Journal, 02/16/2001 Generators: Plans Build Peaking-Power Plants Calif Dow Jones, 02/16/2001 Developments California's Electricity Crisis Associated Press Newswires, 02/16/2001 Bush Pushes Energy Plan Mexico Trade: President Wants Cut Hemispheric= =20 Barriers Oil, Gas Electricity May Hard Sell South th= e=20 Border\n",
      "Mail ID: 3591\n",
      "Document: http://www.latimes.com/news/state/20010218/t000014901.htm= l=20 .? bottom line Californians mixed electricity= =20 crisis ways could predicted.=20 example, Governor gets highest marks relative other=20 players.? approval rating gone January (29% approval rating= )=20 49% February!? However, 16% approval rating PUC the=20 lowest among Gov., legislature, utilities, even President= =20 Bush. PUC tool Governor, apparently secret on= ly=20 known several thousands us regulated power business (There=\n",
      "Mail ID: 2922\n",
      "Document: power generation facilities California. \"I extremely gratified President Bush acted put federal government path California cut red tape get new power plants line,\" said Governor. ###\n",
      "Mail ID: 852\n",
      "Document: investing billions private-sector dollars buy, modernize build new power plants provide California clean, reliable affordable electricity. \"Meanwhile, urge California electricity users everything possible conserve electricity home work.\" # # # - 8 - IEP/Davis Response 2/8\n"
     ]
    }
   ],
   "source": [
    "for i in range (5):\n",
    "    print ('Mail ID:', result['ids'][0][i])\n",
    "    print ('Document:', result['documents'][0][i])\n"
   ]
  },
  {
   "cell_type": "code",
   "execution_count": null,
   "metadata": {},
   "outputs": [],
   "source": []
  }
 ],
 "metadata": {
  "kernelspec": {
   "display_name": "Python 3",
   "language": "python",
   "name": "python3"
  },
  "language_info": {
   "codemirror_mode": {
    "name": "ipython",
    "version": 3
   },
   "file_extension": ".py",
   "mimetype": "text/x-python",
   "name": "python",
   "nbconvert_exporter": "python",
   "pygments_lexer": "ipython3",
   "version": "3.10.8"
  },
  "orig_nbformat": 4,
  "vscode": {
   "interpreter": {
    "hash": "b0fa6594d8f4cbf19f97940f81e996739fb7646882a419484c72d19e05852a7e"
   }
  }
 },
 "nbformat": 4,
 "nbformat_minor": 2
}

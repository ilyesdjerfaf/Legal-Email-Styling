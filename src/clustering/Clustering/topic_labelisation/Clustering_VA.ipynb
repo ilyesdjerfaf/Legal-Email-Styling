{
 "cells": [
  {
   "cell_type": "code",
   "execution_count": 2,
   "metadata": {},
   "outputs": [],
   "source": [
    "import pandas as pd\n",
    "import numpy as np\n",
    "from sklearn.cluster import KMeans\n",
    "import hdbscan\n",
    "import json\n",
    "from tqdm import tqdm"
   ]
  },
  {
   "cell_type": "markdown",
   "metadata": {},
   "source": [
    "# Première piste (-pas retenue-)"
   ]
  },
  {
   "cell_type": "code",
   "execution_count": 3,
   "metadata": {},
   "outputs": [],
   "source": [
    "'''import pandas as pd\n",
    "import numpy as np\n",
    "from sklearn.cluster import KMeans\n",
    "import hdbscan\n",
    "from tqdm import tqdm\n",
    "import json\n",
    "\n",
    "def load_full_dataset(file_path, use_columns=None, sample_frac=None):\n",
    "    try:\n",
    "        print(\"Chargement des données...\")\n",
    "        df = pd.read_csv(file_path, usecols=use_columns)\n",
    "\n",
    "        # Échantillonnage aléatoire + reset de l'index\n",
    "        if sample_frac is not None and 0 < sample_frac < 1:\n",
    "            df = df.sample(frac=sample_frac).reset_index(drop=True)\n",
    "\n",
    "        # Convertir la colonne 'embedding' (string JSON) en array numpy\n",
    "        df['embedding'] = df['embedding'].apply(lambda x: np.array(json.loads(x)))\n",
    "\n",
    "        print(f\"Chargement terminé. Nombre de lignes: {len(df)}\")\n",
    "        return df\n",
    "    except Exception as e:\n",
    "        print(f\"Erreur lors du chargement du dataset : {e}\")\n",
    "        return pd.DataFrame()\n",
    "\n",
    "\n",
    "def apply_kmeans(embeddings, n_clusters=150):\n",
    "    \"\"\"\n",
    "    Applique KMeans et renvoie (labels, modèle_kmeans).\n",
    "    \"\"\"\n",
    "    print(\"Application de KMeans...\")\n",
    "    print(f\"Nombre de points: {len(embeddings)}\")\n",
    "\n",
    "    # kmeans : n_init='auto' dans les versions récentes de sklearn\n",
    "    kmeans = KMeans(n_clusters=n_clusters, random_state=42, n_init='auto')\n",
    "    labels = kmeans.fit_predict(embeddings)\n",
    "\n",
    "    print(\"KMeans terminé. Distribution des clusters :\")\n",
    "    unique, counts = np.unique(labels, return_counts=True)\n",
    "    for u, c in zip(unique, counts):\n",
    "        print(f\" - Cluster KMeans {u}: {c} points\")\n",
    "\n",
    "    return labels, kmeans\n",
    "\n",
    "def refine_with_hdbscan_per_kmeans_cluster(df, min_cluster_size=5, min_samples=3):\n",
    "    \"\"\"\n",
    "    Pour chaque cluster KMeans, applique HDBSCAN afin de détecter\n",
    "    des sous-clusters plus fins. Les labels finaux sont stockés\n",
    "    dans la colonne hdbscan_cluster.\n",
    "    \"\"\"\n",
    "    print(\"\\nDébut du raffinement avec HDBSCAN pour chaque cluster KMeans...\")\n",
    "\n",
    "    # Tableau de labels HDBSCAN initialisé à -1 (bruit)\n",
    "    hdbscan_labels = np.full(len(df), -1, dtype=int)\n",
    "    \n",
    "    # Ce décalage permet de numéroter de manière unique tous les sous-clusters,\n",
    "    # même s'ils proviennent de différents clusters KMeans.\n",
    "    global_offset = 0\n",
    "\n",
    "    total_clusters_found = 0\n",
    "    total_points_clustered = 0\n",
    "\n",
    "    for cluster_id in tqdm(df['kmeans_cluster'].unique(), desc=\"Clusters KMeans\"):\n",
    "        # Extraire les données appartenant au cluster KMeans courant\n",
    "        cluster_data = df[df['kmeans_cluster'] == cluster_id].copy()\n",
    "        n_points = len(cluster_data)\n",
    "\n",
    "        print(f\"\\nTraitement du cluster KMeans {cluster_id} contenant {n_points} points.\")\n",
    "\n",
    "        # Skip si trop peu de points\n",
    "        if n_points < 3:\n",
    "            print(f\"  -> Cluster {cluster_id} ignoré: trop peu de points ({n_points} < 3).\")\n",
    "            continue\n",
    "\n",
    "        # Ajuster dynamiquement les paramètres en fonction de la taille du cluster\n",
    "        dynamic_min_cluster_size = min(min_cluster_size, max(3, n_points // 10))\n",
    "        dynamic_min_samples      = min(min_samples,      max(2, n_points // 20))\n",
    "\n",
    "        if n_points < dynamic_min_cluster_size:\n",
    "            print(f\"  -> Cluster {cluster_id} ignoré: {n_points} < min_cluster_size ({dynamic_min_cluster_size}).\")\n",
    "            continue\n",
    "\n",
    "        print(f\"  -> Paramètres HDBSCAN: min_cluster_size={dynamic_min_cluster_size}, min_samples={dynamic_min_samples}\")\n",
    "\n",
    "        # Récupération des embeddings\n",
    "        cluster_embeddings = np.stack(cluster_data['embedding'])\n",
    "\n",
    "        try:\n",
    "            # Supprimez ou ajustez cluster_selection_epsilon si vous avez tout en bruit.\n",
    "            hdb = hdbscan.HDBSCAN(\n",
    "                min_cluster_size=dynamic_min_cluster_size,\n",
    "                min_samples=dynamic_min_samples,\n",
    "                metric='euclidean',\n",
    "                cluster_selection_method='eom',\n",
    "                allow_single_cluster=True\n",
    "            )\n",
    "            \n",
    "            local_hdb_labels = hdb.fit_predict(cluster_embeddings)\n",
    "\n",
    "            # Statistiques pour ce cluster\n",
    "            n_clusters_found = len(np.unique(local_hdb_labels[local_hdb_labels != -1]))\n",
    "            n_points_clustered_local = np.sum(local_hdb_labels != -1)\n",
    "            print(f\"  -> Sous-clusters trouvés par HDBSCAN : {n_clusters_found}\")\n",
    "            print(f\"  -> Points classifiés (hors bruit)    : {n_points_clustered_local}\")\n",
    "\n",
    "            # Mettre à jour compteurs globaux\n",
    "            total_clusters_found     += n_clusters_found\n",
    "            total_points_clustered   += n_points_clustered_local\n",
    "\n",
    "            # Décalage des labels locaux (pour éviter collisions entre clusters)\n",
    "            if n_clusters_found > 0:\n",
    "                valid_mask = (local_hdb_labels != -1)\n",
    "                local_hdb_labels[valid_mask] += global_offset\n",
    "                global_offset = local_hdb_labels.max() + 1\n",
    "\n",
    "            # Injection des labels HDBSCAN dans hdbscan_labels (index globaux)\n",
    "            hdbscan_labels[cluster_data.index] = local_hdb_labels\n",
    "\n",
    "        except Exception as e:\n",
    "            print(f\"Erreur lors du traitement du cluster KMeans {cluster_id}: {e}\")\n",
    "            continue\n",
    "\n",
    "    print(\"\\n=== Résumé HDBSCAN ===\")\n",
    "    print(f\"Total sous-clusters trouvés : {total_clusters_found}\")\n",
    "    print(f\"Total points classifiés     : {total_points_clustered}\")\n",
    "    if len(df) > 0:\n",
    "        pct = (total_points_clustered / len(df)) * 100\n",
    "        print(f\"Pourcentage de points hors bruit: {pct:.2f}%\")\n",
    "\n",
    "    # Assignation finale à la DataFrame\n",
    "    df['hdbscan_cluster'] = hdbscan_labels\n",
    "    return df\n",
    "\n",
    "def add_kmeans_centroids(df, kmeans):\n",
    "    \"\"\"\n",
    "    Ajoute une colonne 'kmeans_centroid' contenant le centroïde KMeans\n",
    "    de chaque cluster KMeans. Ainsi, on peut calculer la distance d'un\n",
    "    point à ce centroïde.\n",
    "    \"\"\"\n",
    "    print(\"\\nCalcul du centroïde KMeans pour chaque point...\")\n",
    "\n",
    "    # Récupération de tous les centroïdes KMeans\n",
    "    centers = kmeans.cluster_centers_\n",
    "\n",
    "    # On mappe kmeans_cluster -> vecteur centroïde\n",
    "    df['kmeans_centroid'] = df['kmeans_cluster'].apply(lambda c: centers[c])\n",
    "    \n",
    "    print(\"Centroïdes KMeans ajoutés.\")\n",
    "    return df\n",
    "\n",
    "def add_ranking(df):\n",
    "    \"\"\"\n",
    "    Calcule la distance de chaque point à son centroïde KMeans,\n",
    "    puis attribue un rang 'rank' à l'intérieur de chaque sous-cluster HDBSCAN.\n",
    "    Les points de bruit (hdbscan_cluster = -1) ont distance = inf et rank = NaN.\n",
    "    \"\"\"\n",
    "    print(\"\\nCalcul des distances au centroïde KMeans et ajout du ranking...\")\n",
    "\n",
    "    def distance_to_kmeans_centroid(row):\n",
    "        if row['hdbscan_cluster'] == -1:\n",
    "            return float('inf')\n",
    "        # Distance par rapport au centroïde KMeans (déjà stocké dans 'kmeans_centroid')\n",
    "        return np.linalg.norm(row['embedding'] - row['kmeans_centroid'])\n",
    "\n",
    "    # Distance au centroïde KMeans\n",
    "    df['distance_to_centroid'] = df.apply(distance_to_kmeans_centroid, axis=1)\n",
    "\n",
    "    # Calcul du rang par (kmeans_cluster, hdbscan_cluster)\n",
    "    df['rank'] = df[df['hdbscan_cluster'] != -1].groupby(\n",
    "        ['kmeans_cluster', 'hdbscan_cluster']\n",
    "    )['distance_to_centroid'].rank(method='first')\n",
    "\n",
    "    print(\"Ranking ajouté.\")\n",
    "    return df\n",
    "\n",
    "def clustering_pipeline_with_hdbscan(df, n_clusters=150, min_cluster_size=5, min_samples=3):\n",
    "    \"\"\"\n",
    "    Pipeline principal:\n",
    "      1. KMeans\n",
    "      2. HDBSCAN par cluster KMeans\n",
    "      3. Ajout centroïdes KMeans\n",
    "      4. Ranking par distance au centroïde KMeans à l'intérieur des sous-clusters\n",
    "    \"\"\"\n",
    "    print(\"\\n=== Début du pipeline de clustering ===\")\n",
    "    print(f\"Dimensions du dataset initial : {df.shape}\")\n",
    "\n",
    "    # On enlève éventuellement les lignes avec embedding manquant\n",
    "    df = df.dropna(subset=['embedding'])\n",
    "    if df.empty:\n",
    "        print(\"Erreur: Dataset vide après nettoyage.\")\n",
    "        return df, None\n",
    "\n",
    "    print(f\"Dimensions après nettoyage : {df.shape}\")\n",
    "\n",
    "    embeddings = np.stack(df['embedding'].values)\n",
    "\n",
    "    # S'il y a moins de points que de clusters demandés\n",
    "    if len(embeddings) < n_clusters:\n",
    "        n_clusters = max(2, len(embeddings) // 10)\n",
    "        print(f\"Ajustement du nombre de clusters KMeans à : {n_clusters}\")\n",
    "\n",
    "    # 1. KMeans\n",
    "    kmeans_labels, kmeans_model = apply_kmeans(embeddings, n_clusters=n_clusters)\n",
    "    df['kmeans_cluster'] = kmeans_labels\n",
    "\n",
    "    # 2. HDBSCAN dans chaque cluster KMeans\n",
    "    df = refine_with_hdbscan_per_kmeans_cluster(df, min_cluster_size=min_cluster_size, min_samples=min_samples)\n",
    "\n",
    "    # [DEBUG] Vérifions les labels tout de suite après la phase HDBSCAN\n",
    "    print(\"\\n[DEBUG] Distribution hdbscan_cluster (après refine_with_hdbscan_per_kmeans_cluster) :\")\n",
    "    print(df['hdbscan_cluster'].value_counts(dropna=False))\n",
    "\n",
    "    # 3. Ajouter le centroïde KMeans pour chaque ligne\n",
    "    df = add_kmeans_centroids(df, kmeans_model)\n",
    "\n",
    "    # [DEBUG] Vérifions que nous n'avons pas perdu les labels\n",
    "    print(\"\\n[DEBUG] Distribution hdbscan_cluster (juste après add_kmeans_centroids) :\")\n",
    "    print(df['hdbscan_cluster'].value_counts(dropna=False))\n",
    "\n",
    "    # 4. Calculer la distance à ce centroïde KMeans et rajouter un rang\n",
    "    df = add_ranking(df)\n",
    "\n",
    "    # [DEBUG] Vérifions que nous n'avons pas perdu les labels encore\n",
    "    print(\"\\n[DEBUG] Distribution hdbscan_cluster (juste après add_ranking) :\")\n",
    "    print(df['hdbscan_cluster'].value_counts(dropna=False))\n",
    "\n",
    "    print(\"=== Fin du pipeline de clustering ===\\n\")\n",
    "    return df, kmeans_model\n",
    "\n",
    "def process_full_dataset(file_path, \n",
    "                        n_clusters=150, \n",
    "                        min_cluster_size=5, \n",
    "                        min_samples=3, \n",
    "                        sample_frac=None):\n",
    "    \"\"\"\n",
    "    Fonction globale: \n",
    "      - charge le dataset \n",
    "      - lance le pipeline \n",
    "      - sauvegarde le résultat dans un CSV \n",
    "      - affiche quelques stats finales\n",
    "    \"\"\"\n",
    "    print(\"=== Démarrage du traitement global ===\")\n",
    "\n",
    "    # 1. Chargement des données\n",
    "    df = load_full_dataset(file_path, use_columns=['embedding', 'Message-ID', 'final_body', 'From'], sample_frac=sample_frac)\n",
    "    if df.empty:\n",
    "        print(\"Erreur: dataset vide, arrêt.\")\n",
    "        return\n",
    "\n",
    "    # 2. Pipeline KMeans + HDBSCAN\n",
    "    df_with_ranking, kmeans_model = clustering_pipeline_with_hdbscan(\n",
    "        df,\n",
    "        n_clusters=n_clusters,\n",
    "        min_cluster_size=min_cluster_size,\n",
    "        min_samples=min_samples\n",
    "    )\n",
    "\n",
    "    # 3. Sauvegarde du résultat\n",
    "    if df_with_ranking is not None and not df_with_ranking.empty:\n",
    "        output_file = \"final_dataset_with_hdbscan_ranking_PERMISSIF_1.csv\"\n",
    "        df_with_ranking.to_csv(output_file, index=False)\n",
    "        print(f\"Dataset final sauvegardé dans : {output_file}\")\n",
    "\n",
    "        # 4. Statistiques finales\n",
    "        unique_clusters = df_with_ranking['hdbscan_cluster'].unique()\n",
    "        # Nombre de clusters hors bruit\n",
    "        total_clusters = len(unique_clusters) - (1 if -1 in unique_clusters else 0)\n",
    "        noise_points   = (df_with_ranking['hdbscan_cluster'] == -1).sum()\n",
    "        noise_pct      = (noise_points / len(df_with_ranking)) * 100\n",
    "\n",
    "        print(\"\\n=== Statistiques finales ===\")\n",
    "        print(f\"Nombre total de sous-clusters HDBSCAN : {total_clusters}\")\n",
    "        print(f\"Points de bruit : {noise_points} ({noise_pct:.2f}%)\")\n",
    "        print(f\"Points classifiés : {len(df_with_ranking) - noise_points} ({100 - noise_pct:.2f}%)\")\n",
    "    else:\n",
    "        print(\"Aucun résultat à sauvegarder, dataset vide après clustering.\")\n",
    "\n",
    "    print(\"=== Fin du traitement global ===\\n\")\n",
    "'''"
   ]
  },
  {
   "cell_type": "code",
   "execution_count": null,
   "metadata": {},
   "outputs": [
    {
     "name": "stdout",
     "output_type": "stream",
     "text": [
      "=== Démarrage du traitement global ===\n",
      "Chargement des données...\n",
      "Chargement terminé. Nombre de lignes: 363684\n",
      "\n",
      "=== Début du pipeline de clustering ===\n",
      "Dimensions du dataset initial : (363684, 4)\n",
      "Dimensions après nettoyage : (363684, 4)\n",
      "Application de KMeans...\n",
      "Nombre de points: 363684\n",
      "KMeans terminé. Distribution des clusters :\n",
      " - Cluster KMeans 0: 1522 points\n",
      " - Cluster KMeans 1: 2487 points\n",
      " - Cluster KMeans 2: 3759 points\n",
      " - Cluster KMeans 3: 4104 points\n",
      " - Cluster KMeans 4: 2979 points\n",
      " - Cluster KMeans 5: 2589 points\n",
      " - Cluster KMeans 6: 1317 points\n",
      " - Cluster KMeans 7: 2631 points\n",
      " - Cluster KMeans 8: 1713 points\n",
      " - Cluster KMeans 9: 2879 points\n",
      " - Cluster KMeans 10: 2249 points\n",
      " - Cluster KMeans 11: 2371 points\n",
      " - Cluster KMeans 12: 4581 points\n",
      " - Cluster KMeans 13: 2822 points\n",
      " - Cluster KMeans 14: 796 points\n",
      " - Cluster KMeans 15: 3616 points\n",
      " - Cluster KMeans 16: 2872 points\n",
      " - Cluster KMeans 17: 2497 points\n",
      " - Cluster KMeans 18: 2954 points\n",
      " - Cluster KMeans 19: 2333 points\n",
      " - Cluster KMeans 20: 3695 points\n",
      " - Cluster KMeans 21: 2455 points\n",
      " - Cluster KMeans 22: 4458 points\n",
      " - Cluster KMeans 23: 1478 points\n",
      " - Cluster KMeans 24: 2123 points\n",
      " - Cluster KMeans 25: 3317 points\n",
      " - Cluster KMeans 26: 2783 points\n",
      " - Cluster KMeans 27: 697 points\n",
      " - Cluster KMeans 28: 3488 points\n",
      " - Cluster KMeans 29: 742 points\n",
      " - Cluster KMeans 30: 1389 points\n",
      " - Cluster KMeans 31: 5148 points\n",
      " - Cluster KMeans 32: 1175 points\n",
      " - Cluster KMeans 33: 2910 points\n",
      " - Cluster KMeans 34: 2998 points\n",
      " - Cluster KMeans 35: 2470 points\n",
      " - Cluster KMeans 36: 2762 points\n",
      " - Cluster KMeans 37: 1490 points\n",
      " - Cluster KMeans 38: 3204 points\n",
      " - Cluster KMeans 39: 2472 points\n",
      " - Cluster KMeans 40: 3153 points\n",
      " - Cluster KMeans 41: 3056 points\n",
      " - Cluster KMeans 42: 2929 points\n",
      " - Cluster KMeans 43: 930 points\n",
      " - Cluster KMeans 44: 1877 points\n",
      " - Cluster KMeans 45: 1222 points\n",
      " - Cluster KMeans 46: 3094 points\n",
      " - Cluster KMeans 47: 3271 points\n",
      " - Cluster KMeans 48: 967 points\n",
      " - Cluster KMeans 49: 3983 points\n",
      " - Cluster KMeans 50: 2996 points\n",
      " - Cluster KMeans 51: 3021 points\n",
      " - Cluster KMeans 52: 3657 points\n",
      " - Cluster KMeans 53: 559 points\n",
      " - Cluster KMeans 54: 1383 points\n",
      " - Cluster KMeans 55: 2448 points\n",
      " - Cluster KMeans 56: 1209 points\n",
      " - Cluster KMeans 57: 2198 points\n",
      " - Cluster KMeans 58: 3456 points\n",
      " - Cluster KMeans 59: 2793 points\n",
      " - Cluster KMeans 60: 3778 points\n",
      " - Cluster KMeans 61: 1819 points\n",
      " - Cluster KMeans 62: 822 points\n",
      " - Cluster KMeans 63: 1307 points\n",
      " - Cluster KMeans 64: 5954 points\n",
      " - Cluster KMeans 65: 1945 points\n",
      " - Cluster KMeans 66: 1770 points\n",
      " - Cluster KMeans 67: 4402 points\n",
      " - Cluster KMeans 68: 343 points\n",
      " - Cluster KMeans 69: 3010 points\n",
      " - Cluster KMeans 70: 2868 points\n",
      " - Cluster KMeans 71: 268 points\n",
      " - Cluster KMeans 72: 1895 points\n",
      " - Cluster KMeans 73: 2927 points\n",
      " - Cluster KMeans 74: 754 points\n",
      " - Cluster KMeans 75: 2633 points\n",
      " - Cluster KMeans 76: 104 points\n",
      " - Cluster KMeans 77: 2525 points\n",
      " - Cluster KMeans 78: 1208 points\n",
      " - Cluster KMeans 79: 4357 points\n",
      " - Cluster KMeans 80: 2638 points\n",
      " - Cluster KMeans 81: 3701 points\n",
      " - Cluster KMeans 82: 2559 points\n",
      " - Cluster KMeans 83: 3432 points\n",
      " - Cluster KMeans 84: 2207 points\n",
      " - Cluster KMeans 85: 3128 points\n",
      " - Cluster KMeans 86: 977 points\n",
      " - Cluster KMeans 87: 2687 points\n",
      " - Cluster KMeans 88: 304 points\n",
      " - Cluster KMeans 89: 2641 points\n",
      " - Cluster KMeans 90: 1170 points\n",
      " - Cluster KMeans 91: 1799 points\n",
      " - Cluster KMeans 92: 1300 points\n",
      " - Cluster KMeans 93: 1243 points\n",
      " - Cluster KMeans 94: 2360 points\n",
      " - Cluster KMeans 95: 2540 points\n",
      " - Cluster KMeans 96: 665 points\n",
      " - Cluster KMeans 97: 1326 points\n",
      " - Cluster KMeans 98: 2571 points\n",
      " - Cluster KMeans 99: 282 points\n",
      " - Cluster KMeans 100: 3365 points\n",
      " - Cluster KMeans 101: 2854 points\n",
      " - Cluster KMeans 102: 2116 points\n",
      " - Cluster KMeans 103: 4769 points\n",
      " - Cluster KMeans 104: 2408 points\n",
      " - Cluster KMeans 105: 4216 points\n",
      " - Cluster KMeans 106: 1119 points\n",
      " - Cluster KMeans 107: 2818 points\n",
      " - Cluster KMeans 108: 2357 points\n",
      " - Cluster KMeans 109: 3324 points\n",
      " - Cluster KMeans 110: 4033 points\n",
      " - Cluster KMeans 111: 933 points\n",
      " - Cluster KMeans 112: 1277 points\n",
      " - Cluster KMeans 113: 1310 points\n",
      " - Cluster KMeans 114: 1802 points\n",
      " - Cluster KMeans 115: 2364 points\n",
      " - Cluster KMeans 116: 2508 points\n",
      " - Cluster KMeans 117: 998 points\n",
      " - Cluster KMeans 118: 1718 points\n",
      " - Cluster KMeans 119: 1156 points\n",
      " - Cluster KMeans 120: 1160 points\n",
      " - Cluster KMeans 121: 2956 points\n",
      " - Cluster KMeans 122: 5143 points\n",
      " - Cluster KMeans 123: 4324 points\n",
      " - Cluster KMeans 124: 2729 points\n",
      " - Cluster KMeans 125: 2179 points\n",
      " - Cluster KMeans 126: 2549 points\n",
      " - Cluster KMeans 127: 5468 points\n",
      " - Cluster KMeans 128: 3262 points\n",
      " - Cluster KMeans 129: 1923 points\n",
      " - Cluster KMeans 130: 1395 points\n",
      " - Cluster KMeans 131: 1965 points\n",
      " - Cluster KMeans 132: 2129 points\n",
      " - Cluster KMeans 133: 2070 points\n",
      " - Cluster KMeans 134: 3485 points\n",
      " - Cluster KMeans 135: 2004 points\n",
      " - Cluster KMeans 136: 4120 points\n",
      " - Cluster KMeans 137: 2801 points\n",
      " - Cluster KMeans 138: 546 points\n",
      " - Cluster KMeans 139: 1388 points\n",
      " - Cluster KMeans 140: 4454 points\n",
      " - Cluster KMeans 141: 2803 points\n",
      " - Cluster KMeans 142: 2182 points\n",
      " - Cluster KMeans 143: 3487 points\n",
      " - Cluster KMeans 144: 574 points\n",
      " - Cluster KMeans 145: 2352 points\n",
      " - Cluster KMeans 146: 3036 points\n",
      " - Cluster KMeans 147: 1950 points\n",
      " - Cluster KMeans 148: 1748 points\n",
      " - Cluster KMeans 149: 3311 points\n",
      "\n",
      "Début du raffinement avec HDBSCAN pour chaque cluster KMeans...\n"
     ]
    },
    {
     "name": "stderr",
     "output_type": "stream",
     "text": [
      "Clusters KMeans:   0%|          | 0/150 [00:00<?, ?it/s]"
     ]
    },
    {
     "name": "stdout",
     "output_type": "stream",
     "text": [
      "\n",
      "Traitement du cluster KMeans 107 contenant 2818 points.\n",
      "  -> Paramètres HDBSCAN: min_cluster_size=30, min_samples=2\n"
     ]
    },
    {
     "name": "stderr",
     "output_type": "stream",
     "text": [
      "Clusters KMeans:   1%|          | 1/150 [00:04<09:58,  4.02s/it]"
     ]
    },
    {
     "name": "stdout",
     "output_type": "stream",
     "text": [
      "  -> Sous-clusters trouvés par HDBSCAN : 1\n",
      "  -> Points classifiés (hors bruit)    : 1981\n",
      "\n",
      "Traitement du cluster KMeans 67 contenant 4402 points.\n",
      "  -> Paramètres HDBSCAN: min_cluster_size=30, min_samples=2\n"
     ]
    },
    {
     "name": "stderr",
     "output_type": "stream",
     "text": [
      "Clusters KMeans:   1%|▏         | 2/150 [00:15<20:02,  8.12s/it]"
     ]
    },
    {
     "name": "stdout",
     "output_type": "stream",
     "text": [
      "  -> Sous-clusters trouvés par HDBSCAN : 1\n",
      "  -> Points classifiés (hors bruit)    : 30\n",
      "\n",
      "Traitement du cluster KMeans 145 contenant 2352 points.\n",
      "  -> Paramètres HDBSCAN: min_cluster_size=30, min_samples=2\n"
     ]
    },
    {
     "name": "stderr",
     "output_type": "stream",
     "text": [
      "Clusters KMeans:   2%|▏         | 3/150 [00:18<14:35,  5.95s/it]"
     ]
    },
    {
     "name": "stdout",
     "output_type": "stream",
     "text": [
      "  -> Sous-clusters trouvés par HDBSCAN : 1\n",
      "  -> Points classifiés (hors bruit)    : 203\n",
      "\n",
      "Traitement du cluster KMeans 61 contenant 1819 points.\n",
      "  -> Paramètres HDBSCAN: min_cluster_size=30, min_samples=2\n"
     ]
    },
    {
     "name": "stderr",
     "output_type": "stream",
     "text": [
      "Clusters KMeans:   3%|▎         | 4/150 [00:20<10:41,  4.39s/it]"
     ]
    },
    {
     "name": "stdout",
     "output_type": "stream",
     "text": [
      "  -> Sous-clusters trouvés par HDBSCAN : 1\n",
      "  -> Points classifiés (hors bruit)    : 1190\n",
      "\n",
      "Traitement du cluster KMeans 141 contenant 2803 points.\n",
      "  -> Paramètres HDBSCAN: min_cluster_size=30, min_samples=2\n"
     ]
    },
    {
     "name": "stderr",
     "output_type": "stream",
     "text": [
      "Clusters KMeans:   3%|▎         | 5/150 [00:24<10:14,  4.23s/it]"
     ]
    },
    {
     "name": "stdout",
     "output_type": "stream",
     "text": [
      "  -> Sous-clusters trouvés par HDBSCAN : 1\n",
      "  -> Points classifiés (hors bruit)    : 1348\n",
      "\n",
      "Traitement du cluster KMeans 137 contenant 2801 points.\n",
      "  -> Paramètres HDBSCAN: min_cluster_size=30, min_samples=2\n"
     ]
    },
    {
     "name": "stderr",
     "output_type": "stream",
     "text": [
      "Clusters KMeans:   4%|▍         | 6/150 [00:28<09:46,  4.08s/it]"
     ]
    },
    {
     "name": "stdout",
     "output_type": "stream",
     "text": [
      "  -> Sous-clusters trouvés par HDBSCAN : 1\n",
      "  -> Points classifiés (hors bruit)    : 1855\n",
      "\n",
      "Traitement du cluster KMeans 73 contenant 2927 points.\n",
      "  -> Paramètres HDBSCAN: min_cluster_size=30, min_samples=2\n"
     ]
    },
    {
     "name": "stderr",
     "output_type": "stream",
     "text": [
      "Clusters KMeans:   5%|▍         | 7/150 [00:32<09:41,  4.06s/it]"
     ]
    },
    {
     "name": "stdout",
     "output_type": "stream",
     "text": [
      "  -> Sous-clusters trouvés par HDBSCAN : 1\n",
      "  -> Points classifiés (hors bruit)    : 2399\n",
      "\n",
      "Traitement du cluster KMeans 64 contenant 5954 points.\n",
      "  -> Paramètres HDBSCAN: min_cluster_size=30, min_samples=2\n"
     ]
    },
    {
     "name": "stderr",
     "output_type": "stream",
     "text": [
      "Clusters KMeans:   5%|▌         | 8/150 [00:50<20:04,  8.49s/it]"
     ]
    },
    {
     "name": "stdout",
     "output_type": "stream",
     "text": [
      "  -> Sous-clusters trouvés par HDBSCAN : 23\n",
      "  -> Points classifiés (hors bruit)    : 1666\n",
      "\n",
      "Traitement du cluster KMeans 85 contenant 3128 points.\n",
      "  -> Paramètres HDBSCAN: min_cluster_size=30, min_samples=2\n"
     ]
    },
    {
     "name": "stderr",
     "output_type": "stream",
     "text": [
      "Clusters KMeans:   6%|▌         | 9/150 [00:54<16:50,  7.16s/it]"
     ]
    },
    {
     "name": "stdout",
     "output_type": "stream",
     "text": [
      "  -> Sous-clusters trouvés par HDBSCAN : 9\n",
      "  -> Points classifiés (hors bruit)    : 482\n",
      "\n",
      "Traitement du cluster KMeans 9 contenant 2879 points.\n",
      "  -> Paramètres HDBSCAN: min_cluster_size=30, min_samples=2\n"
     ]
    },
    {
     "name": "stderr",
     "output_type": "stream",
     "text": [
      "Clusters KMeans:   7%|▋         | 10/150 [00:58<14:22,  6.16s/it]"
     ]
    },
    {
     "name": "stdout",
     "output_type": "stream",
     "text": [
      "  -> Sous-clusters trouvés par HDBSCAN : 1\n",
      "  -> Points classifiés (hors bruit)    : 106\n",
      "\n",
      "Traitement du cluster KMeans 103 contenant 4769 points.\n",
      "  -> Paramètres HDBSCAN: min_cluster_size=30, min_samples=2\n"
     ]
    },
    {
     "name": "stderr",
     "output_type": "stream",
     "text": [
      "Clusters KMeans:   7%|▋         | 11/150 [01:06<16:01,  6.92s/it]"
     ]
    },
    {
     "name": "stdout",
     "output_type": "stream",
     "text": [
      "  -> Sous-clusters trouvés par HDBSCAN : 1\n",
      "  -> Points classifiés (hors bruit)    : 3174\n",
      "\n",
      "Traitement du cluster KMeans 81 contenant 3701 points.\n",
      "  -> Paramètres HDBSCAN: min_cluster_size=30, min_samples=2\n"
     ]
    },
    {
     "name": "stderr",
     "output_type": "stream",
     "text": [
      "Clusters KMeans:   8%|▊         | 12/150 [01:13<15:23,  6.69s/it]"
     ]
    },
    {
     "name": "stdout",
     "output_type": "stream",
     "text": [
      "  -> Sous-clusters trouvés par HDBSCAN : 1\n",
      "  -> Points classifiés (hors bruit)    : 1465\n",
      "\n",
      "Traitement du cluster KMeans 50 contenant 2996 points.\n",
      "  -> Paramètres HDBSCAN: min_cluster_size=30, min_samples=2\n"
     ]
    },
    {
     "name": "stderr",
     "output_type": "stream",
     "text": [
      "Clusters KMeans:   9%|▊         | 13/150 [01:17<14:01,  6.14s/it]"
     ]
    },
    {
     "name": "stdout",
     "output_type": "stream",
     "text": [
      "  -> Sous-clusters trouvés par HDBSCAN : 1\n",
      "  -> Points classifiés (hors bruit)    : 584\n",
      "\n",
      "Traitement du cluster KMeans 15 contenant 3616 points.\n",
      "  -> Paramètres HDBSCAN: min_cluster_size=30, min_samples=2\n"
     ]
    },
    {
     "name": "stderr",
     "output_type": "stream",
     "text": [
      "Clusters KMeans:   9%|▉         | 14/150 [01:23<13:29,  5.95s/it]"
     ]
    },
    {
     "name": "stdout",
     "output_type": "stream",
     "text": [
      "  -> Sous-clusters trouvés par HDBSCAN : 11\n",
      "  -> Points classifiés (hors bruit)    : 963\n",
      "\n",
      "Traitement du cluster KMeans 105 contenant 4216 points.\n",
      "  -> Paramètres HDBSCAN: min_cluster_size=30, min_samples=2\n"
     ]
    },
    {
     "name": "stderr",
     "output_type": "stream",
     "text": [
      "Clusters KMeans:  10%|█         | 15/150 [01:31<15:00,  6.67s/it]"
     ]
    },
    {
     "name": "stdout",
     "output_type": "stream",
     "text": [
      "  -> Sous-clusters trouvés par HDBSCAN : 3\n",
      "  -> Points classifiés (hors bruit)    : 3025\n",
      "\n",
      "Traitement du cluster KMeans 146 contenant 3036 points.\n",
      "  -> Paramètres HDBSCAN: min_cluster_size=30, min_samples=2\n"
     ]
    },
    {
     "name": "stderr",
     "output_type": "stream",
     "text": [
      "Clusters KMeans:  11%|█         | 16/150 [01:36<13:38,  6.11s/it]"
     ]
    },
    {
     "name": "stdout",
     "output_type": "stream",
     "text": [
      "  -> Sous-clusters trouvés par HDBSCAN : 1\n",
      "  -> Points classifiés (hors bruit)    : 578\n",
      "\n",
      "Traitement du cluster KMeans 106 contenant 1119 points.\n",
      "  -> Paramètres HDBSCAN: min_cluster_size=30, min_samples=2\n"
     ]
    },
    {
     "name": "stderr",
     "output_type": "stream",
     "text": [
      "Clusters KMeans:  11%|█▏        | 17/150 [01:37<09:53,  4.46s/it]"
     ]
    },
    {
     "name": "stdout",
     "output_type": "stream",
     "text": [
      "  -> Sous-clusters trouvés par HDBSCAN : 1\n",
      "  -> Points classifiés (hors bruit)    : 571\n",
      "\n",
      "Traitement du cluster KMeans 82 contenant 2559 points.\n",
      "  -> Paramètres HDBSCAN: min_cluster_size=30, min_samples=2\n"
     ]
    },
    {
     "name": "stderr",
     "output_type": "stream",
     "text": [
      "Clusters KMeans:  12%|█▏        | 18/150 [01:40<09:17,  4.23s/it]"
     ]
    },
    {
     "name": "stdout",
     "output_type": "stream",
     "text": [
      "  -> Sous-clusters trouvés par HDBSCAN : 1\n",
      "  -> Points classifiés (hors bruit)    : 482\n",
      "\n",
      "Traitement du cluster KMeans 83 contenant 3432 points.\n",
      "  -> Paramètres HDBSCAN: min_cluster_size=30, min_samples=2\n"
     ]
    },
    {
     "name": "stderr",
     "output_type": "stream",
     "text": [
      "Clusters KMeans:  13%|█▎        | 19/150 [01:47<10:29,  4.81s/it]"
     ]
    },
    {
     "name": "stdout",
     "output_type": "stream",
     "text": [
      "  -> Sous-clusters trouvés par HDBSCAN : 5\n",
      "  -> Points classifiés (hors bruit)    : 507\n",
      "\n",
      "Traitement du cluster KMeans 79 contenant 4357 points.\n",
      "  -> Paramètres HDBSCAN: min_cluster_size=30, min_samples=2\n"
     ]
    },
    {
     "name": "stderr",
     "output_type": "stream",
     "text": [
      "Clusters KMeans:  13%|█▎        | 20/150 [01:55<13:04,  6.03s/it]"
     ]
    },
    {
     "name": "stdout",
     "output_type": "stream",
     "text": [
      "  -> Sous-clusters trouvés par HDBSCAN : 1\n",
      "  -> Points classifiés (hors bruit)    : 1289\n",
      "\n",
      "Traitement du cluster KMeans 116 contenant 2508 points.\n",
      "  -> Paramètres HDBSCAN: min_cluster_size=30, min_samples=2\n"
     ]
    },
    {
     "name": "stderr",
     "output_type": "stream",
     "text": [
      "Clusters KMeans:  14%|█▍        | 21/150 [01:59<11:22,  5.29s/it]"
     ]
    },
    {
     "name": "stdout",
     "output_type": "stream",
     "text": [
      "  -> Sous-clusters trouvés par HDBSCAN : 1\n",
      "  -> Points classifiés (hors bruit)    : 550\n",
      "\n",
      "Traitement du cluster KMeans 10 contenant 2249 points.\n",
      "  -> Paramètres HDBSCAN: min_cluster_size=30, min_samples=2\n"
     ]
    },
    {
     "name": "stderr",
     "output_type": "stream",
     "text": [
      "Clusters KMeans:  15%|█▍        | 22/150 [02:02<09:30,  4.46s/it]"
     ]
    },
    {
     "name": "stdout",
     "output_type": "stream",
     "text": [
      "  -> Sous-clusters trouvés par HDBSCAN : 11\n",
      "  -> Points classifiés (hors bruit)    : 693\n",
      "\n",
      "Traitement du cluster KMeans 4 contenant 2979 points.\n",
      "  -> Paramètres HDBSCAN: min_cluster_size=30, min_samples=2\n"
     ]
    },
    {
     "name": "stderr",
     "output_type": "stream",
     "text": [
      "Clusters KMeans:  15%|█▌        | 23/150 [02:06<09:15,  4.38s/it]"
     ]
    },
    {
     "name": "stdout",
     "output_type": "stream",
     "text": [
      "  -> Sous-clusters trouvés par HDBSCAN : 1\n",
      "  -> Points classifiés (hors bruit)    : 217\n",
      "\n",
      "Traitement du cluster KMeans 22 contenant 4458 points.\n",
      "  -> Paramètres HDBSCAN: min_cluster_size=30, min_samples=2\n"
     ]
    },
    {
     "name": "stderr",
     "output_type": "stream",
     "text": [
      "Clusters KMeans:  16%|█▌        | 24/150 [02:16<12:54,  6.15s/it]"
     ]
    },
    {
     "name": "stdout",
     "output_type": "stream",
     "text": [
      "  -> Sous-clusters trouvés par HDBSCAN : 1\n",
      "  -> Points classifiés (hors bruit)    : 2053\n",
      "\n",
      "Traitement du cluster KMeans 89 contenant 2641 points.\n",
      "  -> Paramètres HDBSCAN: min_cluster_size=30, min_samples=2\n"
     ]
    },
    {
     "name": "stderr",
     "output_type": "stream",
     "text": [
      "Clusters KMeans:  17%|█▋        | 25/150 [02:20<11:16,  5.42s/it]"
     ]
    },
    {
     "name": "stdout",
     "output_type": "stream",
     "text": [
      "  -> Sous-clusters trouvés par HDBSCAN : 1\n",
      "  -> Points classifiés (hors bruit)    : 241\n",
      "\n",
      "Traitement du cluster KMeans 40 contenant 3153 points.\n",
      "  -> Paramètres HDBSCAN: min_cluster_size=30, min_samples=2\n"
     ]
    },
    {
     "name": "stderr",
     "output_type": "stream",
     "text": [
      "Clusters KMeans:  17%|█▋        | 26/150 [02:24<10:43,  5.19s/it]"
     ]
    },
    {
     "name": "stdout",
     "output_type": "stream",
     "text": [
      "  -> Sous-clusters trouvés par HDBSCAN : 1\n",
      "  -> Points classifiés (hors bruit)    : 2288\n",
      "\n",
      "Traitement du cluster KMeans 16 contenant 2872 points.\n",
      "  -> Paramètres HDBSCAN: min_cluster_size=30, min_samples=2\n"
     ]
    },
    {
     "name": "stderr",
     "output_type": "stream",
     "text": [
      "Clusters KMeans:  18%|█▊        | 27/150 [02:29<10:03,  4.91s/it]"
     ]
    },
    {
     "name": "stdout",
     "output_type": "stream",
     "text": [
      "  -> Sous-clusters trouvés par HDBSCAN : 1\n",
      "  -> Points classifiés (hors bruit)    : 568\n",
      "\n",
      "Traitement du cluster KMeans 94 contenant 2360 points.\n",
      "  -> Paramètres HDBSCAN: min_cluster_size=30, min_samples=2\n"
     ]
    },
    {
     "name": "stderr",
     "output_type": "stream",
     "text": [
      "Clusters KMeans:  19%|█▊        | 28/150 [02:31<08:29,  4.17s/it]"
     ]
    },
    {
     "name": "stdout",
     "output_type": "stream",
     "text": [
      "  -> Sous-clusters trouvés par HDBSCAN : 1\n",
      "  -> Points classifiés (hors bruit)    : 1660\n",
      "\n",
      "Traitement du cluster KMeans 95 contenant 2540 points.\n",
      "  -> Paramètres HDBSCAN: min_cluster_size=30, min_samples=2\n"
     ]
    },
    {
     "name": "stderr",
     "output_type": "stream",
     "text": [
      "Clusters KMeans:  19%|█▉        | 29/150 [02:34<07:29,  3.72s/it]"
     ]
    },
    {
     "name": "stdout",
     "output_type": "stream",
     "text": [
      "  -> Sous-clusters trouvés par HDBSCAN : 1\n",
      "  -> Points classifiés (hors bruit)    : 1673\n",
      "\n",
      "Traitement du cluster KMeans 2 contenant 3759 points.\n",
      "  -> Paramètres HDBSCAN: min_cluster_size=30, min_samples=2\n"
     ]
    },
    {
     "name": "stderr",
     "output_type": "stream",
     "text": [
      "Clusters KMeans:  20%|██        | 30/150 [02:41<09:25,  4.71s/it]"
     ]
    },
    {
     "name": "stdout",
     "output_type": "stream",
     "text": [
      "  -> Sous-clusters trouvés par HDBSCAN : 1\n",
      "  -> Points classifiés (hors bruit)    : 123\n",
      "\n",
      "Traitement du cluster KMeans 47 contenant 3271 points.\n",
      "  -> Paramètres HDBSCAN: min_cluster_size=30, min_samples=2\n"
     ]
    },
    {
     "name": "stderr",
     "output_type": "stream",
     "text": [
      "Clusters KMeans:  21%|██        | 31/150 [02:45<08:54,  4.49s/it]"
     ]
    },
    {
     "name": "stdout",
     "output_type": "stream",
     "text": [
      "  -> Sous-clusters trouvés par HDBSCAN : 13\n",
      "  -> Points classifiés (hors bruit)    : 755\n",
      "\n",
      "Traitement du cluster KMeans 28 contenant 3488 points.\n",
      "  -> Paramètres HDBSCAN: min_cluster_size=30, min_samples=2\n"
     ]
    },
    {
     "name": "stderr",
     "output_type": "stream",
     "text": [
      "Clusters KMeans:  21%|██▏       | 32/150 [02:51<09:37,  4.90s/it]"
     ]
    },
    {
     "name": "stdout",
     "output_type": "stream",
     "text": [
      "  -> Sous-clusters trouvés par HDBSCAN : 1\n",
      "  -> Points classifiés (hors bruit)    : 2877\n",
      "\n",
      "Traitement du cluster KMeans 29 contenant 742 points.\n",
      "  -> Paramètres HDBSCAN: min_cluster_size=30, min_samples=2\n"
     ]
    },
    {
     "name": "stderr",
     "output_type": "stream",
     "text": [
      "Clusters KMeans:  22%|██▏       | 33/150 [02:51<06:48,  3.49s/it]"
     ]
    },
    {
     "name": "stdout",
     "output_type": "stream",
     "text": [
      "  -> Sous-clusters trouvés par HDBSCAN : 6\n",
      "  -> Points classifiés (hors bruit)    : 516\n",
      "\n",
      "Traitement du cluster KMeans 119 contenant 1156 points.\n",
      "  -> Paramètres HDBSCAN: min_cluster_size=30, min_samples=2\n"
     ]
    },
    {
     "name": "stderr",
     "output_type": "stream",
     "text": [
      "Clusters KMeans:  23%|██▎       | 34/150 [02:51<05:04,  2.63s/it]"
     ]
    },
    {
     "name": "stdout",
     "output_type": "stream",
     "text": [
      "  -> Sous-clusters trouvés par HDBSCAN : 5\n",
      "  -> Points classifiés (hors bruit)    : 714\n",
      "\n",
      "Traitement du cluster KMeans 100 contenant 3365 points.\n",
      "  -> Paramètres HDBSCAN: min_cluster_size=30, min_samples=2\n"
     ]
    },
    {
     "name": "stderr",
     "output_type": "stream",
     "text": [
      "Clusters KMeans:  23%|██▎       | 35/150 [02:55<05:46,  3.01s/it]"
     ]
    },
    {
     "name": "stdout",
     "output_type": "stream",
     "text": [
      "  -> Sous-clusters trouvés par HDBSCAN : 1\n",
      "  -> Points classifiés (hors bruit)    : 2227\n",
      "\n",
      "Traitement du cluster KMeans 91 contenant 1799 points.\n",
      "  -> Paramètres HDBSCAN: min_cluster_size=30, min_samples=2\n"
     ]
    },
    {
     "name": "stderr",
     "output_type": "stream",
     "text": [
      "Clusters KMeans:  24%|██▍       | 36/150 [02:57<04:53,  2.58s/it]"
     ]
    },
    {
     "name": "stdout",
     "output_type": "stream",
     "text": [
      "  -> Sous-clusters trouvés par HDBSCAN : 12\n",
      "  -> Points classifiés (hors bruit)    : 550\n",
      "\n",
      "Traitement du cluster KMeans 3 contenant 4104 points.\n",
      "  -> Paramètres HDBSCAN: min_cluster_size=30, min_samples=2\n"
     ]
    },
    {
     "name": "stderr",
     "output_type": "stream",
     "text": [
      "Clusters KMeans:  25%|██▍       | 37/150 [03:03<06:46,  3.59s/it]"
     ]
    },
    {
     "name": "stdout",
     "output_type": "stream",
     "text": [
      "  -> Sous-clusters trouvés par HDBSCAN : 1\n",
      "  -> Points classifiés (hors bruit)    : 1723\n",
      "\n",
      "Traitement du cluster KMeans 123 contenant 4324 points.\n",
      "  -> Paramètres HDBSCAN: min_cluster_size=30, min_samples=2\n"
     ]
    },
    {
     "name": "stderr",
     "output_type": "stream",
     "text": [
      "Clusters KMeans:  25%|██▌       | 38/150 [03:11<09:07,  4.89s/it]"
     ]
    },
    {
     "name": "stdout",
     "output_type": "stream",
     "text": [
      "  -> Sous-clusters trouvés par HDBSCAN : 2\n",
      "  -> Points classifiés (hors bruit)    : 4286\n",
      "\n",
      "Traitement du cluster KMeans 49 contenant 3983 points.\n",
      "  -> Paramètres HDBSCAN: min_cluster_size=30, min_samples=2\n"
     ]
    },
    {
     "name": "stderr",
     "output_type": "stream",
     "text": [
      "Clusters KMeans:  26%|██▌       | 39/150 [03:18<10:20,  5.59s/it]"
     ]
    },
    {
     "name": "stdout",
     "output_type": "stream",
     "text": [
      "  -> Sous-clusters trouvés par HDBSCAN : 1\n",
      "  -> Points classifiés (hors bruit)    : 778\n",
      "\n",
      "Traitement du cluster KMeans 87 contenant 2687 points.\n",
      "  -> Paramètres HDBSCAN: min_cluster_size=30, min_samples=2\n"
     ]
    },
    {
     "name": "stderr",
     "output_type": "stream",
     "text": [
      "Clusters KMeans:  27%|██▋       | 40/150 [03:22<09:11,  5.01s/it]"
     ]
    },
    {
     "name": "stdout",
     "output_type": "stream",
     "text": [
      "  -> Sous-clusters trouvés par HDBSCAN : 1\n",
      "  -> Points classifiés (hors bruit)    : 333\n",
      "\n",
      "Traitement du cluster KMeans 131 contenant 1965 points.\n",
      "  -> Paramètres HDBSCAN: min_cluster_size=30, min_samples=2\n"
     ]
    },
    {
     "name": "stderr",
     "output_type": "stream",
     "text": [
      "Clusters KMeans:  27%|██▋       | 41/150 [03:23<07:14,  3.99s/it]"
     ]
    },
    {
     "name": "stdout",
     "output_type": "stream",
     "text": [
      "  -> Sous-clusters trouvés par HDBSCAN : 11\n",
      "  -> Points classifiés (hors bruit)    : 646\n",
      "\n",
      "Traitement du cluster KMeans 75 contenant 2633 points.\n",
      "  -> Paramètres HDBSCAN: min_cluster_size=30, min_samples=2\n"
     ]
    },
    {
     "name": "stderr",
     "output_type": "stream",
     "text": [
      "Clusters KMeans:  28%|██▊       | 42/150 [03:26<06:18,  3.50s/it]"
     ]
    },
    {
     "name": "stdout",
     "output_type": "stream",
     "text": [
      "  -> Sous-clusters trouvés par HDBSCAN : 30\n",
      "  -> Points classifiés (hors bruit)    : 1769\n",
      "\n",
      "Traitement du cluster KMeans 13 contenant 2822 points.\n",
      "  -> Paramètres HDBSCAN: min_cluster_size=30, min_samples=2\n"
     ]
    },
    {
     "name": "stderr",
     "output_type": "stream",
     "text": [
      "Clusters KMeans:  29%|██▊       | 43/150 [03:30<06:39,  3.73s/it]"
     ]
    },
    {
     "name": "stdout",
     "output_type": "stream",
     "text": [
      "  -> Sous-clusters trouvés par HDBSCAN : 1\n",
      "  -> Points classifiés (hors bruit)    : 424\n",
      "\n",
      "Traitement du cluster KMeans 34 contenant 2998 points.\n",
      "  -> Paramètres HDBSCAN: min_cluster_size=30, min_samples=2\n"
     ]
    },
    {
     "name": "stderr",
     "output_type": "stream",
     "text": [
      "Clusters KMeans:  29%|██▉       | 44/150 [03:35<07:05,  4.01s/it]"
     ]
    },
    {
     "name": "stdout",
     "output_type": "stream",
     "text": [
      "  -> Sous-clusters trouvés par HDBSCAN : 1\n",
      "  -> Points classifiés (hors bruit)    : 558\n",
      "\n",
      "Traitement du cluster KMeans 60 contenant 3778 points.\n",
      "  -> Paramètres HDBSCAN: min_cluster_size=30, min_samples=2\n"
     ]
    },
    {
     "name": "stderr",
     "output_type": "stream",
     "text": [
      "Clusters KMeans:  30%|███       | 45/150 [03:42<08:33,  4.89s/it]"
     ]
    },
    {
     "name": "stdout",
     "output_type": "stream",
     "text": [
      "  -> Sous-clusters trouvés par HDBSCAN : 1\n",
      "  -> Points classifiés (hors bruit)    : 2229\n",
      "\n",
      "Traitement du cluster KMeans 121 contenant 2956 points.\n",
      "  -> Paramètres HDBSCAN: min_cluster_size=30, min_samples=2\n"
     ]
    },
    {
     "name": "stderr",
     "output_type": "stream",
     "text": [
      "Clusters KMeans:  31%|███       | 46/150 [03:45<07:36,  4.39s/it]"
     ]
    },
    {
     "name": "stdout",
     "output_type": "stream",
     "text": [
      "  -> Sous-clusters trouvés par HDBSCAN : 1\n",
      "  -> Points classifiés (hors bruit)    : 498\n",
      "\n",
      "Traitement du cluster KMeans 14 contenant 796 points.\n",
      "  -> Paramètres HDBSCAN: min_cluster_size=30, min_samples=2\n"
     ]
    },
    {
     "name": "stderr",
     "output_type": "stream",
     "text": [
      "Clusters KMeans:  31%|███▏      | 47/150 [03:45<05:28,  3.19s/it]"
     ]
    },
    {
     "name": "stdout",
     "output_type": "stream",
     "text": [
      "  -> Sous-clusters trouvés par HDBSCAN : 8\n",
      "  -> Points classifiés (hors bruit)    : 503\n",
      "\n",
      "Traitement du cluster KMeans 120 contenant 1160 points.\n",
      "  -> Paramètres HDBSCAN: min_cluster_size=30, min_samples=2\n"
     ]
    },
    {
     "name": "stderr",
     "output_type": "stream",
     "text": [
      "Clusters KMeans:  32%|███▏      | 48/150 [03:46<04:06,  2.42s/it]"
     ]
    },
    {
     "name": "stdout",
     "output_type": "stream",
     "text": [
      "  -> Sous-clusters trouvés par HDBSCAN : 10\n",
      "  -> Points classifiés (hors bruit)    : 957\n",
      "\n",
      "Traitement du cluster KMeans 149 contenant 3311 points.\n",
      "  -> Paramètres HDBSCAN: min_cluster_size=30, min_samples=2\n"
     ]
    },
    {
     "name": "stderr",
     "output_type": "stream",
     "text": [
      "Clusters KMeans:  33%|███▎      | 49/150 [03:50<04:49,  2.86s/it]"
     ]
    },
    {
     "name": "stdout",
     "output_type": "stream",
     "text": [
      "  -> Sous-clusters trouvés par HDBSCAN : 10\n",
      "  -> Points classifiés (hors bruit)    : 700\n",
      "\n",
      "Traitement du cluster KMeans 51 contenant 3021 points.\n",
      "  -> Paramètres HDBSCAN: min_cluster_size=30, min_samples=2\n"
     ]
    },
    {
     "name": "stderr",
     "output_type": "stream",
     "text": [
      "Clusters KMeans:  33%|███▎      | 50/150 [03:54<05:32,  3.33s/it]"
     ]
    },
    {
     "name": "stdout",
     "output_type": "stream",
     "text": [
      "  -> Sous-clusters trouvés par HDBSCAN : 1\n",
      "  -> Points classifiés (hors bruit)    : 1869\n",
      "\n",
      "Traitement du cluster KMeans 18 contenant 2954 points.\n",
      "  -> Paramètres HDBSCAN: min_cluster_size=30, min_samples=2\n"
     ]
    },
    {
     "name": "stderr",
     "output_type": "stream",
     "text": [
      "Clusters KMeans:  34%|███▍      | 51/150 [03:59<06:07,  3.71s/it]"
     ]
    },
    {
     "name": "stdout",
     "output_type": "stream",
     "text": [
      "  -> Sous-clusters trouvés par HDBSCAN : 1\n",
      "  -> Points classifiés (hors bruit)    : 2653\n",
      "\n",
      "Traitement du cluster KMeans 55 contenant 2448 points.\n",
      "  -> Paramètres HDBSCAN: min_cluster_size=30, min_samples=2\n"
     ]
    },
    {
     "name": "stderr",
     "output_type": "stream",
     "text": [
      "Clusters KMeans:  35%|███▍      | 52/150 [04:02<05:58,  3.66s/it]"
     ]
    },
    {
     "name": "stdout",
     "output_type": "stream",
     "text": [
      "  -> Sous-clusters trouvés par HDBSCAN : 1\n",
      "  -> Points classifiés (hors bruit)    : 583\n",
      "\n",
      "Traitement du cluster KMeans 109 contenant 3324 points.\n",
      "  -> Paramètres HDBSCAN: min_cluster_size=30, min_samples=2\n"
     ]
    },
    {
     "name": "stderr",
     "output_type": "stream",
     "text": [
      "Clusters KMeans:  35%|███▌      | 53/150 [04:08<07:01,  4.34s/it]"
     ]
    },
    {
     "name": "stdout",
     "output_type": "stream",
     "text": [
      "  -> Sous-clusters trouvés par HDBSCAN : 1\n",
      "  -> Points classifiés (hors bruit)    : 43\n",
      "\n",
      "Traitement du cluster KMeans 38 contenant 3204 points.\n",
      "  -> Paramètres HDBSCAN: min_cluster_size=30, min_samples=2\n"
     ]
    },
    {
     "name": "stderr",
     "output_type": "stream",
     "text": [
      "Clusters KMeans:  36%|███▌      | 54/150 [04:14<07:36,  4.75s/it]"
     ]
    },
    {
     "name": "stdout",
     "output_type": "stream",
     "text": [
      "  -> Sous-clusters trouvés par HDBSCAN : 3\n",
      "  -> Points classifiés (hors bruit)    : 2868\n",
      "\n",
      "Traitement du cluster KMeans 127 contenant 5468 points.\n",
      "  -> Paramètres HDBSCAN: min_cluster_size=30, min_samples=2\n"
     ]
    },
    {
     "name": "stderr",
     "output_type": "stream",
     "text": [
      "Clusters KMeans:  37%|███▋      | 55/150 [04:26<11:01,  6.96s/it]"
     ]
    },
    {
     "name": "stdout",
     "output_type": "stream",
     "text": [
      "  -> Sous-clusters trouvés par HDBSCAN : 1\n",
      "  -> Points classifiés (hors bruit)    : 1903\n",
      "\n",
      "Traitement du cluster KMeans 8 contenant 1713 points.\n",
      "  -> Paramètres HDBSCAN: min_cluster_size=30, min_samples=2\n"
     ]
    },
    {
     "name": "stderr",
     "output_type": "stream",
     "text": [
      "Clusters KMeans:  37%|███▋      | 56/150 [04:27<08:13,  5.25s/it]"
     ]
    },
    {
     "name": "stdout",
     "output_type": "stream",
     "text": [
      "  -> Sous-clusters trouvés par HDBSCAN : 1\n",
      "  -> Points classifiés (hors bruit)    : 325\n",
      "\n",
      "Traitement du cluster KMeans 26 contenant 2783 points.\n",
      "  -> Paramètres HDBSCAN: min_cluster_size=30, min_samples=2\n"
     ]
    },
    {
     "name": "stderr",
     "output_type": "stream",
     "text": [
      "Clusters KMeans:  38%|███▊      | 57/150 [04:31<07:36,  4.91s/it]"
     ]
    },
    {
     "name": "stdout",
     "output_type": "stream",
     "text": [
      "  -> Sous-clusters trouvés par HDBSCAN : 1\n",
      "  -> Points classifiés (hors bruit)    : 558\n",
      "\n",
      "Traitement du cluster KMeans 110 contenant 4033 points.\n",
      "  -> Paramètres HDBSCAN: min_cluster_size=30, min_samples=2\n"
     ]
    },
    {
     "name": "stderr",
     "output_type": "stream",
     "text": [
      "Clusters KMeans:  39%|███▊      | 58/150 [04:38<08:23,  5.47s/it]"
     ]
    },
    {
     "name": "stdout",
     "output_type": "stream",
     "text": [
      "  -> Sous-clusters trouvés par HDBSCAN : 1\n",
      "  -> Points classifiés (hors bruit)    : 2487\n",
      "\n",
      "Traitement du cluster KMeans 133 contenant 2070 points.\n",
      "  -> Paramètres HDBSCAN: min_cluster_size=30, min_samples=2\n"
     ]
    },
    {
     "name": "stderr",
     "output_type": "stream",
     "text": [
      "Clusters KMeans:  39%|███▉      | 59/150 [04:40<06:39,  4.39s/it]"
     ]
    },
    {
     "name": "stdout",
     "output_type": "stream",
     "text": [
      "  -> Sous-clusters trouvés par HDBSCAN : 3\n",
      "  -> Points classifiés (hors bruit)    : 1362\n",
      "\n",
      "Traitement du cluster KMeans 72 contenant 1895 points.\n",
      "  -> Paramètres HDBSCAN: min_cluster_size=30, min_samples=2\n"
     ]
    },
    {
     "name": "stderr",
     "output_type": "stream",
     "text": [
      "Clusters KMeans:  40%|████      | 60/150 [04:42<05:23,  3.60s/it]"
     ]
    },
    {
     "name": "stdout",
     "output_type": "stream",
     "text": [
      "  -> Sous-clusters trouvés par HDBSCAN : 1\n",
      "  -> Points classifiés (hors bruit)    : 949\n",
      "\n",
      "Traitement du cluster KMeans 31 contenant 5148 points.\n",
      "  -> Paramètres HDBSCAN: min_cluster_size=30, min_samples=2\n"
     ]
    },
    {
     "name": "stderr",
     "output_type": "stream",
     "text": [
      "Clusters KMeans:  41%|████      | 61/150 [04:54<09:18,  6.28s/it]"
     ]
    },
    {
     "name": "stdout",
     "output_type": "stream",
     "text": [
      "  -> Sous-clusters trouvés par HDBSCAN : 16\n",
      "  -> Points classifiés (hors bruit)    : 863\n",
      "\n",
      "Traitement du cluster KMeans 148 contenant 1748 points.\n",
      "  -> Paramètres HDBSCAN: min_cluster_size=30, min_samples=2\n"
     ]
    },
    {
     "name": "stderr",
     "output_type": "stream",
     "text": [
      "Clusters KMeans:  41%|████▏     | 62/150 [04:56<07:12,  4.92s/it]"
     ]
    },
    {
     "name": "stdout",
     "output_type": "stream",
     "text": [
      "  -> Sous-clusters trouvés par HDBSCAN : 1\n",
      "  -> Points classifiés (hors bruit)    : 386\n",
      "\n",
      "Traitement du cluster KMeans 69 contenant 3010 points.\n",
      "  -> Paramètres HDBSCAN: min_cluster_size=30, min_samples=2\n"
     ]
    },
    {
     "name": "stderr",
     "output_type": "stream",
     "text": [
      "Clusters KMeans:  42%|████▏     | 63/150 [05:00<06:33,  4.52s/it]"
     ]
    },
    {
     "name": "stdout",
     "output_type": "stream",
     "text": [
      "  -> Sous-clusters trouvés par HDBSCAN : 1\n",
      "  -> Points classifiés (hors bruit)    : 2121\n",
      "\n",
      "Traitement du cluster KMeans 19 contenant 2333 points.\n",
      "  -> Paramètres HDBSCAN: min_cluster_size=30, min_samples=2\n"
     ]
    },
    {
     "name": "stderr",
     "output_type": "stream",
     "text": [
      "Clusters KMeans:  43%|████▎     | 64/150 [05:03<05:57,  4.15s/it]"
     ]
    },
    {
     "name": "stdout",
     "output_type": "stream",
     "text": [
      "  -> Sous-clusters trouvés par HDBSCAN : 1\n",
      "  -> Points classifiés (hors bruit)    : 473\n",
      "\n",
      "Traitement du cluster KMeans 124 contenant 2729 points.\n",
      "  -> Paramètres HDBSCAN: min_cluster_size=30, min_samples=2\n"
     ]
    },
    {
     "name": "stderr",
     "output_type": "stream",
     "text": [
      "Clusters KMeans:  43%|████▎     | 65/150 [05:07<05:50,  4.13s/it]"
     ]
    },
    {
     "name": "stdout",
     "output_type": "stream",
     "text": [
      "  -> Sous-clusters trouvés par HDBSCAN : 1\n",
      "  -> Points classifiés (hors bruit)    : 928\n",
      "\n",
      "Traitement du cluster KMeans 41 contenant 3056 points.\n",
      "  -> Paramètres HDBSCAN: min_cluster_size=30, min_samples=2\n"
     ]
    },
    {
     "name": "stderr",
     "output_type": "stream",
     "text": [
      "Clusters KMeans:  44%|████▍     | 66/150 [05:12<06:08,  4.38s/it]"
     ]
    },
    {
     "name": "stdout",
     "output_type": "stream",
     "text": [
      "  -> Sous-clusters trouvés par HDBSCAN : 1\n",
      "  -> Points classifiés (hors bruit)    : 669\n",
      "\n",
      "Traitement du cluster KMeans 58 contenant 3456 points.\n",
      "  -> Paramètres HDBSCAN: min_cluster_size=30, min_samples=2\n"
     ]
    },
    {
     "name": "stderr",
     "output_type": "stream",
     "text": [
      "Clusters KMeans:  45%|████▍     | 67/150 [05:16<06:02,  4.37s/it]"
     ]
    },
    {
     "name": "stdout",
     "output_type": "stream",
     "text": [
      "  -> Sous-clusters trouvés par HDBSCAN : 1\n",
      "  -> Points classifiés (hors bruit)    : 1336\n",
      "\n",
      "Traitement du cluster KMeans 12 contenant 4581 points.\n",
      "  -> Paramètres HDBSCAN: min_cluster_size=30, min_samples=2\n"
     ]
    },
    {
     "name": "stderr",
     "output_type": "stream",
     "text": [
      "Clusters KMeans:  45%|████▌     | 68/150 [05:25<07:43,  5.65s/it]"
     ]
    },
    {
     "name": "stdout",
     "output_type": "stream",
     "text": [
      "  -> Sous-clusters trouvés par HDBSCAN : 1\n",
      "  -> Points classifiés (hors bruit)    : 2890\n",
      "\n",
      "Traitement du cluster KMeans 5 contenant 2589 points.\n",
      "  -> Paramètres HDBSCAN: min_cluster_size=30, min_samples=2\n"
     ]
    },
    {
     "name": "stderr",
     "output_type": "stream",
     "text": [
      "Clusters KMeans:  46%|████▌     | 69/150 [05:27<06:22,  4.72s/it]"
     ]
    },
    {
     "name": "stdout",
     "output_type": "stream",
     "text": [
      "  -> Sous-clusters trouvés par HDBSCAN : 1\n",
      "  -> Points classifiés (hors bruit)    : 1723\n",
      "\n",
      "Traitement du cluster KMeans 11 contenant 2371 points.\n",
      "  -> Paramètres HDBSCAN: min_cluster_size=30, min_samples=2\n"
     ]
    },
    {
     "name": "stderr",
     "output_type": "stream",
     "text": [
      "Clusters KMeans:  47%|████▋     | 70/150 [05:30<05:26,  4.08s/it]"
     ]
    },
    {
     "name": "stdout",
     "output_type": "stream",
     "text": [
      "  -> Sous-clusters trouvés par HDBSCAN : 17\n",
      "  -> Points classifiés (hors bruit)    : 1191\n",
      "\n",
      "Traitement du cluster KMeans 134 contenant 3485 points.\n",
      "  -> Paramètres HDBSCAN: min_cluster_size=30, min_samples=2\n"
     ]
    },
    {
     "name": "stderr",
     "output_type": "stream",
     "text": [
      "Clusters KMeans:  47%|████▋     | 71/150 [05:36<06:04,  4.61s/it]"
     ]
    },
    {
     "name": "stdout",
     "output_type": "stream",
     "text": [
      "  -> Sous-clusters trouvés par HDBSCAN : 1\n",
      "  -> Points classifiés (hors bruit)    : 1033\n",
      "\n",
      "Traitement du cluster KMeans 114 contenant 1802 points.\n",
      "  -> Paramètres HDBSCAN: min_cluster_size=30, min_samples=2\n"
     ]
    },
    {
     "name": "stderr",
     "output_type": "stream",
     "text": [
      "Clusters KMeans:  48%|████▊     | 72/150 [05:37<04:48,  3.70s/it]"
     ]
    },
    {
     "name": "stdout",
     "output_type": "stream",
     "text": [
      "  -> Sous-clusters trouvés par HDBSCAN : 10\n",
      "  -> Points classifiés (hors bruit)    : 546\n",
      "\n",
      "Traitement du cluster KMeans 33 contenant 2910 points.\n",
      "  -> Paramètres HDBSCAN: min_cluster_size=30, min_samples=2\n"
     ]
    },
    {
     "name": "stderr",
     "output_type": "stream",
     "text": [
      "Clusters KMeans:  49%|████▊     | 73/150 [05:41<04:41,  3.65s/it]"
     ]
    },
    {
     "name": "stdout",
     "output_type": "stream",
     "text": [
      "  -> Sous-clusters trouvés par HDBSCAN : 12\n",
      "  -> Points classifiés (hors bruit)    : 776\n",
      "\n",
      "Traitement du cluster KMeans 92 contenant 1300 points.\n",
      "  -> Paramètres HDBSCAN: min_cluster_size=30, min_samples=2\n"
     ]
    },
    {
     "name": "stderr",
     "output_type": "stream",
     "text": [
      "Clusters KMeans:  49%|████▉     | 74/150 [05:42<03:29,  2.76s/it]"
     ]
    },
    {
     "name": "stdout",
     "output_type": "stream",
     "text": [
      "  -> Sous-clusters trouvés par HDBSCAN : 9\n",
      "  -> Points classifiés (hors bruit)    : 628\n",
      "\n",
      "Traitement du cluster KMeans 21 contenant 2455 points.\n",
      "  -> Paramètres HDBSCAN: min_cluster_size=30, min_samples=2\n"
     ]
    },
    {
     "name": "stderr",
     "output_type": "stream",
     "text": [
      "Clusters KMeans:  50%|█████     | 75/150 [05:44<03:22,  2.70s/it]"
     ]
    },
    {
     "name": "stdout",
     "output_type": "stream",
     "text": [
      "  -> Sous-clusters trouvés par HDBSCAN : 14\n",
      "  -> Points classifiés (hors bruit)    : 1021\n",
      "\n",
      "Traitement du cluster KMeans 59 contenant 2793 points.\n",
      "  -> Paramètres HDBSCAN: min_cluster_size=30, min_samples=2\n"
     ]
    },
    {
     "name": "stderr",
     "output_type": "stream",
     "text": [
      "Clusters KMeans:  51%|█████     | 76/150 [05:48<03:37,  2.94s/it]"
     ]
    },
    {
     "name": "stdout",
     "output_type": "stream",
     "text": [
      "  -> Sous-clusters trouvés par HDBSCAN : 1\n",
      "  -> Points classifiés (hors bruit)    : 421\n",
      "\n",
      "Traitement du cluster KMeans 35 contenant 2470 points.\n",
      "  -> Paramètres HDBSCAN: min_cluster_size=30, min_samples=2\n"
     ]
    },
    {
     "name": "stderr",
     "output_type": "stream",
     "text": [
      "Clusters KMeans:  51%|█████▏    | 77/150 [05:50<03:21,  2.75s/it]"
     ]
    },
    {
     "name": "stdout",
     "output_type": "stream",
     "text": [
      "  -> Sous-clusters trouvés par HDBSCAN : 1\n",
      "  -> Points classifiés (hors bruit)    : 828\n",
      "\n",
      "Traitement du cluster KMeans 101 contenant 2854 points.\n",
      "  -> Paramètres HDBSCAN: min_cluster_size=30, min_samples=2\n"
     ]
    },
    {
     "name": "stderr",
     "output_type": "stream",
     "text": [
      "Clusters KMeans:  52%|█████▏    | 78/150 [05:54<03:47,  3.16s/it]"
     ]
    },
    {
     "name": "stdout",
     "output_type": "stream",
     "text": [
      "  -> Sous-clusters trouvés par HDBSCAN : 1\n",
      "  -> Points classifiés (hors bruit)    : 783\n",
      "\n",
      "Traitement du cluster KMeans 143 contenant 3487 points.\n",
      "  -> Paramètres HDBSCAN: min_cluster_size=30, min_samples=2\n"
     ]
    },
    {
     "name": "stderr",
     "output_type": "stream",
     "text": [
      "Clusters KMeans:  53%|█████▎    | 79/150 [05:59<04:29,  3.80s/it]"
     ]
    },
    {
     "name": "stdout",
     "output_type": "stream",
     "text": [
      "  -> Sous-clusters trouvés par HDBSCAN : 1\n",
      "  -> Points classifiés (hors bruit)    : 1187\n",
      "\n",
      "Traitement du cluster KMeans 97 contenant 1326 points.\n",
      "  -> Paramètres HDBSCAN: min_cluster_size=30, min_samples=2\n"
     ]
    },
    {
     "name": "stderr",
     "output_type": "stream",
     "text": [
      "Clusters KMeans:  53%|█████▎    | 80/150 [06:00<03:20,  2.87s/it]"
     ]
    },
    {
     "name": "stdout",
     "output_type": "stream",
     "text": [
      "  -> Sous-clusters trouvés par HDBSCAN : 1\n",
      "  -> Points classifiés (hors bruit)    : 1112\n",
      "\n",
      "Traitement du cluster KMeans 20 contenant 3695 points.\n",
      "  -> Paramètres HDBSCAN: min_cluster_size=30, min_samples=2\n"
     ]
    },
    {
     "name": "stderr",
     "output_type": "stream",
     "text": [
      "Clusters KMeans:  54%|█████▍    | 81/150 [06:08<05:02,  4.38s/it]"
     ]
    },
    {
     "name": "stdout",
     "output_type": "stream",
     "text": [
      "  -> Sous-clusters trouvés par HDBSCAN : 2\n",
      "  -> Points classifiés (hors bruit)    : 3620\n",
      "\n",
      "Traitement du cluster KMeans 36 contenant 2762 points.\n",
      "  -> Paramètres HDBSCAN: min_cluster_size=30, min_samples=2\n"
     ]
    },
    {
     "name": "stderr",
     "output_type": "stream",
     "text": [
      "Clusters KMeans:  55%|█████▍    | 82/150 [06:12<04:39,  4.10s/it]"
     ]
    },
    {
     "name": "stdout",
     "output_type": "stream",
     "text": [
      "  -> Sous-clusters trouvés par HDBSCAN : 1\n",
      "  -> Points classifiés (hors bruit)    : 1364\n",
      "\n",
      "Traitement du cluster KMeans 112 contenant 1277 points.\n",
      "  -> Paramètres HDBSCAN: min_cluster_size=30, min_samples=2\n"
     ]
    },
    {
     "name": "stderr",
     "output_type": "stream",
     "text": [
      "Clusters KMeans:  55%|█████▌    | 83/150 [06:12<03:28,  3.11s/it]"
     ]
    },
    {
     "name": "stdout",
     "output_type": "stream",
     "text": [
      "  -> Sous-clusters trouvés par HDBSCAN : 1\n",
      "  -> Points classifiés (hors bruit)    : 437\n",
      "\n",
      "Traitement du cluster KMeans 1 contenant 2487 points.\n",
      "  -> Paramètres HDBSCAN: min_cluster_size=30, min_samples=2\n"
     ]
    },
    {
     "name": "stderr",
     "output_type": "stream",
     "text": [
      "Clusters KMeans:  56%|█████▌    | 84/150 [06:15<03:16,  2.98s/it]"
     ]
    },
    {
     "name": "stdout",
     "output_type": "stream",
     "text": [
      "  -> Sous-clusters trouvés par HDBSCAN : 1\n",
      "  -> Points classifiés (hors bruit)    : 1288\n",
      "\n",
      "Traitement du cluster KMeans 128 contenant 3262 points.\n",
      "  -> Paramètres HDBSCAN: min_cluster_size=30, min_samples=2\n"
     ]
    },
    {
     "name": "stderr",
     "output_type": "stream",
     "text": [
      "Clusters KMeans:  57%|█████▋    | 85/150 [06:19<03:34,  3.29s/it]"
     ]
    },
    {
     "name": "stdout",
     "output_type": "stream",
     "text": [
      "  -> Sous-clusters trouvés par HDBSCAN : 2\n",
      "  -> Points classifiés (hors bruit)    : 2964\n",
      "\n",
      "Traitement du cluster KMeans 24 contenant 2123 points.\n",
      "  -> Paramètres HDBSCAN: min_cluster_size=30, min_samples=2\n"
     ]
    },
    {
     "name": "stderr",
     "output_type": "stream",
     "text": [
      "Clusters KMeans:  57%|█████▋    | 86/150 [06:21<02:55,  2.74s/it]"
     ]
    },
    {
     "name": "stdout",
     "output_type": "stream",
     "text": [
      "  -> Sous-clusters trouvés par HDBSCAN : 21\n",
      "  -> Points classifiés (hors bruit)    : 1053\n",
      "\n",
      "Traitement du cluster KMeans 113 contenant 1310 points.\n",
      "  -> Paramètres HDBSCAN: min_cluster_size=30, min_samples=2\n"
     ]
    },
    {
     "name": "stderr",
     "output_type": "stream",
     "text": [
      "Clusters KMeans:  59%|█████▊    | 88/150 [06:21<01:34,  1.52s/it]"
     ]
    },
    {
     "name": "stdout",
     "output_type": "stream",
     "text": [
      "  -> Sous-clusters trouvés par HDBSCAN : 12\n",
      "  -> Points classifiés (hors bruit)    : 785\n",
      "\n",
      "Traitement du cluster KMeans 96 contenant 665 points.\n",
      "  -> Paramètres HDBSCAN: min_cluster_size=30, min_samples=2\n",
      "  -> Sous-clusters trouvés par HDBSCAN : 5\n",
      "  -> Points classifiés (hors bruit)    : 618\n",
      "\n",
      "Traitement du cluster KMeans 104 contenant 2408 points.\n",
      "  -> Paramètres HDBSCAN: min_cluster_size=30, min_samples=2\n"
     ]
    },
    {
     "name": "stderr",
     "output_type": "stream",
     "text": [
      "Clusters KMeans:  59%|█████▉    | 89/150 [06:23<01:41,  1.67s/it]"
     ]
    },
    {
     "name": "stdout",
     "output_type": "stream",
     "text": [
      "  -> Sous-clusters trouvés par HDBSCAN : 1\n",
      "  -> Points classifiés (hors bruit)    : 1350\n",
      "\n",
      "Traitement du cluster KMeans 84 contenant 2207 points.\n",
      "  -> Paramètres HDBSCAN: min_cluster_size=30, min_samples=2\n"
     ]
    },
    {
     "name": "stderr",
     "output_type": "stream",
     "text": [
      "Clusters KMeans:  60%|██████    | 90/150 [06:25<01:43,  1.72s/it]"
     ]
    },
    {
     "name": "stdout",
     "output_type": "stream",
     "text": [
      "  -> Sous-clusters trouvés par HDBSCAN : 14\n",
      "  -> Points classifiés (hors bruit)    : 851\n",
      "\n",
      "Traitement du cluster KMeans 140 contenant 4454 points.\n",
      "  -> Paramètres HDBSCAN: min_cluster_size=30, min_samples=2\n"
     ]
    },
    {
     "name": "stderr",
     "output_type": "stream",
     "text": [
      "Clusters KMeans:  61%|██████    | 91/150 [06:33<03:38,  3.70s/it]"
     ]
    },
    {
     "name": "stdout",
     "output_type": "stream",
     "text": [
      "  -> Sous-clusters trouvés par HDBSCAN : 2\n",
      "  -> Points classifiés (hors bruit)    : 1952\n",
      "\n",
      "Traitement du cluster KMeans 86 contenant 977 points.\n",
      "  -> Paramètres HDBSCAN: min_cluster_size=30, min_samples=2\n"
     ]
    },
    {
     "name": "stderr",
     "output_type": "stream",
     "text": [
      "Clusters KMeans:  62%|██████▏   | 93/150 [06:34<01:50,  1.94s/it]"
     ]
    },
    {
     "name": "stdout",
     "output_type": "stream",
     "text": [
      "  -> Sous-clusters trouvés par HDBSCAN : 15\n",
      "  -> Points classifiés (hors bruit)    : 861\n",
      "\n",
      "Traitement du cluster KMeans 74 contenant 754 points.\n",
      "  -> Paramètres HDBSCAN: min_cluster_size=30, min_samples=2\n",
      "  -> Sous-clusters trouvés par HDBSCAN : 12\n",
      "  -> Points classifiés (hors bruit)    : 543\n",
      "\n",
      "Traitement du cluster KMeans 93 contenant 1243 points.\n",
      "  -> Paramètres HDBSCAN: min_cluster_size=30, min_samples=2\n"
     ]
    },
    {
     "name": "stderr",
     "output_type": "stream",
     "text": [
      "Clusters KMeans:  63%|██████▎   | 94/150 [06:35<01:26,  1.54s/it]"
     ]
    },
    {
     "name": "stdout",
     "output_type": "stream",
     "text": [
      "  -> Sous-clusters trouvés par HDBSCAN : 8\n",
      "  -> Points classifiés (hors bruit)    : 536\n",
      "\n",
      "Traitement du cluster KMeans 136 contenant 4120 points.\n",
      "  -> Paramètres HDBSCAN: min_cluster_size=30, min_samples=2\n"
     ]
    },
    {
     "name": "stderr",
     "output_type": "stream",
     "text": [
      "Clusters KMeans:  63%|██████▎   | 95/150 [06:41<02:46,  3.03s/it]"
     ]
    },
    {
     "name": "stdout",
     "output_type": "stream",
     "text": [
      "  -> Sous-clusters trouvés par HDBSCAN : 2\n",
      "  -> Points classifiés (hors bruit)    : 3468\n",
      "\n",
      "Traitement du cluster KMeans 111 contenant 933 points.\n",
      "  -> Paramètres HDBSCAN: min_cluster_size=30, min_samples=2\n"
     ]
    },
    {
     "name": "stderr",
     "output_type": "stream",
     "text": [
      "Clusters KMeans:  64%|██████▍   | 96/150 [06:42<02:02,  2.26s/it]"
     ]
    },
    {
     "name": "stdout",
     "output_type": "stream",
     "text": [
      "  -> Sous-clusters trouvés par HDBSCAN : 7\n",
      "  -> Points classifiés (hors bruit)    : 581\n",
      "\n",
      "Traitement du cluster KMeans 76 contenant 104 points.\n",
      "  -> Paramètres HDBSCAN: min_cluster_size=10, min_samples=2\n",
      "  -> Sous-clusters trouvés par HDBSCAN : 1\n",
      "  -> Points classifiés (hors bruit)    : 100\n",
      "\n",
      "Traitement du cluster KMeans 98 contenant 2571 points.\n",
      "  -> Paramètres HDBSCAN: min_cluster_size=30, min_samples=2\n"
     ]
    },
    {
     "name": "stderr",
     "output_type": "stream",
     "text": [
      "Clusters KMeans:  65%|██████▌   | 98/150 [06:45<01:42,  1.97s/it]"
     ]
    },
    {
     "name": "stdout",
     "output_type": "stream",
     "text": [
      "  -> Sous-clusters trouvés par HDBSCAN : 1\n",
      "  -> Points classifiés (hors bruit)    : 1261\n",
      "\n",
      "Traitement du cluster KMeans 68 contenant 343 points.\n",
      "  -> Paramètres HDBSCAN: min_cluster_size=30, min_samples=2\n",
      "  -> Sous-clusters trouvés par HDBSCAN : 4\n",
      "  -> Points classifiés (hors bruit)    : 324\n",
      "\n",
      "Traitement du cluster KMeans 37 contenant 1490 points.\n",
      "  -> Paramètres HDBSCAN: min_cluster_size=30, min_samples=2\n"
     ]
    },
    {
     "name": "stderr",
     "output_type": "stream",
     "text": [
      "Clusters KMeans:  67%|██████▋   | 100/150 [06:46<01:07,  1.34s/it]"
     ]
    },
    {
     "name": "stdout",
     "output_type": "stream",
     "text": [
      "  -> Sous-clusters trouvés par HDBSCAN : 12\n",
      "  -> Points classifiés (hors bruit)    : 1421\n",
      "\n",
      "Traitement du cluster KMeans 117 contenant 998 points.\n",
      "  -> Paramètres HDBSCAN: min_cluster_size=30, min_samples=2\n"
     ]
    },
    {
     "name": "stderr",
     "output_type": "stream",
     "text": [
      "Clusters KMeans:  67%|██████▋   | 101/150 [06:46<00:55,  1.13s/it]"
     ]
    },
    {
     "name": "stdout",
     "output_type": "stream",
     "text": [
      "  -> Sous-clusters trouvés par HDBSCAN : 4\n",
      "  -> Points classifiés (hors bruit)    : 680\n",
      "\n",
      "Traitement du cluster KMeans 147 contenant 1950 points.\n",
      "  -> Paramètres HDBSCAN: min_cluster_size=30, min_samples=2\n"
     ]
    },
    {
     "name": "stderr",
     "output_type": "stream",
     "text": [
      "Clusters KMeans:  68%|██████▊   | 102/150 [06:48<01:01,  1.28s/it]"
     ]
    },
    {
     "name": "stdout",
     "output_type": "stream",
     "text": [
      "  -> Sous-clusters trouvés par HDBSCAN : 7\n",
      "  -> Points classifiés (hors bruit)    : 702\n",
      "\n",
      "Traitement du cluster KMeans 122 contenant 5143 points.\n",
      "  -> Paramètres HDBSCAN: min_cluster_size=30, min_samples=2\n"
     ]
    },
    {
     "name": "stderr",
     "output_type": "stream",
     "text": [
      "Clusters KMeans:  69%|██████▊   | 103/150 [06:59<03:04,  3.94s/it]"
     ]
    },
    {
     "name": "stdout",
     "output_type": "stream",
     "text": [
      "  -> Sous-clusters trouvés par HDBSCAN : 2\n",
      "  -> Points classifiés (hors bruit)    : 2849\n",
      "\n",
      "Traitement du cluster KMeans 108 contenant 2357 points.\n",
      "  -> Paramètres HDBSCAN: min_cluster_size=30, min_samples=2\n"
     ]
    },
    {
     "name": "stderr",
     "output_type": "stream",
     "text": [
      "Clusters KMeans:  69%|██████▉   | 104/150 [07:03<02:51,  3.74s/it]"
     ]
    },
    {
     "name": "stdout",
     "output_type": "stream",
     "text": [
      "  -> Sous-clusters trouvés par HDBSCAN : 1\n",
      "  -> Points classifiés (hors bruit)    : 857\n",
      "\n",
      "Traitement du cluster KMeans 125 contenant 2179 points.\n",
      "  -> Paramètres HDBSCAN: min_cluster_size=30, min_samples=2\n"
     ]
    },
    {
     "name": "stderr",
     "output_type": "stream",
     "text": [
      "Clusters KMeans:  70%|███████   | 105/150 [07:04<02:24,  3.20s/it]"
     ]
    },
    {
     "name": "stdout",
     "output_type": "stream",
     "text": [
      "  -> Sous-clusters trouvés par HDBSCAN : 1\n",
      "  -> Points classifiés (hors bruit)    : 1339\n",
      "\n",
      "Traitement du cluster KMeans 139 contenant 1388 points.\n",
      "  -> Paramètres HDBSCAN: min_cluster_size=30, min_samples=2\n"
     ]
    },
    {
     "name": "stderr",
     "output_type": "stream",
     "text": [
      "Clusters KMeans:  71%|███████   | 106/150 [07:05<01:50,  2.52s/it]"
     ]
    },
    {
     "name": "stdout",
     "output_type": "stream",
     "text": [
      "  -> Sous-clusters trouvés par HDBSCAN : 9\n",
      "  -> Points classifiés (hors bruit)    : 426\n",
      "\n",
      "Traitement du cluster KMeans 46 contenant 3094 points.\n",
      "  -> Paramètres HDBSCAN: min_cluster_size=30, min_samples=2\n"
     ]
    },
    {
     "name": "stderr",
     "output_type": "stream",
     "text": [
      "Clusters KMeans:  71%|███████▏  | 107/150 [07:09<02:06,  2.95s/it]"
     ]
    },
    {
     "name": "stdout",
     "output_type": "stream",
     "text": [
      "  -> Sous-clusters trouvés par HDBSCAN : 1\n",
      "  -> Points classifiés (hors bruit)    : 359\n",
      "\n",
      "Traitement du cluster KMeans 42 contenant 2929 points.\n",
      "  -> Paramètres HDBSCAN: min_cluster_size=30, min_samples=2\n"
     ]
    },
    {
     "name": "stderr",
     "output_type": "stream",
     "text": [
      "Clusters KMeans:  72%|███████▏  | 108/150 [07:14<02:26,  3.50s/it]"
     ]
    },
    {
     "name": "stdout",
     "output_type": "stream",
     "text": [
      "  -> Sous-clusters trouvés par HDBSCAN : 1\n",
      "  -> Points classifiés (hors bruit)    : 30\n",
      "\n",
      "Traitement du cluster KMeans 48 contenant 967 points.\n",
      "  -> Paramètres HDBSCAN: min_cluster_size=30, min_samples=2\n"
     ]
    },
    {
     "name": "stderr",
     "output_type": "stream",
     "text": [
      "Clusters KMeans:  73%|███████▎  | 109/150 [07:14<01:46,  2.60s/it]"
     ]
    },
    {
     "name": "stdout",
     "output_type": "stream",
     "text": [
      "  -> Sous-clusters trouvés par HDBSCAN : 1\n",
      "  -> Points classifiés (hors bruit)    : 452\n",
      "\n",
      "Traitement du cluster KMeans 44 contenant 1877 points.\n",
      "  -> Paramètres HDBSCAN: min_cluster_size=30, min_samples=2\n"
     ]
    },
    {
     "name": "stderr",
     "output_type": "stream",
     "text": [
      "Clusters KMeans:  73%|███████▎  | 110/150 [07:16<01:29,  2.23s/it]"
     ]
    },
    {
     "name": "stdout",
     "output_type": "stream",
     "text": [
      "  -> Sous-clusters trouvés par HDBSCAN : 1\n",
      "  -> Points classifiés (hors bruit)    : 994\n",
      "\n",
      "Traitement du cluster KMeans 6 contenant 1317 points.\n",
      "  -> Paramètres HDBSCAN: min_cluster_size=30, min_samples=2\n"
     ]
    },
    {
     "name": "stderr",
     "output_type": "stream",
     "text": [
      "Clusters KMeans:  74%|███████▍  | 111/150 [07:17<01:09,  1.79s/it]"
     ]
    },
    {
     "name": "stdout",
     "output_type": "stream",
     "text": [
      "  -> Sous-clusters trouvés par HDBSCAN : 1\n",
      "  -> Points classifiés (hors bruit)    : 688\n",
      "\n",
      "Traitement du cluster KMeans 52 contenant 3657 points.\n",
      "  -> Paramètres HDBSCAN: min_cluster_size=30, min_samples=2\n"
     ]
    },
    {
     "name": "stderr",
     "output_type": "stream",
     "text": [
      "Clusters KMeans:  75%|███████▍  | 112/150 [07:24<02:11,  3.46s/it]"
     ]
    },
    {
     "name": "stdout",
     "output_type": "stream",
     "text": [
      "  -> Sous-clusters trouvés par HDBSCAN : 1\n",
      "  -> Points classifiés (hors bruit)    : 1301\n",
      "\n",
      "Traitement du cluster KMeans 70 contenant 2868 points.\n",
      "  -> Paramètres HDBSCAN: min_cluster_size=30, min_samples=2\n"
     ]
    },
    {
     "name": "stderr",
     "output_type": "stream",
     "text": [
      "Clusters KMeans:  75%|███████▌  | 113/150 [07:27<02:02,  3.31s/it]"
     ]
    },
    {
     "name": "stdout",
     "output_type": "stream",
     "text": [
      "  -> Sous-clusters trouvés par HDBSCAN : 10\n",
      "  -> Points classifiés (hors bruit)    : 604\n",
      "\n",
      "Traitement du cluster KMeans 118 contenant 1718 points.\n",
      "  -> Paramètres HDBSCAN: min_cluster_size=30, min_samples=2\n"
     ]
    },
    {
     "name": "stderr",
     "output_type": "stream",
     "text": [
      "Clusters KMeans:  76%|███████▌  | 114/150 [07:28<01:39,  2.76s/it]"
     ]
    },
    {
     "name": "stdout",
     "output_type": "stream",
     "text": [
      "  -> Sous-clusters trouvés par HDBSCAN : 1\n",
      "  -> Points classifiés (hors bruit)    : 36\n",
      "\n",
      "Traitement du cluster KMeans 65 contenant 1945 points.\n",
      "  -> Paramètres HDBSCAN: min_cluster_size=30, min_samples=2\n"
     ]
    },
    {
     "name": "stderr",
     "output_type": "stream",
     "text": [
      "Clusters KMeans:  77%|███████▋  | 115/150 [07:30<01:23,  2.38s/it]"
     ]
    },
    {
     "name": "stdout",
     "output_type": "stream",
     "text": [
      "  -> Sous-clusters trouvés par HDBSCAN : 7\n",
      "  -> Points classifiés (hors bruit)    : 528\n",
      "\n",
      "Traitement du cluster KMeans 39 contenant 2472 points.\n",
      "  -> Paramètres HDBSCAN: min_cluster_size=30, min_samples=2\n"
     ]
    },
    {
     "name": "stderr",
     "output_type": "stream",
     "text": [
      "Clusters KMeans:  77%|███████▋  | 116/150 [07:33<01:26,  2.54s/it]"
     ]
    },
    {
     "name": "stdout",
     "output_type": "stream",
     "text": [
      "  -> Sous-clusters trouvés par HDBSCAN : 1\n",
      "  -> Points classifiés (hors bruit)    : 916\n",
      "\n",
      "Traitement du cluster KMeans 78 contenant 1208 points.\n",
      "  -> Paramètres HDBSCAN: min_cluster_size=30, min_samples=2\n"
     ]
    },
    {
     "name": "stderr",
     "output_type": "stream",
     "text": [
      "Clusters KMeans:  78%|███████▊  | 117/150 [07:33<01:05,  1.99s/it]"
     ]
    },
    {
     "name": "stdout",
     "output_type": "stream",
     "text": [
      "  -> Sous-clusters trouvés par HDBSCAN : 1\n",
      "  -> Points classifiés (hors bruit)    : 841\n",
      "\n",
      "Traitement du cluster KMeans 25 contenant 3317 points.\n",
      "  -> Paramètres HDBSCAN: min_cluster_size=30, min_samples=2\n"
     ]
    },
    {
     "name": "stderr",
     "output_type": "stream",
     "text": [
      "Clusters KMeans:  79%|███████▊  | 118/150 [07:39<01:41,  3.17s/it]"
     ]
    },
    {
     "name": "stdout",
     "output_type": "stream",
     "text": [
      "  -> Sous-clusters trouvés par HDBSCAN : 1\n",
      "  -> Points classifiés (hors bruit)    : 1133\n",
      "\n",
      "Traitement du cluster KMeans 17 contenant 2497 points.\n",
      "  -> Paramètres HDBSCAN: min_cluster_size=30, min_samples=2\n"
     ]
    },
    {
     "name": "stderr",
     "output_type": "stream",
     "text": [
      "Clusters KMeans:  80%|████████  | 120/150 [07:43<01:12,  2.41s/it]"
     ]
    },
    {
     "name": "stdout",
     "output_type": "stream",
     "text": [
      "  -> Sous-clusters trouvés par HDBSCAN : 1\n",
      "  -> Points classifiés (hors bruit)    : 1031\n",
      "\n",
      "Traitement du cluster KMeans 53 contenant 559 points.\n",
      "  -> Paramètres HDBSCAN: min_cluster_size=30, min_samples=2\n",
      "  -> Sous-clusters trouvés par HDBSCAN : 5\n",
      "  -> Points classifiés (hors bruit)    : 356\n",
      "\n",
      "Traitement du cluster KMeans 43 contenant 930 points.\n",
      "  -> Paramètres HDBSCAN: min_cluster_size=30, min_samples=2\n"
     ]
    },
    {
     "name": "stderr",
     "output_type": "stream",
     "text": [
      "Clusters KMeans:  81%|████████  | 121/150 [07:44<00:52,  1.80s/it]"
     ]
    },
    {
     "name": "stdout",
     "output_type": "stream",
     "text": [
      "  -> Sous-clusters trouvés par HDBSCAN : 8\n",
      "  -> Points classifiés (hors bruit)    : 510\n",
      "\n",
      "Traitement du cluster KMeans 54 contenant 1383 points.\n",
      "  -> Paramètres HDBSCAN: min_cluster_size=30, min_samples=2\n"
     ]
    },
    {
     "name": "stderr",
     "output_type": "stream",
     "text": [
      "Clusters KMeans:  81%|████████▏ | 122/150 [07:45<00:45,  1.61s/it]"
     ]
    },
    {
     "name": "stdout",
     "output_type": "stream",
     "text": [
      "  -> Sous-clusters trouvés par HDBSCAN : 4\n",
      "  -> Points classifiés (hors bruit)    : 774\n",
      "\n",
      "Traitement du cluster KMeans 138 contenant 546 points.\n",
      "  -> Paramètres HDBSCAN: min_cluster_size=30, min_samples=2\n"
     ]
    },
    {
     "name": "stderr",
     "output_type": "stream",
     "text": [
      "Clusters KMeans:  82%|████████▏ | 123/150 [07:45<00:32,  1.19s/it]"
     ]
    },
    {
     "name": "stdout",
     "output_type": "stream",
     "text": [
      "  -> Sous-clusters trouvés par HDBSCAN : 1\n",
      "  -> Points classifiés (hors bruit)    : 30\n",
      "\n",
      "Traitement du cluster KMeans 62 contenant 822 points.\n",
      "  -> Paramètres HDBSCAN: min_cluster_size=30, min_samples=2\n"
     ]
    },
    {
     "name": "stderr",
     "output_type": "stream",
     "text": [
      "Clusters KMeans:  83%|████████▎ | 124/150 [07:45<00:24,  1.08it/s]"
     ]
    },
    {
     "name": "stdout",
     "output_type": "stream",
     "text": [
      "  -> Sous-clusters trouvés par HDBSCAN : 1\n",
      "  -> Points classifiés (hors bruit)    : 219\n",
      "\n",
      "Traitement du cluster KMeans 66 contenant 1770 points.\n",
      "  -> Paramètres HDBSCAN: min_cluster_size=30, min_samples=2\n"
     ]
    },
    {
     "name": "stderr",
     "output_type": "stream",
     "text": [
      "Clusters KMeans:  83%|████████▎ | 125/150 [07:47<00:25,  1.03s/it]"
     ]
    },
    {
     "name": "stdout",
     "output_type": "stream",
     "text": [
      "  -> Sous-clusters trouvés par HDBSCAN : 1\n",
      "  -> Points classifiés (hors bruit)    : 1271\n",
      "\n",
      "Traitement du cluster KMeans 135 contenant 2004 points.\n",
      "  -> Paramètres HDBSCAN: min_cluster_size=30, min_samples=2\n"
     ]
    },
    {
     "name": "stderr",
     "output_type": "stream",
     "text": [
      "Clusters KMeans:  84%|████████▍ | 126/150 [07:49<00:36,  1.54s/it]"
     ]
    },
    {
     "name": "stdout",
     "output_type": "stream",
     "text": [
      "  -> Sous-clusters trouvés par HDBSCAN : 1\n",
      "  -> Points classifiés (hors bruit)    : 1062\n",
      "\n",
      "Traitement du cluster KMeans 142 contenant 2182 points.\n",
      "  -> Paramètres HDBSCAN: min_cluster_size=30, min_samples=2\n"
     ]
    },
    {
     "name": "stderr",
     "output_type": "stream",
     "text": [
      "Clusters KMeans:  85%|████████▍ | 127/150 [07:52<00:44,  1.95s/it]"
     ]
    },
    {
     "name": "stdout",
     "output_type": "stream",
     "text": [
      "  -> Sous-clusters trouvés par HDBSCAN : 1\n",
      "  -> Points classifiés (hors bruit)    : 1300\n",
      "\n",
      "Traitement du cluster KMeans 129 contenant 1923 points.\n",
      "  -> Paramètres HDBSCAN: min_cluster_size=30, min_samples=2\n"
     ]
    },
    {
     "name": "stderr",
     "output_type": "stream",
     "text": [
      "Clusters KMeans:  85%|████████▌ | 128/150 [07:54<00:38,  1.74s/it]"
     ]
    },
    {
     "name": "stdout",
     "output_type": "stream",
     "text": [
      "  -> Sous-clusters trouvés par HDBSCAN : 1\n",
      "  -> Points classifiés (hors bruit)    : 1229\n",
      "\n",
      "Traitement du cluster KMeans 57 contenant 2198 points.\n",
      "  -> Paramètres HDBSCAN: min_cluster_size=30, min_samples=2\n"
     ]
    },
    {
     "name": "stderr",
     "output_type": "stream",
     "text": [
      "Clusters KMeans:  86%|████████▌ | 129/150 [07:56<00:42,  2.03s/it]"
     ]
    },
    {
     "name": "stdout",
     "output_type": "stream",
     "text": [
      "  -> Sous-clusters trouvés par HDBSCAN : 1\n",
      "  -> Points classifiés (hors bruit)    : 1304\n",
      "\n",
      "Traitement du cluster KMeans 115 contenant 2364 points.\n",
      "  -> Paramètres HDBSCAN: min_cluster_size=30, min_samples=2\n"
     ]
    },
    {
     "name": "stderr",
     "output_type": "stream",
     "text": [
      "Clusters KMeans:  87%|████████▋ | 130/150 [08:00<00:49,  2.47s/it]"
     ]
    },
    {
     "name": "stdout",
     "output_type": "stream",
     "text": [
      "  -> Sous-clusters trouvés par HDBSCAN : 1\n",
      "  -> Points classifiés (hors bruit)    : 1683\n",
      "\n",
      "Traitement du cluster KMeans 130 contenant 1395 points.\n",
      "  -> Paramètres HDBSCAN: min_cluster_size=30, min_samples=2\n"
     ]
    },
    {
     "name": "stderr",
     "output_type": "stream",
     "text": [
      "Clusters KMeans:  87%|████████▋ | 131/150 [08:01<00:37,  1.97s/it]"
     ]
    },
    {
     "name": "stdout",
     "output_type": "stream",
     "text": [
      "  -> Sous-clusters trouvés par HDBSCAN : 1\n",
      "  -> Points classifiés (hors bruit)    : 860\n",
      "\n",
      "Traitement du cluster KMeans 23 contenant 1478 points.\n",
      "  -> Paramètres HDBSCAN: min_cluster_size=30, min_samples=2\n"
     ]
    },
    {
     "name": "stderr",
     "output_type": "stream",
     "text": [
      "Clusters KMeans:  88%|████████▊ | 132/150 [08:01<00:28,  1.60s/it]"
     ]
    },
    {
     "name": "stdout",
     "output_type": "stream",
     "text": [
      "  -> Sous-clusters trouvés par HDBSCAN : 1\n",
      "  -> Points classifiés (hors bruit)    : 882\n",
      "\n",
      "Traitement du cluster KMeans 45 contenant 1222 points.\n",
      "  -> Paramètres HDBSCAN: min_cluster_size=30, min_samples=2\n"
     ]
    },
    {
     "name": "stderr",
     "output_type": "stream",
     "text": [
      "Clusters KMeans:  89%|████████▊ | 133/150 [08:02<00:22,  1.30s/it]"
     ]
    },
    {
     "name": "stdout",
     "output_type": "stream",
     "text": [
      "  -> Sous-clusters trouvés par HDBSCAN : 1\n",
      "  -> Points classifiés (hors bruit)    : 846\n",
      "\n",
      "Traitement du cluster KMeans 0 contenant 1522 points.\n",
      "  -> Paramètres HDBSCAN: min_cluster_size=30, min_samples=2\n"
     ]
    },
    {
     "name": "stderr",
     "output_type": "stream",
     "text": [
      "Clusters KMeans:  89%|████████▉ | 134/150 [08:03<00:20,  1.29s/it]"
     ]
    },
    {
     "name": "stdout",
     "output_type": "stream",
     "text": [
      "  -> Sous-clusters trouvés par HDBSCAN : 1\n",
      "  -> Points classifiés (hors bruit)    : 1457\n",
      "\n",
      "Traitement du cluster KMeans 77 contenant 2525 points.\n",
      "  -> Paramètres HDBSCAN: min_cluster_size=30, min_samples=2\n"
     ]
    },
    {
     "name": "stderr",
     "output_type": "stream",
     "text": [
      "Clusters KMeans:  91%|█████████ | 136/150 [08:07<00:18,  1.35s/it]"
     ]
    },
    {
     "name": "stdout",
     "output_type": "stream",
     "text": [
      "  -> Sous-clusters trouvés par HDBSCAN : 1\n",
      "  -> Points classifiés (hors bruit)    : 563\n",
      "\n",
      "Traitement du cluster KMeans 144 contenant 574 points.\n",
      "  -> Paramètres HDBSCAN: min_cluster_size=30, min_samples=2\n",
      "  -> Sous-clusters trouvés par HDBSCAN : 1\n",
      "  -> Points classifiés (hors bruit)    : 478\n",
      "\n",
      "Traitement du cluster KMeans 132 contenant 2129 points.\n",
      "  -> Paramètres HDBSCAN: min_cluster_size=30, min_samples=2\n"
     ]
    },
    {
     "name": "stderr",
     "output_type": "stream",
     "text": [
      "Clusters KMeans:  92%|█████████▏| 138/150 [08:08<00:11,  1.01it/s]"
     ]
    },
    {
     "name": "stdout",
     "output_type": "stream",
     "text": [
      "  -> Sous-clusters trouvés par HDBSCAN : 1\n",
      "  -> Points classifiés (hors bruit)    : 1845\n",
      "\n",
      "Traitement du cluster KMeans 27 contenant 697 points.\n",
      "  -> Paramètres HDBSCAN: min_cluster_size=30, min_samples=2\n",
      "  -> Sous-clusters trouvés par HDBSCAN : 6\n",
      "  -> Points classifiés (hors bruit)    : 630\n",
      "\n",
      "Traitement du cluster KMeans 88 contenant 304 points.\n",
      "  -> Paramètres HDBSCAN: min_cluster_size=30, min_samples=2\n",
      "  -> Sous-clusters trouvés par HDBSCAN : 4\n",
      "  -> Points classifiés (hors bruit)    : 268\n",
      "\n",
      "Traitement du cluster KMeans 63 contenant 1307 points.\n",
      "  -> Paramètres HDBSCAN: min_cluster_size=30, min_samples=2\n"
     ]
    },
    {
     "name": "stderr",
     "output_type": "stream",
     "text": [
      "Clusters KMeans:  93%|█████████▎| 140/150 [08:09<00:08,  1.19it/s]"
     ]
    },
    {
     "name": "stdout",
     "output_type": "stream",
     "text": [
      "  -> Sous-clusters trouvés par HDBSCAN : 1\n",
      "  -> Points classifiés (hors bruit)    : 949\n",
      "\n",
      "Traitement du cluster KMeans 102 contenant 2116 points.\n",
      "  -> Paramètres HDBSCAN: min_cluster_size=30, min_samples=2\n"
     ]
    },
    {
     "name": "stderr",
     "output_type": "stream",
     "text": [
      "Clusters KMeans:  94%|█████████▍| 141/150 [08:11<00:08,  1.02it/s]"
     ]
    },
    {
     "name": "stdout",
     "output_type": "stream",
     "text": [
      "  -> Sous-clusters trouvés par HDBSCAN : 1\n",
      "  -> Points classifiés (hors bruit)    : 1210\n",
      "\n",
      "Traitement du cluster KMeans 90 contenant 1170 points.\n",
      "  -> Paramètres HDBSCAN: min_cluster_size=30, min_samples=2\n"
     ]
    },
    {
     "name": "stderr",
     "output_type": "stream",
     "text": [
      "Clusters KMeans:  95%|█████████▍| 142/150 [08:12<00:07,  1.06it/s]"
     ]
    },
    {
     "name": "stdout",
     "output_type": "stream",
     "text": [
      "  -> Sous-clusters trouvés par HDBSCAN : 1\n",
      "  -> Points classifiés (hors bruit)    : 41\n",
      "\n",
      "Traitement du cluster KMeans 7 contenant 2631 points.\n",
      "  -> Paramètres HDBSCAN: min_cluster_size=30, min_samples=2\n"
     ]
    },
    {
     "name": "stderr",
     "output_type": "stream",
     "text": [
      "Clusters KMeans:  95%|█████████▌| 143/150 [08:14<00:08,  1.26s/it]"
     ]
    },
    {
     "name": "stdout",
     "output_type": "stream",
     "text": [
      "  -> Sous-clusters trouvés par HDBSCAN : 1\n",
      "  -> Points classifiés (hors bruit)    : 2604\n",
      "\n",
      "Traitement du cluster KMeans 126 contenant 2549 points.\n",
      "  -> Paramètres HDBSCAN: min_cluster_size=30, min_samples=2\n"
     ]
    },
    {
     "name": "stderr",
     "output_type": "stream",
     "text": [
      "Clusters KMeans:  96%|█████████▌| 144/150 [08:16<00:09,  1.51s/it]"
     ]
    },
    {
     "name": "stdout",
     "output_type": "stream",
     "text": [
      "  -> Sous-clusters trouvés par HDBSCAN : 1\n",
      "  -> Points classifiés (hors bruit)    : 2498\n",
      "\n",
      "Traitement du cluster KMeans 30 contenant 1389 points.\n",
      "  -> Paramètres HDBSCAN: min_cluster_size=30, min_samples=2\n"
     ]
    },
    {
     "name": "stderr",
     "output_type": "stream",
     "text": [
      "Clusters KMeans:  97%|█████████▋| 145/150 [08:17<00:06,  1.29s/it]"
     ]
    },
    {
     "name": "stdout",
     "output_type": "stream",
     "text": [
      "  -> Sous-clusters trouvés par HDBSCAN : 8\n",
      "  -> Points classifiés (hors bruit)    : 1322\n",
      "\n",
      "Traitement du cluster KMeans 71 contenant 268 points.\n",
      "  -> Paramètres HDBSCAN: min_cluster_size=26, min_samples=2\n",
      "  -> Sous-clusters trouvés par HDBSCAN : 1\n",
      "  -> Points classifiés (hors bruit)    : 224\n",
      "\n",
      "Traitement du cluster KMeans 56 contenant 1209 points.\n",
      "  -> Paramètres HDBSCAN: min_cluster_size=30, min_samples=2\n"
     ]
    },
    {
     "name": "stderr",
     "output_type": "stream",
     "text": [
      "Clusters KMeans:  98%|█████████▊| 147/150 [08:18<00:02,  1.06it/s]"
     ]
    },
    {
     "name": "stdout",
     "output_type": "stream",
     "text": [
      "  -> Sous-clusters trouvés par HDBSCAN : 7\n",
      "  -> Points classifiés (hors bruit)    : 1195\n",
      "\n",
      "Traitement du cluster KMeans 80 contenant 2638 points.\n",
      "  -> Paramètres HDBSCAN: min_cluster_size=30, min_samples=2\n"
     ]
    },
    {
     "name": "stderr",
     "output_type": "stream",
     "text": [
      "Clusters KMeans:  99%|█████████▊| 148/150 [08:22<00:03,  1.83s/it]"
     ]
    },
    {
     "name": "stdout",
     "output_type": "stream",
     "text": [
      "  -> Sous-clusters trouvés par HDBSCAN : 6\n",
      "  -> Points classifiés (hors bruit)    : 278\n",
      "\n",
      "Traitement du cluster KMeans 32 contenant 1175 points.\n",
      "  -> Paramètres HDBSCAN: min_cluster_size=30, min_samples=2\n"
     ]
    },
    {
     "name": "stderr",
     "output_type": "stream",
     "text": [
      "Clusters KMeans: 100%|██████████| 150/150 [08:23<00:00,  3.36s/it]"
     ]
    },
    {
     "name": "stdout",
     "output_type": "stream",
     "text": [
      "  -> Sous-clusters trouvés par HDBSCAN : 4\n",
      "  -> Points classifiés (hors bruit)    : 1167\n",
      "\n",
      "Traitement du cluster KMeans 99 contenant 282 points.\n",
      "  -> Paramètres HDBSCAN: min_cluster_size=28, min_samples=2\n",
      "  -> Sous-clusters trouvés par HDBSCAN : 4\n",
      "  -> Points classifiés (hors bruit)    : 268\n",
      "\n",
      "=== Résumé HDBSCAN ===\n",
      "Total sous-clusters trouvés : 562\n",
      "Total points classifiés     : 163988\n",
      "Pourcentage de points hors bruit: 45.09%\n",
      "\n",
      "[DEBUG] Distribution hdbscan_cluster (après refine_with_hdbscan_per_kmeans_cluster) :\n",
      "hdbscan_cluster\n",
      "-1      199696\n",
      " 125      4235\n",
      " 309      3584\n",
      " 406      3432\n",
      " 40       3174\n",
      "         ...  \n",
      " 93         30\n",
      " 295        30\n",
      " 153        30\n",
      " 458        30\n",
      " 449        30\n",
      "Name: count, Length: 563, dtype: int64\n",
      "\n",
      "Calcul du centroïde KMeans pour chaque point...\n",
      "Centroïdes KMeans ajoutés.\n",
      "\n",
      "[DEBUG] Distribution hdbscan_cluster (juste après add_kmeans_centroids) :\n",
      "hdbscan_cluster\n",
      "-1      199696\n",
      " 125      4235\n",
      " 309      3584\n",
      " 406      3432\n",
      " 40       3174\n",
      "         ...  \n",
      " 93         30\n",
      " 295        30\n",
      " 153        30\n",
      " 458        30\n",
      " 449        30\n",
      "Name: count, Length: 563, dtype: int64\n",
      "\n",
      "Calcul des distances au centroïde KMeans et ajout du ranking...\n"
     ]
    },
    {
     "name": "stderr",
     "output_type": "stream",
     "text": [
      "\n"
     ]
    },
    {
     "name": "stdout",
     "output_type": "stream",
     "text": [
      "Ranking ajouté.\n",
      "\n",
      "[DEBUG] Distribution hdbscan_cluster (juste après add_ranking) :\n",
      "hdbscan_cluster\n",
      "-1      199696\n",
      " 125      4235\n",
      " 309      3584\n",
      " 406      3432\n",
      " 40       3174\n",
      "         ...  \n",
      " 93         30\n",
      " 295        30\n",
      " 153        30\n",
      " 458        30\n",
      " 449        30\n",
      "Name: count, Length: 563, dtype: int64\n",
      "=== Fin du pipeline de clustering ===\n",
      "\n",
      "Dataset final sauvegardé dans : final_dataset_with_hdbscan_ranking_PERMISSIF_1.csv\n",
      "\n",
      "=== Statistiques finales ===\n",
      "Nombre total de sous-clusters HDBSCAN : 562\n",
      "Points de bruit : 199696 (54.91%)\n",
      "Points classifiés : 163988 (45.09%)\n",
      "=== Fin du traitement global ===\n",
      "\n"
     ]
    }
   ],
   "source": [
    "'''if __name__ == \"__main__\":\n",
    "    # Exemple d'utilisation\n",
    "    file_path = '/Users/armandbidault/Desktop/ISD/Data_Science/Clustering/Spam/NoSpam_emails.csv'\n",
    "    process_full_dataset(\n",
    "        file_path,\n",
    "        n_clusters=150,          # Nombre de clusters KMeans\n",
    "        min_cluster_size=30,      # Taille minimum d'un cluster HDBSCAN\n",
    "        min_samples=2,\n",
    "                   # Nombre minimum d'échantillons pour HDBSCAN\n",
    "    \n",
    "    )'''"
   ]
  },
  {
   "cell_type": "markdown",
   "metadata": {},
   "source": [
    "# Clustering"
   ]
  },
  {
   "cell_type": "code",
   "execution_count": 3,
   "metadata": {},
   "outputs": [],
   "source": [
    "data = pd.read_parquet('NoSpam_emails.parquet')"
   ]
  },
  {
   "cell_type": "code",
   "execution_count": 4,
   "metadata": {},
   "outputs": [
    {
     "name": "stdout",
     "output_type": "stream",
     "text": [
      "(156997, 10)\n",
      "(206687, 10)\n"
     ]
    }
   ],
   "source": [
    "# Séparer les doublons dans un nouveau DataFrame\n",
    "data_duplicates = data[data.duplicated(subset=['final_body'], keep='first')]\n",
    "\n",
    "# Supprimer les doublons dans le DataFrame principal\n",
    "data.drop_duplicates(subset=['final_body'], keep='first', inplace=True)\n",
    "\n",
    "# Affichage des résultats\n",
    "print(data.shape)\n",
    "print(data_duplicates.shape)"
   ]
  },
  {
   "cell_type": "markdown",
   "metadata": {},
   "source": [
    "## Kmean"
   ]
  },
  {
   "cell_type": "code",
   "execution_count": 5,
   "metadata": {},
   "outputs": [
    {
     "data": {
      "text/html": [
       "<div>\n",
       "<style scoped>\n",
       "    .dataframe tbody tr th:only-of-type {\n",
       "        vertical-align: middle;\n",
       "    }\n",
       "\n",
       "    .dataframe tbody tr th {\n",
       "        vertical-align: top;\n",
       "    }\n",
       "\n",
       "    .dataframe thead th {\n",
       "        text-align: right;\n",
       "    }\n",
       "</style>\n",
       "<table border=\"1\" class=\"dataframe\">\n",
       "  <thead>\n",
       "    <tr style=\"text-align: right;\">\n",
       "      <th></th>\n",
       "      <th>file</th>\n",
       "      <th>message</th>\n",
       "      <th>parsed_email</th>\n",
       "      <th>Message-ID</th>\n",
       "      <th>X-FileName</th>\n",
       "      <th>Body</th>\n",
       "      <th>final_body</th>\n",
       "      <th>embedding</th>\n",
       "      <th>spam</th>\n",
       "      <th>From</th>\n",
       "      <th>KMeans_Labels</th>\n",
       "    </tr>\n",
       "  </thead>\n",
       "  <tbody>\n",
       "    <tr>\n",
       "      <th>0</th>\n",
       "      <td>allen-p/_sent_mail/1.</td>\n",
       "      <td>Message-ID: &lt;18782981.1075855378110.JavaMail.e...</td>\n",
       "      <td>{'Message-ID': '&lt;18782981.1075855378110.JavaMa...</td>\n",
       "      <td>&lt;18782981.1075855378110.JavaMail.evans@thyme&gt;</td>\n",
       "      <td>pallen (Non-Privileged).pst</td>\n",
       "      <td>\\nHere is our forecast\\n\\n</td>\n",
       "      <td>forecast</td>\n",
       "      <td>[-0.2228, -0.1683, 0.414, -0.1859, 0.7666, -0....</td>\n",
       "      <td>0</td>\n",
       "      <td>phillip.allen@enron.com</td>\n",
       "      <td>577</td>\n",
       "    </tr>\n",
       "    <tr>\n",
       "      <th>1</th>\n",
       "      <td>allen-p/_sent_mail/1000.</td>\n",
       "      <td>Message-ID: &lt;13505866.1075863688222.JavaMail.e...</td>\n",
       "      <td>{'Message-ID': '&lt;13505866.1075863688222.JavaMa...</td>\n",
       "      <td>&lt;13505866.1075863688222.JavaMail.evans@thyme&gt;</td>\n",
       "      <td>pallen.nsf</td>\n",
       "      <td>\\nRandy,\\n\\n Can you send me a schedule of the...</td>\n",
       "      <td>Randy, send schedule salary level everyone sch...</td>\n",
       "      <td>[0.4868, 0.3755, -0.836, -0.723, 1.365, -0.114...</td>\n",
       "      <td>0</td>\n",
       "      <td>phillip.allen@enron.com</td>\n",
       "      <td>351</td>\n",
       "    </tr>\n",
       "    <tr>\n",
       "      <th>2</th>\n",
       "      <td>allen-p/_sent_mail/1001.</td>\n",
       "      <td>Message-ID: &lt;30922949.1075863688243.JavaMail.e...</td>\n",
       "      <td>{'Message-ID': '&lt;30922949.1075863688243.JavaMa...</td>\n",
       "      <td>&lt;30922949.1075863688243.JavaMail.evans@thyme&gt;</td>\n",
       "      <td>pallen.nsf</td>\n",
       "      <td>\\nLet's shoot for Tuesday at 11:45.</td>\n",
       "      <td>Let's shoot Tuesday 11:45.</td>\n",
       "      <td>[-0.03079, 0.02507, -0.4038, -0.3984, 1.139, 0...</td>\n",
       "      <td>0</td>\n",
       "      <td>phillip.allen@enron.com</td>\n",
       "      <td>765</td>\n",
       "    </tr>\n",
       "    <tr>\n",
       "      <th>3</th>\n",
       "      <td>allen-p/_sent_mail/1002.</td>\n",
       "      <td>Message-ID: &lt;30965995.1075863688265.JavaMail.e...</td>\n",
       "      <td>{'Message-ID': '&lt;30965995.1075863688265.JavaMa...</td>\n",
       "      <td>&lt;30965995.1075863688265.JavaMail.evans@thyme&gt;</td>\n",
       "      <td>pallen.nsf</td>\n",
       "      <td>\\nGreg,\\n\\n How about either next Tuesday or T...</td>\n",
       "      <td>Greg, either next Tuesday Thursday? Phillip</td>\n",
       "      <td>[-0.4834, 0.2832, -1.531, -0.6226, 0.0867, 0.4...</td>\n",
       "      <td>0</td>\n",
       "      <td>phillip.allen@enron.com</td>\n",
       "      <td>765</td>\n",
       "    </tr>\n",
       "    <tr>\n",
       "      <th>4</th>\n",
       "      <td>allen-p/_sent_mail/1003.</td>\n",
       "      <td>Message-ID: &lt;16254169.1075863688286.JavaMail.e...</td>\n",
       "      <td>{'Message-ID': '&lt;16254169.1075863688286.JavaMa...</td>\n",
       "      <td>&lt;16254169.1075863688286.JavaMail.evans@thyme&gt;</td>\n",
       "      <td>pallen.nsf</td>\n",
       "      <td>\\nPlease cc the following distribution list wi...</td>\n",
       "      <td>Please cc following distribution list updates:...</td>\n",
       "      <td>[0.2007, -0.7554, -0.322, -0.1583, 0.454, -0.4...</td>\n",
       "      <td>0</td>\n",
       "      <td>phillip.allen@enron.com</td>\n",
       "      <td>596</td>\n",
       "    </tr>\n",
       "    <tr>\n",
       "      <th>...</th>\n",
       "      <td>...</td>\n",
       "      <td>...</td>\n",
       "      <td>...</td>\n",
       "      <td>...</td>\n",
       "      <td>...</td>\n",
       "      <td>...</td>\n",
       "      <td>...</td>\n",
       "      <td>...</td>\n",
       "      <td>...</td>\n",
       "      <td>...</td>\n",
       "      <td>...</td>\n",
       "    </tr>\n",
       "    <tr>\n",
       "      <th>434014</th>\n",
       "      <td>zufferli-j/sent_items/89.</td>\n",
       "      <td>Message-ID: &lt;24358278.1075842029773.JavaMail.e...</td>\n",
       "      <td>{'Message-ID': '&lt;24358278.1075842029773.JavaMa...</td>\n",
       "      <td>&lt;24358278.1075842029773.JavaMail.evans@thyme&gt;</td>\n",
       "      <td>john zufferli 6-26-02.PST</td>\n",
       "      <td>\\n\\nEnron is willing to perform the operation ...</td>\n",
       "      <td>Enron willing perform operation question (1) (...</td>\n",
       "      <td>[0.00992, -0.2651, -0.605, 0.1359, 1.509, 0.04...</td>\n",
       "      <td>0</td>\n",
       "      <td>john.zufferli@enron.com</td>\n",
       "      <td>1126</td>\n",
       "    </tr>\n",
       "    <tr>\n",
       "      <th>434015</th>\n",
       "      <td>zufferli-j/sent_items/91.</td>\n",
       "      <td>Message-ID: &lt;23829224.1075842029820.JavaMail.e...</td>\n",
       "      <td>{'Message-ID': '&lt;23829224.1075842029820.JavaMa...</td>\n",
       "      <td>&lt;23829224.1075842029820.JavaMail.evans@thyme&gt;</td>\n",
       "      <td>john zufferli 6-26-02.PST</td>\n",
       "      <td>\\nNicole and everyone, I think the directory i...</td>\n",
       "      <td>Nicole everyone, think directory i:\\canadian\\e...</td>\n",
       "      <td>[1.218, -0.943, 0.1938, 1.032, 0.4238, -0.3433...</td>\n",
       "      <td>0</td>\n",
       "      <td>john.zufferli@enron.com</td>\n",
       "      <td>999</td>\n",
       "    </tr>\n",
       "    <tr>\n",
       "      <th>434016</th>\n",
       "      <td>zufferli-j/sent_items/95.</td>\n",
       "      <td>Message-ID: &lt;26807948.1075842029936.JavaMail.e...</td>\n",
       "      <td>{'Message-ID': '&lt;26807948.1075842029936.JavaMa...</td>\n",
       "      <td>&lt;26807948.1075842029936.JavaMail.evans@thyme&gt;</td>\n",
       "      <td>john zufferli 6-26-02.PST</td>\n",
       "      <td>\\nThis is a trade with OIL-SPEC-HEDGE-NG (John...</td>\n",
       "      <td>trade OIL-SPEC-HEDGE-NG (John Lavorato's book)...</td>\n",
       "      <td>[0.2764, -0.03079, -0.6875, 0.05423, -1.289, 0...</td>\n",
       "      <td>0</td>\n",
       "      <td>john.zufferli@enron.com</td>\n",
       "      <td>1332</td>\n",
       "    </tr>\n",
       "    <tr>\n",
       "      <th>434017</th>\n",
       "      <td>zufferli-j/sent_items/96.</td>\n",
       "      <td>Message-ID: &lt;25835861.1075842029959.JavaMail.e...</td>\n",
       "      <td>{'Message-ID': '&lt;25835861.1075842029959.JavaMa...</td>\n",
       "      <td>&lt;25835861.1075842029959.JavaMail.evans@thyme&gt;</td>\n",
       "      <td>john zufferli 6-26-02.PST</td>\n",
       "      <td>\\nSome of my position is with the Alberta Term...</td>\n",
       "      <td>position Alberta Term book, send positions dir...</td>\n",
       "      <td>[0.7695, -0.5005, -1.423, -0.1415, -0.4844, 0....</td>\n",
       "      <td>0</td>\n",
       "      <td>john.zufferli@enron.com</td>\n",
       "      <td>569</td>\n",
       "    </tr>\n",
       "    <tr>\n",
       "      <th>434018</th>\n",
       "      <td>zufferli-j/sent_items/98.</td>\n",
       "      <td>Message-ID: &lt;22052556.1075842030013.JavaMail.e...</td>\n",
       "      <td>{'Message-ID': '&lt;22052556.1075842030013.JavaMa...</td>\n",
       "      <td>&lt;22052556.1075842030013.JavaMail.evans@thyme&gt;</td>\n",
       "      <td>john zufferli 6-26-02.PST</td>\n",
       "      <td>\\nAnalyst\\t\\t\\t\\t\\tRank\\n\\nStephane Brodeur\\t\\...</td>\n",
       "      <td>Analyst Rank Stephane Brodeur 1 Chad Clark 1 I...</td>\n",
       "      <td>[-0.7407, -0.2258, -2.074, -0.7827, 0.5576, 0....</td>\n",
       "      <td>0</td>\n",
       "      <td>john.zufferli@enron.com</td>\n",
       "      <td>1890</td>\n",
       "    </tr>\n",
       "  </tbody>\n",
       "</table>\n",
       "<p>156997 rows × 11 columns</p>\n",
       "</div>"
      ],
      "text/plain": [
       "                             file  \\\n",
       "0           allen-p/_sent_mail/1.   \n",
       "1        allen-p/_sent_mail/1000.   \n",
       "2        allen-p/_sent_mail/1001.   \n",
       "3        allen-p/_sent_mail/1002.   \n",
       "4        allen-p/_sent_mail/1003.   \n",
       "...                           ...   \n",
       "434014  zufferli-j/sent_items/89.   \n",
       "434015  zufferli-j/sent_items/91.   \n",
       "434016  zufferli-j/sent_items/95.   \n",
       "434017  zufferli-j/sent_items/96.   \n",
       "434018  zufferli-j/sent_items/98.   \n",
       "\n",
       "                                                  message  \\\n",
       "0       Message-ID: <18782981.1075855378110.JavaMail.e...   \n",
       "1       Message-ID: <13505866.1075863688222.JavaMail.e...   \n",
       "2       Message-ID: <30922949.1075863688243.JavaMail.e...   \n",
       "3       Message-ID: <30965995.1075863688265.JavaMail.e...   \n",
       "4       Message-ID: <16254169.1075863688286.JavaMail.e...   \n",
       "...                                                   ...   \n",
       "434014  Message-ID: <24358278.1075842029773.JavaMail.e...   \n",
       "434015  Message-ID: <23829224.1075842029820.JavaMail.e...   \n",
       "434016  Message-ID: <26807948.1075842029936.JavaMail.e...   \n",
       "434017  Message-ID: <25835861.1075842029959.JavaMail.e...   \n",
       "434018  Message-ID: <22052556.1075842030013.JavaMail.e...   \n",
       "\n",
       "                                             parsed_email  \\\n",
       "0       {'Message-ID': '<18782981.1075855378110.JavaMa...   \n",
       "1       {'Message-ID': '<13505866.1075863688222.JavaMa...   \n",
       "2       {'Message-ID': '<30922949.1075863688243.JavaMa...   \n",
       "3       {'Message-ID': '<30965995.1075863688265.JavaMa...   \n",
       "4       {'Message-ID': '<16254169.1075863688286.JavaMa...   \n",
       "...                                                   ...   \n",
       "434014  {'Message-ID': '<24358278.1075842029773.JavaMa...   \n",
       "434015  {'Message-ID': '<23829224.1075842029820.JavaMa...   \n",
       "434016  {'Message-ID': '<26807948.1075842029936.JavaMa...   \n",
       "434017  {'Message-ID': '<25835861.1075842029959.JavaMa...   \n",
       "434018  {'Message-ID': '<22052556.1075842030013.JavaMa...   \n",
       "\n",
       "                                           Message-ID  \\\n",
       "0       <18782981.1075855378110.JavaMail.evans@thyme>   \n",
       "1       <13505866.1075863688222.JavaMail.evans@thyme>   \n",
       "2       <30922949.1075863688243.JavaMail.evans@thyme>   \n",
       "3       <30965995.1075863688265.JavaMail.evans@thyme>   \n",
       "4       <16254169.1075863688286.JavaMail.evans@thyme>   \n",
       "...                                               ...   \n",
       "434014  <24358278.1075842029773.JavaMail.evans@thyme>   \n",
       "434015  <23829224.1075842029820.JavaMail.evans@thyme>   \n",
       "434016  <26807948.1075842029936.JavaMail.evans@thyme>   \n",
       "434017  <25835861.1075842029959.JavaMail.evans@thyme>   \n",
       "434018  <22052556.1075842030013.JavaMail.evans@thyme>   \n",
       "\n",
       "                         X-FileName  \\\n",
       "0       pallen (Non-Privileged).pst   \n",
       "1                        pallen.nsf   \n",
       "2                        pallen.nsf   \n",
       "3                        pallen.nsf   \n",
       "4                        pallen.nsf   \n",
       "...                             ...   \n",
       "434014    john zufferli 6-26-02.PST   \n",
       "434015    john zufferli 6-26-02.PST   \n",
       "434016    john zufferli 6-26-02.PST   \n",
       "434017    john zufferli 6-26-02.PST   \n",
       "434018    john zufferli 6-26-02.PST   \n",
       "\n",
       "                                                     Body  \\\n",
       "0                             \\nHere is our forecast\\n\\n    \n",
       "1       \\nRandy,\\n\\n Can you send me a schedule of the...   \n",
       "2                   \\nLet's shoot for Tuesday at 11:45.     \n",
       "3       \\nGreg,\\n\\n How about either next Tuesday or T...   \n",
       "4       \\nPlease cc the following distribution list wi...   \n",
       "...                                                   ...   \n",
       "434014  \\n\\nEnron is willing to perform the operation ...   \n",
       "434015  \\nNicole and everyone, I think the directory i...   \n",
       "434016  \\nThis is a trade with OIL-SPEC-HEDGE-NG (John...   \n",
       "434017  \\nSome of my position is with the Alberta Term...   \n",
       "434018  \\nAnalyst\\t\\t\\t\\t\\tRank\\n\\nStephane Brodeur\\t\\...   \n",
       "\n",
       "                                               final_body  \\\n",
       "0                                                forecast   \n",
       "1       Randy, send schedule salary level everyone sch...   \n",
       "2                              Let's shoot Tuesday 11:45.   \n",
       "3             Greg, either next Tuesday Thursday? Phillip   \n",
       "4       Please cc following distribution list updates:...   \n",
       "...                                                   ...   \n",
       "434014  Enron willing perform operation question (1) (...   \n",
       "434015  Nicole everyone, think directory i:\\canadian\\e...   \n",
       "434016  trade OIL-SPEC-HEDGE-NG (John Lavorato's book)...   \n",
       "434017  position Alberta Term book, send positions dir...   \n",
       "434018  Analyst Rank Stephane Brodeur 1 Chad Clark 1 I...   \n",
       "\n",
       "                                                embedding  spam  \\\n",
       "0       [-0.2228, -0.1683, 0.414, -0.1859, 0.7666, -0....     0   \n",
       "1       [0.4868, 0.3755, -0.836, -0.723, 1.365, -0.114...     0   \n",
       "2       [-0.03079, 0.02507, -0.4038, -0.3984, 1.139, 0...     0   \n",
       "3       [-0.4834, 0.2832, -1.531, -0.6226, 0.0867, 0.4...     0   \n",
       "4       [0.2007, -0.7554, -0.322, -0.1583, 0.454, -0.4...     0   \n",
       "...                                                   ...   ...   \n",
       "434014  [0.00992, -0.2651, -0.605, 0.1359, 1.509, 0.04...     0   \n",
       "434015  [1.218, -0.943, 0.1938, 1.032, 0.4238, -0.3433...     0   \n",
       "434016  [0.2764, -0.03079, -0.6875, 0.05423, -1.289, 0...     0   \n",
       "434017  [0.7695, -0.5005, -1.423, -0.1415, -0.4844, 0....     0   \n",
       "434018  [-0.7407, -0.2258, -2.074, -0.7827, 0.5576, 0....     0   \n",
       "\n",
       "                           From  KMeans_Labels  \n",
       "0       phillip.allen@enron.com            577  \n",
       "1       phillip.allen@enron.com            351  \n",
       "2       phillip.allen@enron.com            765  \n",
       "3       phillip.allen@enron.com            765  \n",
       "4       phillip.allen@enron.com            596  \n",
       "...                         ...            ...  \n",
       "434014  john.zufferli@enron.com           1126  \n",
       "434015  john.zufferli@enron.com            999  \n",
       "434016  john.zufferli@enron.com           1332  \n",
       "434017  john.zufferli@enron.com            569  \n",
       "434018  john.zufferli@enron.com           1890  \n",
       "\n",
       "[156997 rows x 11 columns]"
      ]
     },
     "execution_count": 5,
     "metadata": {},
     "output_type": "execute_result"
    }
   ],
   "source": [
    "import ast\n",
    "# Étape 1 : Convertir la colonne d'embeddings en tableaux numpy\n",
    "data['embedding'] = data['embedding'].apply(\n",
    "    lambda x: np.array(ast.literal_eval(x)) if isinstance(x, str) else np.array(x)\n",
    ")\n",
    "\n",
    "# Vérifier que toutes les dimensions sont cohérentes\n",
    "embedding_matrix = np.stack(data['embedding'].values)\n",
    "\n",
    "# Étape 2 : Appliquer KMeans\n",
    "n_clusters = 2000  # Par exemple, choisir 2 clusters\n",
    "kmeans = KMeans(n_clusters=n_clusters, random_state=42, n_init='auto')\n",
    "labels = kmeans.fit_predict(embedding_matrix)\n",
    "\n",
    "# Étape 3 : Ajouter les labels au DataFrame\n",
    "data['KMeans_Labels'] = labels\n",
    "\n",
    "# Afficher le DataFrame mis à jour\n",
    "data"
   ]
  },
  {
   "cell_type": "code",
   "execution_count": 6,
   "metadata": {},
   "outputs": [
    {
     "data": {
      "text/plain": [
       "KMeans_Labels\n",
       "1386    563\n",
       "1797    420\n",
       "1905    352\n",
       "821     333\n",
       "622     309\n",
       "       ... \n",
       "1027      5\n",
       "1337      4\n",
       "1725      4\n",
       "1307      3\n",
       "1871      2\n",
       "Name: count, Length: 2000, dtype: int64"
      ]
     },
     "execution_count": 6,
     "metadata": {},
     "output_type": "execute_result"
    }
   ],
   "source": [
    "data['KMeans_Labels'].value_counts()"
   ]
  },
  {
   "cell_type": "markdown",
   "metadata": {},
   "source": [
    "## HDBSCAN"
   ]
  },
  {
   "cell_type": "code",
   "execution_count": 7,
   "metadata": {},
   "outputs": [
    {
     "data": {
      "text/plain": [
       "hdbscan_cluster\n",
       "-1      1022\n",
       " 2        17\n",
       " 157      13\n",
       " 31       10\n",
       " 202      10\n",
       "        ... \n",
       " 220       2\n",
       " 312       2\n",
       " 251       2\n",
       " 72        2\n",
       " 41        2\n",
       "Name: count, Length: 329, dtype: int64"
      ]
     },
     "execution_count": 7,
     "metadata": {},
     "output_type": "execute_result"
    }
   ],
   "source": [
    "df = data[['KMeans_Labels', 'embedding']]\n",
    "# Étape 1 : Calculer les centroïdes des clusters KMeans\n",
    "def calculate_centroid(embeddings):\n",
    "    return np.mean(np.vstack(embeddings), axis=0)\n",
    "\n",
    "# Grouper par `kmeans_cluster` et calculer les centroïdes\n",
    "centroids_df = (\n",
    "    df.groupby(\"KMeans_Labels\")[\"embedding\"]\n",
    "    .apply(calculate_centroid)\n",
    "    .reset_index()\n",
    ")\n",
    "\n",
    "# Renommer la colonne pour plus de clarté\n",
    "centroids_df.rename(columns={\"embedding\": \"centroid\"}, inplace=True)\n",
    "\n",
    "# Étape 2 : Appliquer HDBSCAN sur les centroïdes\n",
    "# Convertir les centroïdes en une matrice numpy\n",
    "centroids_matrix = np.vstack(centroids_df[\"centroid\"])\n",
    "\n",
    "# Appliquer HDBSCAN\n",
    "hdbscan_model = hdbscan.HDBSCAN(min_cluster_size=2, min_samples=1)\n",
    "hdbscan_labels = hdbscan_model.fit_predict(centroids_matrix)\n",
    "\n",
    "# Ajouter les labels HDBSCAN au DataFrame des centroïdes\n",
    "centroids_df[\"hdbscan_cluster\"] = hdbscan_labels\n",
    "\n",
    "centroids_df[\"hdbscan_cluster\"].value_counts()"
   ]
  },
  {
   "cell_type": "code",
   "execution_count": 8,
   "metadata": {},
   "outputs": [
    {
     "data": {
      "text/html": [
       "<div>\n",
       "<style scoped>\n",
       "    .dataframe tbody tr th:only-of-type {\n",
       "        vertical-align: middle;\n",
       "    }\n",
       "\n",
       "    .dataframe tbody tr th {\n",
       "        vertical-align: top;\n",
       "    }\n",
       "\n",
       "    .dataframe thead th {\n",
       "        text-align: right;\n",
       "    }\n",
       "</style>\n",
       "<table border=\"1\" class=\"dataframe\">\n",
       "  <thead>\n",
       "    <tr style=\"text-align: right;\">\n",
       "      <th></th>\n",
       "      <th>file</th>\n",
       "      <th>message</th>\n",
       "      <th>parsed_email</th>\n",
       "      <th>Message-ID</th>\n",
       "      <th>X-FileName</th>\n",
       "      <th>Body</th>\n",
       "      <th>final_body</th>\n",
       "      <th>embedding</th>\n",
       "      <th>spam</th>\n",
       "      <th>From</th>\n",
       "      <th>KMeans_Labels</th>\n",
       "      <th>hdbscan_cluster</th>\n",
       "    </tr>\n",
       "  </thead>\n",
       "  <tbody>\n",
       "    <tr>\n",
       "      <th>0</th>\n",
       "      <td>allen-p/_sent_mail/1.</td>\n",
       "      <td>Message-ID: &lt;18782981.1075855378110.JavaMail.e...</td>\n",
       "      <td>{'Message-ID': '&lt;18782981.1075855378110.JavaMa...</td>\n",
       "      <td>&lt;18782981.1075855378110.JavaMail.evans@thyme&gt;</td>\n",
       "      <td>pallen (Non-Privileged).pst</td>\n",
       "      <td>\\nHere is our forecast\\n\\n</td>\n",
       "      <td>forecast</td>\n",
       "      <td>[-0.2228, -0.1683, 0.414, -0.1859, 0.7666, -0....</td>\n",
       "      <td>0</td>\n",
       "      <td>phillip.allen@enron.com</td>\n",
       "      <td>577</td>\n",
       "      <td>-1</td>\n",
       "    </tr>\n",
       "    <tr>\n",
       "      <th>1</th>\n",
       "      <td>allen-p/_sent_mail/1000.</td>\n",
       "      <td>Message-ID: &lt;13505866.1075863688222.JavaMail.e...</td>\n",
       "      <td>{'Message-ID': '&lt;13505866.1075863688222.JavaMa...</td>\n",
       "      <td>&lt;13505866.1075863688222.JavaMail.evans@thyme&gt;</td>\n",
       "      <td>pallen.nsf</td>\n",
       "      <td>\\nRandy,\\n\\n Can you send me a schedule of the...</td>\n",
       "      <td>Randy, send schedule salary level everyone sch...</td>\n",
       "      <td>[0.4868, 0.3755, -0.836, -0.723, 1.365, -0.114...</td>\n",
       "      <td>0</td>\n",
       "      <td>phillip.allen@enron.com</td>\n",
       "      <td>351</td>\n",
       "      <td>150</td>\n",
       "    </tr>\n",
       "    <tr>\n",
       "      <th>2</th>\n",
       "      <td>allen-p/_sent_mail/1001.</td>\n",
       "      <td>Message-ID: &lt;30922949.1075863688243.JavaMail.e...</td>\n",
       "      <td>{'Message-ID': '&lt;30922949.1075863688243.JavaMa...</td>\n",
       "      <td>&lt;30922949.1075863688243.JavaMail.evans@thyme&gt;</td>\n",
       "      <td>pallen.nsf</td>\n",
       "      <td>\\nLet's shoot for Tuesday at 11:45.</td>\n",
       "      <td>Let's shoot Tuesday 11:45.</td>\n",
       "      <td>[-0.03079, 0.02507, -0.4038, -0.3984, 1.139, 0...</td>\n",
       "      <td>0</td>\n",
       "      <td>phillip.allen@enron.com</td>\n",
       "      <td>765</td>\n",
       "      <td>89</td>\n",
       "    </tr>\n",
       "    <tr>\n",
       "      <th>3</th>\n",
       "      <td>allen-p/_sent_mail/1002.</td>\n",
       "      <td>Message-ID: &lt;30965995.1075863688265.JavaMail.e...</td>\n",
       "      <td>{'Message-ID': '&lt;30965995.1075863688265.JavaMa...</td>\n",
       "      <td>&lt;30965995.1075863688265.JavaMail.evans@thyme&gt;</td>\n",
       "      <td>pallen.nsf</td>\n",
       "      <td>\\nGreg,\\n\\n How about either next Tuesday or T...</td>\n",
       "      <td>Greg, either next Tuesday Thursday? Phillip</td>\n",
       "      <td>[-0.4834, 0.2832, -1.531, -0.6226, 0.0867, 0.4...</td>\n",
       "      <td>0</td>\n",
       "      <td>phillip.allen@enron.com</td>\n",
       "      <td>765</td>\n",
       "      <td>89</td>\n",
       "    </tr>\n",
       "    <tr>\n",
       "      <th>4</th>\n",
       "      <td>allen-p/_sent_mail/1003.</td>\n",
       "      <td>Message-ID: &lt;16254169.1075863688286.JavaMail.e...</td>\n",
       "      <td>{'Message-ID': '&lt;16254169.1075863688286.JavaMa...</td>\n",
       "      <td>&lt;16254169.1075863688286.JavaMail.evans@thyme&gt;</td>\n",
       "      <td>pallen.nsf</td>\n",
       "      <td>\\nPlease cc the following distribution list wi...</td>\n",
       "      <td>Please cc following distribution list updates:...</td>\n",
       "      <td>[0.2007, -0.7554, -0.322, -0.1583, 0.454, -0.4...</td>\n",
       "      <td>0</td>\n",
       "      <td>phillip.allen@enron.com</td>\n",
       "      <td>596</td>\n",
       "      <td>-1</td>\n",
       "    </tr>\n",
       "    <tr>\n",
       "      <th>...</th>\n",
       "      <td>...</td>\n",
       "      <td>...</td>\n",
       "      <td>...</td>\n",
       "      <td>...</td>\n",
       "      <td>...</td>\n",
       "      <td>...</td>\n",
       "      <td>...</td>\n",
       "      <td>...</td>\n",
       "      <td>...</td>\n",
       "      <td>...</td>\n",
       "      <td>...</td>\n",
       "      <td>...</td>\n",
       "    </tr>\n",
       "    <tr>\n",
       "      <th>156992</th>\n",
       "      <td>zufferli-j/sent_items/89.</td>\n",
       "      <td>Message-ID: &lt;24358278.1075842029773.JavaMail.e...</td>\n",
       "      <td>{'Message-ID': '&lt;24358278.1075842029773.JavaMa...</td>\n",
       "      <td>&lt;24358278.1075842029773.JavaMail.evans@thyme&gt;</td>\n",
       "      <td>john zufferli 6-26-02.PST</td>\n",
       "      <td>\\n\\nEnron is willing to perform the operation ...</td>\n",
       "      <td>Enron willing perform operation question (1) (...</td>\n",
       "      <td>[0.00992, -0.2651, -0.605, 0.1359, 1.509, 0.04...</td>\n",
       "      <td>0</td>\n",
       "      <td>john.zufferli@enron.com</td>\n",
       "      <td>1126</td>\n",
       "      <td>-1</td>\n",
       "    </tr>\n",
       "    <tr>\n",
       "      <th>156993</th>\n",
       "      <td>zufferli-j/sent_items/91.</td>\n",
       "      <td>Message-ID: &lt;23829224.1075842029820.JavaMail.e...</td>\n",
       "      <td>{'Message-ID': '&lt;23829224.1075842029820.JavaMa...</td>\n",
       "      <td>&lt;23829224.1075842029820.JavaMail.evans@thyme&gt;</td>\n",
       "      <td>john zufferli 6-26-02.PST</td>\n",
       "      <td>\\nNicole and everyone, I think the directory i...</td>\n",
       "      <td>Nicole everyone, think directory i:\\canadian\\e...</td>\n",
       "      <td>[1.218, -0.943, 0.1938, 1.032, 0.4238, -0.3433...</td>\n",
       "      <td>0</td>\n",
       "      <td>john.zufferli@enron.com</td>\n",
       "      <td>999</td>\n",
       "      <td>157</td>\n",
       "    </tr>\n",
       "    <tr>\n",
       "      <th>156994</th>\n",
       "      <td>zufferli-j/sent_items/95.</td>\n",
       "      <td>Message-ID: &lt;26807948.1075842029936.JavaMail.e...</td>\n",
       "      <td>{'Message-ID': '&lt;26807948.1075842029936.JavaMa...</td>\n",
       "      <td>&lt;26807948.1075842029936.JavaMail.evans@thyme&gt;</td>\n",
       "      <td>john zufferli 6-26-02.PST</td>\n",
       "      <td>\\nThis is a trade with OIL-SPEC-HEDGE-NG (John...</td>\n",
       "      <td>trade OIL-SPEC-HEDGE-NG (John Lavorato's book)...</td>\n",
       "      <td>[0.2764, -0.03079, -0.6875, 0.05423, -1.289, 0...</td>\n",
       "      <td>0</td>\n",
       "      <td>john.zufferli@enron.com</td>\n",
       "      <td>1332</td>\n",
       "      <td>66</td>\n",
       "    </tr>\n",
       "    <tr>\n",
       "      <th>156995</th>\n",
       "      <td>zufferli-j/sent_items/96.</td>\n",
       "      <td>Message-ID: &lt;25835861.1075842029959.JavaMail.e...</td>\n",
       "      <td>{'Message-ID': '&lt;25835861.1075842029959.JavaMa...</td>\n",
       "      <td>&lt;25835861.1075842029959.JavaMail.evans@thyme&gt;</td>\n",
       "      <td>john zufferli 6-26-02.PST</td>\n",
       "      <td>\\nSome of my position is with the Alberta Term...</td>\n",
       "      <td>position Alberta Term book, send positions dir...</td>\n",
       "      <td>[0.7695, -0.5005, -1.423, -0.1415, -0.4844, 0....</td>\n",
       "      <td>0</td>\n",
       "      <td>john.zufferli@enron.com</td>\n",
       "      <td>569</td>\n",
       "      <td>256</td>\n",
       "    </tr>\n",
       "    <tr>\n",
       "      <th>156996</th>\n",
       "      <td>zufferli-j/sent_items/98.</td>\n",
       "      <td>Message-ID: &lt;22052556.1075842030013.JavaMail.e...</td>\n",
       "      <td>{'Message-ID': '&lt;22052556.1075842030013.JavaMa...</td>\n",
       "      <td>&lt;22052556.1075842030013.JavaMail.evans@thyme&gt;</td>\n",
       "      <td>john zufferli 6-26-02.PST</td>\n",
       "      <td>\\nAnalyst\\t\\t\\t\\t\\tRank\\n\\nStephane Brodeur\\t\\...</td>\n",
       "      <td>Analyst Rank Stephane Brodeur 1 Chad Clark 1 I...</td>\n",
       "      <td>[-0.7407, -0.2258, -2.074, -0.7827, 0.5576, 0....</td>\n",
       "      <td>0</td>\n",
       "      <td>john.zufferli@enron.com</td>\n",
       "      <td>1890</td>\n",
       "      <td>-1</td>\n",
       "    </tr>\n",
       "  </tbody>\n",
       "</table>\n",
       "<p>156997 rows × 12 columns</p>\n",
       "</div>"
      ],
      "text/plain": [
       "                             file  \\\n",
       "0           allen-p/_sent_mail/1.   \n",
       "1        allen-p/_sent_mail/1000.   \n",
       "2        allen-p/_sent_mail/1001.   \n",
       "3        allen-p/_sent_mail/1002.   \n",
       "4        allen-p/_sent_mail/1003.   \n",
       "...                           ...   \n",
       "156992  zufferli-j/sent_items/89.   \n",
       "156993  zufferli-j/sent_items/91.   \n",
       "156994  zufferli-j/sent_items/95.   \n",
       "156995  zufferli-j/sent_items/96.   \n",
       "156996  zufferli-j/sent_items/98.   \n",
       "\n",
       "                                                  message  \\\n",
       "0       Message-ID: <18782981.1075855378110.JavaMail.e...   \n",
       "1       Message-ID: <13505866.1075863688222.JavaMail.e...   \n",
       "2       Message-ID: <30922949.1075863688243.JavaMail.e...   \n",
       "3       Message-ID: <30965995.1075863688265.JavaMail.e...   \n",
       "4       Message-ID: <16254169.1075863688286.JavaMail.e...   \n",
       "...                                                   ...   \n",
       "156992  Message-ID: <24358278.1075842029773.JavaMail.e...   \n",
       "156993  Message-ID: <23829224.1075842029820.JavaMail.e...   \n",
       "156994  Message-ID: <26807948.1075842029936.JavaMail.e...   \n",
       "156995  Message-ID: <25835861.1075842029959.JavaMail.e...   \n",
       "156996  Message-ID: <22052556.1075842030013.JavaMail.e...   \n",
       "\n",
       "                                             parsed_email  \\\n",
       "0       {'Message-ID': '<18782981.1075855378110.JavaMa...   \n",
       "1       {'Message-ID': '<13505866.1075863688222.JavaMa...   \n",
       "2       {'Message-ID': '<30922949.1075863688243.JavaMa...   \n",
       "3       {'Message-ID': '<30965995.1075863688265.JavaMa...   \n",
       "4       {'Message-ID': '<16254169.1075863688286.JavaMa...   \n",
       "...                                                   ...   \n",
       "156992  {'Message-ID': '<24358278.1075842029773.JavaMa...   \n",
       "156993  {'Message-ID': '<23829224.1075842029820.JavaMa...   \n",
       "156994  {'Message-ID': '<26807948.1075842029936.JavaMa...   \n",
       "156995  {'Message-ID': '<25835861.1075842029959.JavaMa...   \n",
       "156996  {'Message-ID': '<22052556.1075842030013.JavaMa...   \n",
       "\n",
       "                                           Message-ID  \\\n",
       "0       <18782981.1075855378110.JavaMail.evans@thyme>   \n",
       "1       <13505866.1075863688222.JavaMail.evans@thyme>   \n",
       "2       <30922949.1075863688243.JavaMail.evans@thyme>   \n",
       "3       <30965995.1075863688265.JavaMail.evans@thyme>   \n",
       "4       <16254169.1075863688286.JavaMail.evans@thyme>   \n",
       "...                                               ...   \n",
       "156992  <24358278.1075842029773.JavaMail.evans@thyme>   \n",
       "156993  <23829224.1075842029820.JavaMail.evans@thyme>   \n",
       "156994  <26807948.1075842029936.JavaMail.evans@thyme>   \n",
       "156995  <25835861.1075842029959.JavaMail.evans@thyme>   \n",
       "156996  <22052556.1075842030013.JavaMail.evans@thyme>   \n",
       "\n",
       "                         X-FileName  \\\n",
       "0       pallen (Non-Privileged).pst   \n",
       "1                        pallen.nsf   \n",
       "2                        pallen.nsf   \n",
       "3                        pallen.nsf   \n",
       "4                        pallen.nsf   \n",
       "...                             ...   \n",
       "156992    john zufferli 6-26-02.PST   \n",
       "156993    john zufferli 6-26-02.PST   \n",
       "156994    john zufferli 6-26-02.PST   \n",
       "156995    john zufferli 6-26-02.PST   \n",
       "156996    john zufferli 6-26-02.PST   \n",
       "\n",
       "                                                     Body  \\\n",
       "0                             \\nHere is our forecast\\n\\n    \n",
       "1       \\nRandy,\\n\\n Can you send me a schedule of the...   \n",
       "2                   \\nLet's shoot for Tuesday at 11:45.     \n",
       "3       \\nGreg,\\n\\n How about either next Tuesday or T...   \n",
       "4       \\nPlease cc the following distribution list wi...   \n",
       "...                                                   ...   \n",
       "156992  \\n\\nEnron is willing to perform the operation ...   \n",
       "156993  \\nNicole and everyone, I think the directory i...   \n",
       "156994  \\nThis is a trade with OIL-SPEC-HEDGE-NG (John...   \n",
       "156995  \\nSome of my position is with the Alberta Term...   \n",
       "156996  \\nAnalyst\\t\\t\\t\\t\\tRank\\n\\nStephane Brodeur\\t\\...   \n",
       "\n",
       "                                               final_body  \\\n",
       "0                                                forecast   \n",
       "1       Randy, send schedule salary level everyone sch...   \n",
       "2                              Let's shoot Tuesday 11:45.   \n",
       "3             Greg, either next Tuesday Thursday? Phillip   \n",
       "4       Please cc following distribution list updates:...   \n",
       "...                                                   ...   \n",
       "156992  Enron willing perform operation question (1) (...   \n",
       "156993  Nicole everyone, think directory i:\\canadian\\e...   \n",
       "156994  trade OIL-SPEC-HEDGE-NG (John Lavorato's book)...   \n",
       "156995  position Alberta Term book, send positions dir...   \n",
       "156996  Analyst Rank Stephane Brodeur 1 Chad Clark 1 I...   \n",
       "\n",
       "                                                embedding  spam  \\\n",
       "0       [-0.2228, -0.1683, 0.414, -0.1859, 0.7666, -0....     0   \n",
       "1       [0.4868, 0.3755, -0.836, -0.723, 1.365, -0.114...     0   \n",
       "2       [-0.03079, 0.02507, -0.4038, -0.3984, 1.139, 0...     0   \n",
       "3       [-0.4834, 0.2832, -1.531, -0.6226, 0.0867, 0.4...     0   \n",
       "4       [0.2007, -0.7554, -0.322, -0.1583, 0.454, -0.4...     0   \n",
       "...                                                   ...   ...   \n",
       "156992  [0.00992, -0.2651, -0.605, 0.1359, 1.509, 0.04...     0   \n",
       "156993  [1.218, -0.943, 0.1938, 1.032, 0.4238, -0.3433...     0   \n",
       "156994  [0.2764, -0.03079, -0.6875, 0.05423, -1.289, 0...     0   \n",
       "156995  [0.7695, -0.5005, -1.423, -0.1415, -0.4844, 0....     0   \n",
       "156996  [-0.7407, -0.2258, -2.074, -0.7827, 0.5576, 0....     0   \n",
       "\n",
       "                           From  KMeans_Labels  hdbscan_cluster  \n",
       "0       phillip.allen@enron.com            577               -1  \n",
       "1       phillip.allen@enron.com            351              150  \n",
       "2       phillip.allen@enron.com            765               89  \n",
       "3       phillip.allen@enron.com            765               89  \n",
       "4       phillip.allen@enron.com            596               -1  \n",
       "...                         ...            ...              ...  \n",
       "156992  john.zufferli@enron.com           1126               -1  \n",
       "156993  john.zufferli@enron.com            999              157  \n",
       "156994  john.zufferli@enron.com           1332               66  \n",
       "156995  john.zufferli@enron.com            569              256  \n",
       "156996  john.zufferli@enron.com           1890               -1  \n",
       "\n",
       "[156997 rows x 12 columns]"
      ]
     },
     "execution_count": 8,
     "metadata": {},
     "output_type": "execute_result"
    }
   ],
   "source": [
    "# Étape 3 : Associer les clusters HDBSCAN aux clusters KMeans initiaux\n",
    "# Faire une jointure avec le DataFrame original\n",
    "merged_df = data.merge(centroids_df[['KMeans_Labels','hdbscan_cluster']], on=\"KMeans_Labels\", how='left')\n",
    "\n",
    "merged_df"
   ]
  },
  {
   "cell_type": "code",
   "execution_count": 9,
   "metadata": {},
   "outputs": [
    {
     "data": {
      "text/plain": [
       "\"merged_df = pd.read_csv('KMeans_HDBSCAN_Clustering.csv')\""
      ]
     },
     "execution_count": 9,
     "metadata": {},
     "output_type": "execute_result"
    }
   ],
   "source": [
    "merged_df.to_parquet('KMeans_HDBSCAN_Clustering.parquet', index=False)\n",
    "'''merged_df = pd.read_csv('KMeans_HDBSCAN_Clustering.csv')'''"
   ]
  },
  {
   "cell_type": "code",
   "execution_count": 18,
   "metadata": {},
   "outputs": [
    {
     "data": {
      "text/html": [
       "<div>\n",
       "<style scoped>\n",
       "    .dataframe tbody tr th:only-of-type {\n",
       "        vertical-align: middle;\n",
       "    }\n",
       "\n",
       "    .dataframe tbody tr th {\n",
       "        vertical-align: top;\n",
       "    }\n",
       "\n",
       "    .dataframe thead th {\n",
       "        text-align: right;\n",
       "    }\n",
       "</style>\n",
       "<table border=\"1\" class=\"dataframe\">\n",
       "  <thead>\n",
       "    <tr style=\"text-align: right;\">\n",
       "      <th></th>\n",
       "      <th>file</th>\n",
       "      <th>message</th>\n",
       "      <th>parsed_email</th>\n",
       "      <th>Message-ID</th>\n",
       "      <th>X-FileName</th>\n",
       "      <th>Body</th>\n",
       "      <th>final_body</th>\n",
       "      <th>embedding</th>\n",
       "      <th>spam</th>\n",
       "      <th>From</th>\n",
       "      <th>KMeans_Labels</th>\n",
       "      <th>hdbscan_cluster</th>\n",
       "    </tr>\n",
       "  </thead>\n",
       "  <tbody>\n",
       "    <tr>\n",
       "      <th>1</th>\n",
       "      <td>allen-p/_sent_mail/1000.</td>\n",
       "      <td>Message-ID: &lt;13505866.1075863688222.JavaMail.e...</td>\n",
       "      <td>{'Message-ID': '&lt;13505866.1075863688222.JavaMa...</td>\n",
       "      <td>&lt;13505866.1075863688222.JavaMail.evans@thyme&gt;</td>\n",
       "      <td>pallen.nsf</td>\n",
       "      <td>\\nRandy,\\n\\n Can you send me a schedule of the...</td>\n",
       "      <td>Randy, send schedule salary level everyone sch...</td>\n",
       "      <td>[0.4868, 0.3755, -0.836, -0.723, 1.365, -0.114...</td>\n",
       "      <td>0</td>\n",
       "      <td>phillip.allen@enron.com</td>\n",
       "      <td>351</td>\n",
       "      <td>150</td>\n",
       "    </tr>\n",
       "    <tr>\n",
       "      <th>2</th>\n",
       "      <td>allen-p/_sent_mail/1001.</td>\n",
       "      <td>Message-ID: &lt;30922949.1075863688243.JavaMail.e...</td>\n",
       "      <td>{'Message-ID': '&lt;30922949.1075863688243.JavaMa...</td>\n",
       "      <td>&lt;30922949.1075863688243.JavaMail.evans@thyme&gt;</td>\n",
       "      <td>pallen.nsf</td>\n",
       "      <td>\\nLet's shoot for Tuesday at 11:45.</td>\n",
       "      <td>Let's shoot Tuesday 11:45.</td>\n",
       "      <td>[-0.03079, 0.02507, -0.4038, -0.3984, 1.139, 0...</td>\n",
       "      <td>0</td>\n",
       "      <td>phillip.allen@enron.com</td>\n",
       "      <td>765</td>\n",
       "      <td>89</td>\n",
       "    </tr>\n",
       "    <tr>\n",
       "      <th>3</th>\n",
       "      <td>allen-p/_sent_mail/1002.</td>\n",
       "      <td>Message-ID: &lt;30965995.1075863688265.JavaMail.e...</td>\n",
       "      <td>{'Message-ID': '&lt;30965995.1075863688265.JavaMa...</td>\n",
       "      <td>&lt;30965995.1075863688265.JavaMail.evans@thyme&gt;</td>\n",
       "      <td>pallen.nsf</td>\n",
       "      <td>\\nGreg,\\n\\n How about either next Tuesday or T...</td>\n",
       "      <td>Greg, either next Tuesday Thursday? Phillip</td>\n",
       "      <td>[-0.4834, 0.2832, -1.531, -0.6226, 0.0867, 0.4...</td>\n",
       "      <td>0</td>\n",
       "      <td>phillip.allen@enron.com</td>\n",
       "      <td>765</td>\n",
       "      <td>89</td>\n",
       "    </tr>\n",
       "    <tr>\n",
       "      <th>6</th>\n",
       "      <td>allen-p/_sent_mail/101.</td>\n",
       "      <td>Message-ID: &lt;20641191.1075855687472.JavaMail.e...</td>\n",
       "      <td>{'Message-ID': '&lt;20641191.1075855687472.JavaMa...</td>\n",
       "      <td>&lt;20641191.1075855687472.JavaMail.evans@thyme&gt;</td>\n",
       "      <td>pallen.nsf</td>\n",
       "      <td>\\n1. login:  pallen pw: ke9davis\\n\\n I don't t...</td>\n",
       "      <td>1. login: pallen pw: ke9davis think required I...</td>\n",
       "      <td>[0.2861, 0.54, -1.153, -0.2043, 0.3127, -0.184...</td>\n",
       "      <td>0</td>\n",
       "      <td>phillip.allen@enron.com</td>\n",
       "      <td>840</td>\n",
       "      <td>139</td>\n",
       "    </tr>\n",
       "    <tr>\n",
       "      <th>7</th>\n",
       "      <td>allen-p/_sent_mail/102.</td>\n",
       "      <td>Message-ID: &lt;30795301.1075855687494.JavaMail.e...</td>\n",
       "      <td>{'Message-ID': '&lt;30795301.1075855687494.JavaMa...</td>\n",
       "      <td>&lt;30795301.1075855687494.JavaMail.evans@thyme&gt;</td>\n",
       "      <td>pallen.nsf</td>\n",
       "      <td>\\n---------------------- Forwarded by Phillip ...</td>\n",
       "      <td>Subject: FW: fixed forward Collar floor gas pr...</td>\n",
       "      <td>[0.274, -0.598, -0.03268, 0.6514, -0.4514, -0....</td>\n",
       "      <td>0</td>\n",
       "      <td>phillip.allen@enron.com</td>\n",
       "      <td>1229</td>\n",
       "      <td>221</td>\n",
       "    </tr>\n",
       "    <tr>\n",
       "      <th>...</th>\n",
       "      <td>...</td>\n",
       "      <td>...</td>\n",
       "      <td>...</td>\n",
       "      <td>...</td>\n",
       "      <td>...</td>\n",
       "      <td>...</td>\n",
       "      <td>...</td>\n",
       "      <td>...</td>\n",
       "      <td>...</td>\n",
       "      <td>...</td>\n",
       "      <td>...</td>\n",
       "      <td>...</td>\n",
       "    </tr>\n",
       "    <tr>\n",
       "      <th>156990</th>\n",
       "      <td>zufferli-j/sent_items/83.</td>\n",
       "      <td>Message-ID: &lt;24246770.1075842029601.JavaMail.e...</td>\n",
       "      <td>{'Message-ID': '&lt;24246770.1075842029601.JavaMa...</td>\n",
       "      <td>&lt;24246770.1075842029601.JavaMail.evans@thyme&gt;</td>\n",
       "      <td>john zufferli 6-26-02.PST</td>\n",
       "      <td>\\n\\nIn addition to a list of software and syst...</td>\n",
       "      <td>addition list software systems compiled th= e ...</td>\n",
       "      <td>[0.4297, -1.052, 0.0597, -0.4756, 0.477, 0.512...</td>\n",
       "      <td>0</td>\n",
       "      <td>john.zufferli@enron.com</td>\n",
       "      <td>373</td>\n",
       "      <td>271</td>\n",
       "    </tr>\n",
       "    <tr>\n",
       "      <th>156991</th>\n",
       "      <td>zufferli-j/sent_items/84.</td>\n",
       "      <td>Message-ID: &lt;30449512.1075842029649.JavaMail.e...</td>\n",
       "      <td>{'Message-ID': '&lt;30449512.1075842029649.JavaMa...</td>\n",
       "      <td>&lt;30449512.1075842029649.JavaMail.evans@thyme&gt;</td>\n",
       "      <td>john zufferli 6-26-02.PST</td>\n",
       "      <td>\\nPlease set up access for the digital certifi...</td>\n",
       "      <td>Please set access digital certificate Enron TA...</td>\n",
       "      <td>[-0.7466, -0.1177, -0.7124, -0.559, 0.489, -0....</td>\n",
       "      <td>0</td>\n",
       "      <td>john.zufferli@enron.com</td>\n",
       "      <td>1372</td>\n",
       "      <td>314</td>\n",
       "    </tr>\n",
       "    <tr>\n",
       "      <th>156993</th>\n",
       "      <td>zufferli-j/sent_items/91.</td>\n",
       "      <td>Message-ID: &lt;23829224.1075842029820.JavaMail.e...</td>\n",
       "      <td>{'Message-ID': '&lt;23829224.1075842029820.JavaMa...</td>\n",
       "      <td>&lt;23829224.1075842029820.JavaMail.evans@thyme&gt;</td>\n",
       "      <td>john zufferli 6-26-02.PST</td>\n",
       "      <td>\\nNicole and everyone, I think the directory i...</td>\n",
       "      <td>Nicole everyone, think directory i:\\canadian\\e...</td>\n",
       "      <td>[1.218, -0.943, 0.1938, 1.032, 0.4238, -0.3433...</td>\n",
       "      <td>0</td>\n",
       "      <td>john.zufferli@enron.com</td>\n",
       "      <td>999</td>\n",
       "      <td>157</td>\n",
       "    </tr>\n",
       "    <tr>\n",
       "      <th>156994</th>\n",
       "      <td>zufferli-j/sent_items/95.</td>\n",
       "      <td>Message-ID: &lt;26807948.1075842029936.JavaMail.e...</td>\n",
       "      <td>{'Message-ID': '&lt;26807948.1075842029936.JavaMa...</td>\n",
       "      <td>&lt;26807948.1075842029936.JavaMail.evans@thyme&gt;</td>\n",
       "      <td>john zufferli 6-26-02.PST</td>\n",
       "      <td>\\nThis is a trade with OIL-SPEC-HEDGE-NG (John...</td>\n",
       "      <td>trade OIL-SPEC-HEDGE-NG (John Lavorato's book)...</td>\n",
       "      <td>[0.2764, -0.03079, -0.6875, 0.05423, -1.289, 0...</td>\n",
       "      <td>0</td>\n",
       "      <td>john.zufferli@enron.com</td>\n",
       "      <td>1332</td>\n",
       "      <td>66</td>\n",
       "    </tr>\n",
       "    <tr>\n",
       "      <th>156995</th>\n",
       "      <td>zufferli-j/sent_items/96.</td>\n",
       "      <td>Message-ID: &lt;25835861.1075842029959.JavaMail.e...</td>\n",
       "      <td>{'Message-ID': '&lt;25835861.1075842029959.JavaMa...</td>\n",
       "      <td>&lt;25835861.1075842029959.JavaMail.evans@thyme&gt;</td>\n",
       "      <td>john zufferli 6-26-02.PST</td>\n",
       "      <td>\\nSome of my position is with the Alberta Term...</td>\n",
       "      <td>position Alberta Term book, send positions dir...</td>\n",
       "      <td>[0.7695, -0.5005, -1.423, -0.1415, -0.4844, 0....</td>\n",
       "      <td>0</td>\n",
       "      <td>john.zufferli@enron.com</td>\n",
       "      <td>569</td>\n",
       "      <td>256</td>\n",
       "    </tr>\n",
       "  </tbody>\n",
       "</table>\n",
       "<p>93106 rows × 12 columns</p>\n",
       "</div>"
      ],
      "text/plain": [
       "                             file  \\\n",
       "1        allen-p/_sent_mail/1000.   \n",
       "2        allen-p/_sent_mail/1001.   \n",
       "3        allen-p/_sent_mail/1002.   \n",
       "6         allen-p/_sent_mail/101.   \n",
       "7         allen-p/_sent_mail/102.   \n",
       "...                           ...   \n",
       "156990  zufferli-j/sent_items/83.   \n",
       "156991  zufferli-j/sent_items/84.   \n",
       "156993  zufferli-j/sent_items/91.   \n",
       "156994  zufferli-j/sent_items/95.   \n",
       "156995  zufferli-j/sent_items/96.   \n",
       "\n",
       "                                                  message  \\\n",
       "1       Message-ID: <13505866.1075863688222.JavaMail.e...   \n",
       "2       Message-ID: <30922949.1075863688243.JavaMail.e...   \n",
       "3       Message-ID: <30965995.1075863688265.JavaMail.e...   \n",
       "6       Message-ID: <20641191.1075855687472.JavaMail.e...   \n",
       "7       Message-ID: <30795301.1075855687494.JavaMail.e...   \n",
       "...                                                   ...   \n",
       "156990  Message-ID: <24246770.1075842029601.JavaMail.e...   \n",
       "156991  Message-ID: <30449512.1075842029649.JavaMail.e...   \n",
       "156993  Message-ID: <23829224.1075842029820.JavaMail.e...   \n",
       "156994  Message-ID: <26807948.1075842029936.JavaMail.e...   \n",
       "156995  Message-ID: <25835861.1075842029959.JavaMail.e...   \n",
       "\n",
       "                                             parsed_email  \\\n",
       "1       {'Message-ID': '<13505866.1075863688222.JavaMa...   \n",
       "2       {'Message-ID': '<30922949.1075863688243.JavaMa...   \n",
       "3       {'Message-ID': '<30965995.1075863688265.JavaMa...   \n",
       "6       {'Message-ID': '<20641191.1075855687472.JavaMa...   \n",
       "7       {'Message-ID': '<30795301.1075855687494.JavaMa...   \n",
       "...                                                   ...   \n",
       "156990  {'Message-ID': '<24246770.1075842029601.JavaMa...   \n",
       "156991  {'Message-ID': '<30449512.1075842029649.JavaMa...   \n",
       "156993  {'Message-ID': '<23829224.1075842029820.JavaMa...   \n",
       "156994  {'Message-ID': '<26807948.1075842029936.JavaMa...   \n",
       "156995  {'Message-ID': '<25835861.1075842029959.JavaMa...   \n",
       "\n",
       "                                           Message-ID  \\\n",
       "1       <13505866.1075863688222.JavaMail.evans@thyme>   \n",
       "2       <30922949.1075863688243.JavaMail.evans@thyme>   \n",
       "3       <30965995.1075863688265.JavaMail.evans@thyme>   \n",
       "6       <20641191.1075855687472.JavaMail.evans@thyme>   \n",
       "7       <30795301.1075855687494.JavaMail.evans@thyme>   \n",
       "...                                               ...   \n",
       "156990  <24246770.1075842029601.JavaMail.evans@thyme>   \n",
       "156991  <30449512.1075842029649.JavaMail.evans@thyme>   \n",
       "156993  <23829224.1075842029820.JavaMail.evans@thyme>   \n",
       "156994  <26807948.1075842029936.JavaMail.evans@thyme>   \n",
       "156995  <25835861.1075842029959.JavaMail.evans@thyme>   \n",
       "\n",
       "                       X-FileName  \\\n",
       "1                      pallen.nsf   \n",
       "2                      pallen.nsf   \n",
       "3                      pallen.nsf   \n",
       "6                      pallen.nsf   \n",
       "7                      pallen.nsf   \n",
       "...                           ...   \n",
       "156990  john zufferli 6-26-02.PST   \n",
       "156991  john zufferli 6-26-02.PST   \n",
       "156993  john zufferli 6-26-02.PST   \n",
       "156994  john zufferli 6-26-02.PST   \n",
       "156995  john zufferli 6-26-02.PST   \n",
       "\n",
       "                                                     Body  \\\n",
       "1       \\nRandy,\\n\\n Can you send me a schedule of the...   \n",
       "2                   \\nLet's shoot for Tuesday at 11:45.     \n",
       "3       \\nGreg,\\n\\n How about either next Tuesday or T...   \n",
       "6       \\n1. login:  pallen pw: ke9davis\\n\\n I don't t...   \n",
       "7       \\n---------------------- Forwarded by Phillip ...   \n",
       "...                                                   ...   \n",
       "156990  \\n\\nIn addition to a list of software and syst...   \n",
       "156991  \\nPlease set up access for the digital certifi...   \n",
       "156993  \\nNicole and everyone, I think the directory i...   \n",
       "156994  \\nThis is a trade with OIL-SPEC-HEDGE-NG (John...   \n",
       "156995  \\nSome of my position is with the Alberta Term...   \n",
       "\n",
       "                                               final_body  \\\n",
       "1       Randy, send schedule salary level everyone sch...   \n",
       "2                              Let's shoot Tuesday 11:45.   \n",
       "3             Greg, either next Tuesday Thursday? Phillip   \n",
       "6       1. login: pallen pw: ke9davis think required I...   \n",
       "7       Subject: FW: fixed forward Collar floor gas pr...   \n",
       "...                                                   ...   \n",
       "156990  addition list software systems compiled th= e ...   \n",
       "156991  Please set access digital certificate Enron TA...   \n",
       "156993  Nicole everyone, think directory i:\\canadian\\e...   \n",
       "156994  trade OIL-SPEC-HEDGE-NG (John Lavorato's book)...   \n",
       "156995  position Alberta Term book, send positions dir...   \n",
       "\n",
       "                                                embedding  spam  \\\n",
       "1       [0.4868, 0.3755, -0.836, -0.723, 1.365, -0.114...     0   \n",
       "2       [-0.03079, 0.02507, -0.4038, -0.3984, 1.139, 0...     0   \n",
       "3       [-0.4834, 0.2832, -1.531, -0.6226, 0.0867, 0.4...     0   \n",
       "6       [0.2861, 0.54, -1.153, -0.2043, 0.3127, -0.184...     0   \n",
       "7       [0.274, -0.598, -0.03268, 0.6514, -0.4514, -0....     0   \n",
       "...                                                   ...   ...   \n",
       "156990  [0.4297, -1.052, 0.0597, -0.4756, 0.477, 0.512...     0   \n",
       "156991  [-0.7466, -0.1177, -0.7124, -0.559, 0.489, -0....     0   \n",
       "156993  [1.218, -0.943, 0.1938, 1.032, 0.4238, -0.3433...     0   \n",
       "156994  [0.2764, -0.03079, -0.6875, 0.05423, -1.289, 0...     0   \n",
       "156995  [0.7695, -0.5005, -1.423, -0.1415, -0.4844, 0....     0   \n",
       "\n",
       "                           From  KMeans_Labels  hdbscan_cluster  \n",
       "1       phillip.allen@enron.com            351              150  \n",
       "2       phillip.allen@enron.com            765               89  \n",
       "3       phillip.allen@enron.com            765               89  \n",
       "6       phillip.allen@enron.com            840              139  \n",
       "7       phillip.allen@enron.com           1229              221  \n",
       "...                         ...            ...              ...  \n",
       "156990  john.zufferli@enron.com            373              271  \n",
       "156991  john.zufferli@enron.com           1372              314  \n",
       "156993  john.zufferli@enron.com            999              157  \n",
       "156994  john.zufferli@enron.com           1332               66  \n",
       "156995  john.zufferli@enron.com            569              256  \n",
       "\n",
       "[93106 rows x 12 columns]"
      ]
     },
     "execution_count": 18,
     "metadata": {},
     "output_type": "execute_result"
    }
   ],
   "source": [
    "data_cluster = merged_df[merged_df['hdbscan_cluster'] != -1]\n",
    "data_cluster"
   ]
  },
  {
   "cell_type": "code",
   "execution_count": null,
   "metadata": {},
   "outputs": [
    {
     "ename": "",
     "evalue": "",
     "output_type": "error",
     "traceback": [
      "\u001b[1;31mRunning cells with 'Python 3.11.11' requires the ipykernel package.\n",
      "\u001b[1;31mRun the following command to install 'ipykernel' into the Python environment. \n",
      "\u001b[1;31mCommand: '/opt/homebrew/bin/python3.11 -m pip install ipykernel -U --user --force-reinstall'"
     ]
    }
   ],
   "source": [
    "data_cluster[data_cluster['KMeans_Labels']==1]"
   ]
  },
  {
   "cell_type": "code",
   "execution_count": 36,
   "metadata": {},
   "outputs": [],
   "source": [
    "import pandas as pd\n",
    "import numpy as np\n",
    "from tqdm import tqdm\n",
    "\n",
    "def filter_top_k_elements(data_cluster, k=20):\n",
    "    \"\"\"\n",
    "    Filtre le DataFrame pour ne garder que les `k` éléments les plus proches des centroïdes pour chaque cluster.\n",
    "    \n",
    "    Paramètres :\n",
    "    - data_cluster : DataFrame contenant les colonnes 'Kmeans_Labels' (cluster) et 'Embedding' (vecteurs).\n",
    "    - k : Nombre d'éléments à sélectionner par cluster (par défaut : 10).\n",
    "    \n",
    "    Retour :\n",
    "    - DataFrame filtré avec les `k` éléments les plus proches des centroïdes pour chaque cluster.\n",
    "    \"\"\"\n",
    "    tqdm.pandas(desc=\"Calcul des centroïdes\")\n",
    "\n",
    "    # Étape 1 : Calcul des centroïdes pour chaque cluster\n",
    "    centroids = (\n",
    "        data_cluster.groupby('hdbscan_cluster')['embedding']\n",
    "        .progress_apply(lambda x: np.mean(np.stack(x), axis=0))\n",
    "        .to_dict()\n",
    "    )\n",
    "    print(len(data_cluster['hdbscan_cluster'].unique()))\n",
    "    print(f\"Centroïdes calculés pour {len(centroids)} clusters.\")\n",
    "    # Étape 2 : Calcul des distances aux centroïdes\n",
    "    def calculate_distance(row):\n",
    "        cluster = row['hdbscan_cluster']\n",
    "        centroid = centroids[cluster]\n",
    "        embedding = np.array(row['embedding'])\n",
    "        return np.linalg.norm(embedding - centroid)\n",
    "\n",
    "    tqdm.pandas(desc=\"Calcul des distances aux centroïdes\")\n",
    "    data_cluster['Distance_to_Centroid'] = data_cluster.progress_apply(calculate_distance, axis=1)\n",
    "\n",
    "    # Étape 3 : Sélection des `k` éléments les plus proches pour chaque cluster\n",
    "    tqdm.pandas(desc=\"Sélection des top éléments par cluster\")\n",
    "    top_k_per_cluster = (\n",
    "        data_cluster.groupby('hdbscan_cluster', group_keys=False)\n",
    "        .progress_apply(lambda x: x.nsmallest(k, 'Distance_to_Centroid'))\n",
    "    )\n",
    "\n",
    "    return top_k_per_cluster\n"
   ]
  },
  {
   "cell_type": "code",
   "execution_count": 37,
   "metadata": {},
   "outputs": [
    {
     "name": "stderr",
     "output_type": "stream",
     "text": [
      "Calcul des centroïdes: 100%|██████████| 328/328 [00:00<00:00, 2013.81it/s]\n"
     ]
    },
    {
     "name": "stdout",
     "output_type": "stream",
     "text": [
      "328\n",
      "Centroïdes calculés pour 328 clusters.\n"
     ]
    },
    {
     "name": "stderr",
     "output_type": "stream",
     "text": [
      "Calcul des distances aux centroïdes: 100%|██████████| 93106/93106 [00:00<00:00, 188243.57it/s]\n",
      "/var/folders/x6/w927_g5j2lsf_r6g6lw8cjzw0000gn/T/ipykernel_25491/1665816055.py:34: SettingWithCopyWarning: \n",
      "A value is trying to be set on a copy of a slice from a DataFrame.\n",
      "Try using .loc[row_indexer,col_indexer] = value instead\n",
      "\n",
      "See the caveats in the documentation: https://pandas.pydata.org/pandas-docs/stable/user_guide/indexing.html#returning-a-view-versus-a-copy\n",
      "  data_cluster['Distance_to_Centroid'] = data_cluster.progress_apply(calculate_distance, axis=1)\n",
      "Sélection des top éléments par cluster: 100%|██████████| 328/328 [00:00<00:00, 3030.33it/s]"
     ]
    },
    {
     "name": "stdout",
     "output_type": "stream",
     "text": [
      "                                     file  \\\n",
      "98614         meyers-a/deleted_items/351.   \n",
      "98618         meyers-a/deleted_items/355.   \n",
      "98617         meyers-a/deleted_items/354.   \n",
      "98704         meyers-a/deleted_items/436.   \n",
      "98605         meyers-a/deleted_items/343.   \n",
      "...                                   ...   \n",
      "7328           beck-s/all_documents/2511.   \n",
      "56518          hyvl-d/all_documents/1524.   \n",
      "92931          mann-k/all_documents/2216.   \n",
      "121988  shackleton-s/all_documents/10112.   \n",
      "113526        sager-e/all_documents/1121.   \n",
      "\n",
      "                                                  message  \\\n",
      "98614   Message-ID: <15489782.1075841297698.JavaMail.e...   \n",
      "98618   Message-ID: <27677080.1075841297796.JavaMail.e...   \n",
      "98617   Message-ID: <27053622.1075841297772.JavaMail.e...   \n",
      "98704   Message-ID: <19044266.1075841299880.JavaMail.e...   \n",
      "98605   Message-ID: <19500157.1075841297502.JavaMail.e...   \n",
      "...                                                   ...   \n",
      "7328    Message-ID: <4617246.1075855806069.JavaMail.ev...   \n",
      "56518   Message-ID: <16818862.1075842248023.JavaMail.e...   \n",
      "92931   Message-ID: <20798891.1075845629294.JavaMail.e...   \n",
      "121988  Message-ID: <22610625.1075844720790.JavaMail.e...   \n",
      "113526  Message-ID: <5088134.1075859511639.JavaMail.ev...   \n",
      "\n",
      "                                             parsed_email  \\\n",
      "98614   {'Message-ID': '<15489782.1075841297698.JavaMa...   \n",
      "98618   {'Message-ID': '<27677080.1075841297796.JavaMa...   \n",
      "98617   {'Message-ID': '<27053622.1075841297772.JavaMa...   \n",
      "98704   {'Message-ID': '<19044266.1075841299880.JavaMa...   \n",
      "98605   {'Message-ID': '<19500157.1075841297502.JavaMa...   \n",
      "...                                                   ...   \n",
      "7328    {'Message-ID': '<4617246.1075855806069.JavaMai...   \n",
      "56518   {'Message-ID': '<16818862.1075842248023.JavaMa...   \n",
      "92931   {'Message-ID': '<20798891.1075845629294.JavaMa...   \n",
      "121988  {'Message-ID': '<22610625.1075844720790.JavaMa...   \n",
      "113526  {'Message-ID': '<5088134.1075859511639.JavaMai...   \n",
      "\n",
      "                                           Message-ID  \\\n",
      "98614   <15489782.1075841297698.JavaMail.evans@thyme>   \n",
      "98618   <27677080.1075841297796.JavaMail.evans@thyme>   \n",
      "98617   <27053622.1075841297772.JavaMail.evans@thyme>   \n",
      "98704   <19044266.1075841299880.JavaMail.evans@thyme>   \n",
      "98605   <19500157.1075841297502.JavaMail.evans@thyme>   \n",
      "...                                               ...   \n",
      "7328     <4617246.1075855806069.JavaMail.evans@thyme>   \n",
      "56518   <16818862.1075842248023.JavaMail.evans@thyme>   \n",
      "92931   <20798891.1075845629294.JavaMail.evans@thyme>   \n",
      "121988  <22610625.1075844720790.JavaMail.evans@thyme>   \n",
      "113526   <5088134.1075859511639.JavaMail.evans@thyme>   \n",
      "\n",
      "                     X-FileName  \\\n",
      "98614   bert meyers 6-25-02.PST   \n",
      "98618   bert meyers 6-25-02.PST   \n",
      "98617   bert meyers 6-25-02.PST   \n",
      "98704   bert meyers 6-25-02.PST   \n",
      "98605   bert meyers 6-25-02.PST   \n",
      "...                         ...   \n",
      "7328                  sbeck.nsf   \n",
      "56518                 dhyvl.nsf   \n",
      "92931                 kmann.nsf   \n",
      "121988             sshackle.nsf   \n",
      "113526               esager.nsf   \n",
      "\n",
      "                                                     Body  \\\n",
      "98614   \\n\\n\\nStart Date: 1/24/02; HourAhead hour: 13;...   \n",
      "98618   \\n\\n\\nStart Date: 1/24/02; HourAhead hour: 10;...   \n",
      "98617   \\n\\n\\nStart Date: 1/24/02; HourAhead hour: 11;...   \n",
      "98704   \\n\\n\\nStart Date: 1/21/02; HourAhead hour: 12;...   \n",
      "98605   \\n\\n\\nStart Date: 1/24/02; HourAhead hour: 19;...   \n",
      "...                                                   ...   \n",
      "7328    \\nI agree with the section written for settlem...   \n",
      "56518   \\nHere is a draft that does not address the En...   \n",
      "92931   \\nBen Jacoby has asked that I forward the atta...   \n",
      "121988  \\nCheryl,\\n\\nPlease add the RBC Dominion Secur...   \n",
      "113526  \\n---------------------- Forwarded by Elizabet...   \n",
      "\n",
      "                                               final_body  \\\n",
      "98614   Start Date: 1/24/02; HourAhead hour: 13; HourA...   \n",
      "98618   Start Date: 1/24/02; HourAhead hour: 10; HourA...   \n",
      "98617   Start Date: 1/24/02; HourAhead hour: 11; HourA...   \n",
      "98704   Start Date: 1/21/02; HourAhead hour: 12; HourA...   \n",
      "98605   Start Date: 1/24/02; HourAhead hour: 19; HourA...   \n",
      "...                                                   ...   \n",
      "7328    Subject: Interim Operational, Accounting Tax S...   \n",
      "56518   draft address Enron Services deal operating ag...   \n",
      "92931   Ben Jacoby asked forward attached drafts lette...   \n",
      "121988  Subject: Update List Cheryl, Please add RBC Do...   \n",
      "113526  Subject: Enron Master Agreement Enron Capital ...   \n",
      "\n",
      "                                                embedding  spam  \\\n",
      "98614   [-0.06107, -0.551, -0.5913, -1.205, 1.005, -0....     0   \n",
      "98618   [-0.0902, -0.4102, -0.4253, -1.234, 0.9966, -0...     0   \n",
      "98617   [-0.09845, -0.5376, -0.4358, -1.298, 1.08, -0....     0   \n",
      "98704   [-0.132, -0.5293, -0.595, -0.97, 0.6724, -0.05...     0   \n",
      "98605   [-0.054, -0.6216, -0.457, -1.314, 0.759, -0.30...     0   \n",
      "...                                                   ...   ...   \n",
      "7328    [-0.892, -0.864, 0.2305, -1.005, 0.2346, -0.03...     0   \n",
      "56518   [-0.836, -0.496, -0.1189, -0.53, 1.049, -0.076...     0   \n",
      "92931   [-0.7876, -0.6455, -0.2404, 0.2974, 1.566, 0.0...     0   \n",
      "121988  [-0.278, -1.009, 0.1251, -0.946, 0.3445, 0.225...     0   \n",
      "113526  [-0.6396, -0.465, 0.4133, -0.798, 0.1748, -0.2...     0   \n",
      "\n",
      "                             From  KMeans_Labels  hdbscan_cluster  \\\n",
      "98614        pete.davis@enron.com           1120                0   \n",
      "98618        pete.davis@enron.com           1120                0   \n",
      "98617        pete.davis@enron.com           1120                0   \n",
      "98704        pete.davis@enron.com           1120                0   \n",
      "98605        pete.davis@enron.com           1120                0   \n",
      "...                           ...            ...              ...   \n",
      "7328          bob.klein@enron.com           1082              327   \n",
      "56518      chris.foster@enron.com           1082              327   \n",
      "92931          kay.mann@enron.com           1082              327   \n",
      "121988  aneela.charania@enron.com           1082              327   \n",
      "113526  elizabeth.sager@enron.com            581              327   \n",
      "\n",
      "        Distance_to_Centroid  \n",
      "98614               4.384933  \n",
      "98618               4.489759  \n",
      "98617               4.522798  \n",
      "98704               4.532666  \n",
      "98605               4.589929  \n",
      "...                      ...  \n",
      "7328               11.432283  \n",
      "56518              11.449037  \n",
      "92931              11.478019  \n",
      "121988             11.494771  \n",
      "113526             11.534246  \n",
      "\n",
      "[6560 rows x 13 columns]\n"
     ]
    },
    {
     "name": "stderr",
     "output_type": "stream",
     "text": [
      "\n"
     ]
    }
   ],
   "source": [
    "filtered_data_cluster_HDBSCAN = filter_top_k_elements(data_cluster, k=20)\n",
    "print(filtered_data_cluster_HDBSCAN)\n"
   ]
  },
  {
   "cell_type": "code",
   "execution_count": 38,
   "metadata": {},
   "outputs": [
    {
     "data": {
      "text/html": [
       "<div>\n",
       "<style scoped>\n",
       "    .dataframe tbody tr th:only-of-type {\n",
       "        vertical-align: middle;\n",
       "    }\n",
       "\n",
       "    .dataframe tbody tr th {\n",
       "        vertical-align: top;\n",
       "    }\n",
       "\n",
       "    .dataframe thead th {\n",
       "        text-align: right;\n",
       "    }\n",
       "</style>\n",
       "<table border=\"1\" class=\"dataframe\">\n",
       "  <thead>\n",
       "    <tr style=\"text-align: right;\">\n",
       "      <th></th>\n",
       "      <th>file</th>\n",
       "      <th>message</th>\n",
       "      <th>parsed_email</th>\n",
       "      <th>Message-ID</th>\n",
       "      <th>X-FileName</th>\n",
       "      <th>Body</th>\n",
       "      <th>final_body</th>\n",
       "      <th>embedding</th>\n",
       "      <th>spam</th>\n",
       "      <th>From</th>\n",
       "      <th>KMeans_Labels</th>\n",
       "      <th>hdbscan_cluster</th>\n",
       "      <th>Distance_to_Centroid</th>\n",
       "    </tr>\n",
       "  </thead>\n",
       "  <tbody>\n",
       "    <tr>\n",
       "      <th>98614</th>\n",
       "      <td>meyers-a/deleted_items/351.</td>\n",
       "      <td>Message-ID: &lt;15489782.1075841297698.JavaMail.e...</td>\n",
       "      <td>{'Message-ID': '&lt;15489782.1075841297698.JavaMa...</td>\n",
       "      <td>&lt;15489782.1075841297698.JavaMail.evans@thyme&gt;</td>\n",
       "      <td>bert meyers 6-25-02.PST</td>\n",
       "      <td>\\n\\n\\nStart Date: 1/24/02; HourAhead hour: 13;...</td>\n",
       "      <td>Start Date: 1/24/02; HourAhead hour: 13; HourA...</td>\n",
       "      <td>[-0.06107, -0.551, -0.5913, -1.205, 1.005, -0....</td>\n",
       "      <td>0</td>\n",
       "      <td>pete.davis@enron.com</td>\n",
       "      <td>1120</td>\n",
       "      <td>0</td>\n",
       "      <td>4.384933</td>\n",
       "    </tr>\n",
       "    <tr>\n",
       "      <th>98618</th>\n",
       "      <td>meyers-a/deleted_items/355.</td>\n",
       "      <td>Message-ID: &lt;27677080.1075841297796.JavaMail.e...</td>\n",
       "      <td>{'Message-ID': '&lt;27677080.1075841297796.JavaMa...</td>\n",
       "      <td>&lt;27677080.1075841297796.JavaMail.evans@thyme&gt;</td>\n",
       "      <td>bert meyers 6-25-02.PST</td>\n",
       "      <td>\\n\\n\\nStart Date: 1/24/02; HourAhead hour: 10;...</td>\n",
       "      <td>Start Date: 1/24/02; HourAhead hour: 10; HourA...</td>\n",
       "      <td>[-0.0902, -0.4102, -0.4253, -1.234, 0.9966, -0...</td>\n",
       "      <td>0</td>\n",
       "      <td>pete.davis@enron.com</td>\n",
       "      <td>1120</td>\n",
       "      <td>0</td>\n",
       "      <td>4.489759</td>\n",
       "    </tr>\n",
       "    <tr>\n",
       "      <th>98617</th>\n",
       "      <td>meyers-a/deleted_items/354.</td>\n",
       "      <td>Message-ID: &lt;27053622.1075841297772.JavaMail.e...</td>\n",
       "      <td>{'Message-ID': '&lt;27053622.1075841297772.JavaMa...</td>\n",
       "      <td>&lt;27053622.1075841297772.JavaMail.evans@thyme&gt;</td>\n",
       "      <td>bert meyers 6-25-02.PST</td>\n",
       "      <td>\\n\\n\\nStart Date: 1/24/02; HourAhead hour: 11;...</td>\n",
       "      <td>Start Date: 1/24/02; HourAhead hour: 11; HourA...</td>\n",
       "      <td>[-0.09845, -0.5376, -0.4358, -1.298, 1.08, -0....</td>\n",
       "      <td>0</td>\n",
       "      <td>pete.davis@enron.com</td>\n",
       "      <td>1120</td>\n",
       "      <td>0</td>\n",
       "      <td>4.522798</td>\n",
       "    </tr>\n",
       "    <tr>\n",
       "      <th>98704</th>\n",
       "      <td>meyers-a/deleted_items/436.</td>\n",
       "      <td>Message-ID: &lt;19044266.1075841299880.JavaMail.e...</td>\n",
       "      <td>{'Message-ID': '&lt;19044266.1075841299880.JavaMa...</td>\n",
       "      <td>&lt;19044266.1075841299880.JavaMail.evans@thyme&gt;</td>\n",
       "      <td>bert meyers 6-25-02.PST</td>\n",
       "      <td>\\n\\n\\nStart Date: 1/21/02; HourAhead hour: 12;...</td>\n",
       "      <td>Start Date: 1/21/02; HourAhead hour: 12; HourA...</td>\n",
       "      <td>[-0.132, -0.5293, -0.595, -0.97, 0.6724, -0.05...</td>\n",
       "      <td>0</td>\n",
       "      <td>pete.davis@enron.com</td>\n",
       "      <td>1120</td>\n",
       "      <td>0</td>\n",
       "      <td>4.532666</td>\n",
       "    </tr>\n",
       "    <tr>\n",
       "      <th>98605</th>\n",
       "      <td>meyers-a/deleted_items/343.</td>\n",
       "      <td>Message-ID: &lt;19500157.1075841297502.JavaMail.e...</td>\n",
       "      <td>{'Message-ID': '&lt;19500157.1075841297502.JavaMa...</td>\n",
       "      <td>&lt;19500157.1075841297502.JavaMail.evans@thyme&gt;</td>\n",
       "      <td>bert meyers 6-25-02.PST</td>\n",
       "      <td>\\n\\n\\nStart Date: 1/24/02; HourAhead hour: 19;...</td>\n",
       "      <td>Start Date: 1/24/02; HourAhead hour: 19; HourA...</td>\n",
       "      <td>[-0.054, -0.6216, -0.457, -1.314, 0.759, -0.30...</td>\n",
       "      <td>0</td>\n",
       "      <td>pete.davis@enron.com</td>\n",
       "      <td>1120</td>\n",
       "      <td>0</td>\n",
       "      <td>4.589929</td>\n",
       "    </tr>\n",
       "    <tr>\n",
       "      <th>...</th>\n",
       "      <td>...</td>\n",
       "      <td>...</td>\n",
       "      <td>...</td>\n",
       "      <td>...</td>\n",
       "      <td>...</td>\n",
       "      <td>...</td>\n",
       "      <td>...</td>\n",
       "      <td>...</td>\n",
       "      <td>...</td>\n",
       "      <td>...</td>\n",
       "      <td>...</td>\n",
       "      <td>...</td>\n",
       "      <td>...</td>\n",
       "    </tr>\n",
       "    <tr>\n",
       "      <th>7328</th>\n",
       "      <td>beck-s/all_documents/2511.</td>\n",
       "      <td>Message-ID: &lt;4617246.1075855806069.JavaMail.ev...</td>\n",
       "      <td>{'Message-ID': '&lt;4617246.1075855806069.JavaMai...</td>\n",
       "      <td>&lt;4617246.1075855806069.JavaMail.evans@thyme&gt;</td>\n",
       "      <td>sbeck.nsf</td>\n",
       "      <td>\\nI agree with the section written for settlem...</td>\n",
       "      <td>Subject: Interim Operational, Accounting Tax S...</td>\n",
       "      <td>[-0.892, -0.864, 0.2305, -1.005, 0.2346, -0.03...</td>\n",
       "      <td>0</td>\n",
       "      <td>bob.klein@enron.com</td>\n",
       "      <td>1082</td>\n",
       "      <td>327</td>\n",
       "      <td>11.432283</td>\n",
       "    </tr>\n",
       "    <tr>\n",
       "      <th>56518</th>\n",
       "      <td>hyvl-d/all_documents/1524.</td>\n",
       "      <td>Message-ID: &lt;16818862.1075842248023.JavaMail.e...</td>\n",
       "      <td>{'Message-ID': '&lt;16818862.1075842248023.JavaMa...</td>\n",
       "      <td>&lt;16818862.1075842248023.JavaMail.evans@thyme&gt;</td>\n",
       "      <td>dhyvl.nsf</td>\n",
       "      <td>\\nHere is a draft that does not address the En...</td>\n",
       "      <td>draft address Enron Services deal operating ag...</td>\n",
       "      <td>[-0.836, -0.496, -0.1189, -0.53, 1.049, -0.076...</td>\n",
       "      <td>0</td>\n",
       "      <td>chris.foster@enron.com</td>\n",
       "      <td>1082</td>\n",
       "      <td>327</td>\n",
       "      <td>11.449037</td>\n",
       "    </tr>\n",
       "    <tr>\n",
       "      <th>92931</th>\n",
       "      <td>mann-k/all_documents/2216.</td>\n",
       "      <td>Message-ID: &lt;20798891.1075845629294.JavaMail.e...</td>\n",
       "      <td>{'Message-ID': '&lt;20798891.1075845629294.JavaMa...</td>\n",
       "      <td>&lt;20798891.1075845629294.JavaMail.evans@thyme&gt;</td>\n",
       "      <td>kmann.nsf</td>\n",
       "      <td>\\nBen Jacoby has asked that I forward the atta...</td>\n",
       "      <td>Ben Jacoby asked forward attached drafts lette...</td>\n",
       "      <td>[-0.7876, -0.6455, -0.2404, 0.2974, 1.566, 0.0...</td>\n",
       "      <td>0</td>\n",
       "      <td>kay.mann@enron.com</td>\n",
       "      <td>1082</td>\n",
       "      <td>327</td>\n",
       "      <td>11.478019</td>\n",
       "    </tr>\n",
       "    <tr>\n",
       "      <th>121988</th>\n",
       "      <td>shackleton-s/all_documents/10112.</td>\n",
       "      <td>Message-ID: &lt;22610625.1075844720790.JavaMail.e...</td>\n",
       "      <td>{'Message-ID': '&lt;22610625.1075844720790.JavaMa...</td>\n",
       "      <td>&lt;22610625.1075844720790.JavaMail.evans@thyme&gt;</td>\n",
       "      <td>sshackle.nsf</td>\n",
       "      <td>\\nCheryl,\\n\\nPlease add the RBC Dominion Secur...</td>\n",
       "      <td>Subject: Update List Cheryl, Please add RBC Do...</td>\n",
       "      <td>[-0.278, -1.009, 0.1251, -0.946, 0.3445, 0.225...</td>\n",
       "      <td>0</td>\n",
       "      <td>aneela.charania@enron.com</td>\n",
       "      <td>1082</td>\n",
       "      <td>327</td>\n",
       "      <td>11.494771</td>\n",
       "    </tr>\n",
       "    <tr>\n",
       "      <th>113526</th>\n",
       "      <td>sager-e/all_documents/1121.</td>\n",
       "      <td>Message-ID: &lt;5088134.1075859511639.JavaMail.ev...</td>\n",
       "      <td>{'Message-ID': '&lt;5088134.1075859511639.JavaMai...</td>\n",
       "      <td>&lt;5088134.1075859511639.JavaMail.evans@thyme&gt;</td>\n",
       "      <td>esager.nsf</td>\n",
       "      <td>\\n---------------------- Forwarded by Elizabet...</td>\n",
       "      <td>Subject: Enron Master Agreement Enron Capital ...</td>\n",
       "      <td>[-0.6396, -0.465, 0.4133, -0.798, 0.1748, -0.2...</td>\n",
       "      <td>0</td>\n",
       "      <td>elizabeth.sager@enron.com</td>\n",
       "      <td>581</td>\n",
       "      <td>327</td>\n",
       "      <td>11.534246</td>\n",
       "    </tr>\n",
       "  </tbody>\n",
       "</table>\n",
       "<p>6560 rows × 13 columns</p>\n",
       "</div>"
      ],
      "text/plain": [
       "                                     file  \\\n",
       "98614         meyers-a/deleted_items/351.   \n",
       "98618         meyers-a/deleted_items/355.   \n",
       "98617         meyers-a/deleted_items/354.   \n",
       "98704         meyers-a/deleted_items/436.   \n",
       "98605         meyers-a/deleted_items/343.   \n",
       "...                                   ...   \n",
       "7328           beck-s/all_documents/2511.   \n",
       "56518          hyvl-d/all_documents/1524.   \n",
       "92931          mann-k/all_documents/2216.   \n",
       "121988  shackleton-s/all_documents/10112.   \n",
       "113526        sager-e/all_documents/1121.   \n",
       "\n",
       "                                                  message  \\\n",
       "98614   Message-ID: <15489782.1075841297698.JavaMail.e...   \n",
       "98618   Message-ID: <27677080.1075841297796.JavaMail.e...   \n",
       "98617   Message-ID: <27053622.1075841297772.JavaMail.e...   \n",
       "98704   Message-ID: <19044266.1075841299880.JavaMail.e...   \n",
       "98605   Message-ID: <19500157.1075841297502.JavaMail.e...   \n",
       "...                                                   ...   \n",
       "7328    Message-ID: <4617246.1075855806069.JavaMail.ev...   \n",
       "56518   Message-ID: <16818862.1075842248023.JavaMail.e...   \n",
       "92931   Message-ID: <20798891.1075845629294.JavaMail.e...   \n",
       "121988  Message-ID: <22610625.1075844720790.JavaMail.e...   \n",
       "113526  Message-ID: <5088134.1075859511639.JavaMail.ev...   \n",
       "\n",
       "                                             parsed_email  \\\n",
       "98614   {'Message-ID': '<15489782.1075841297698.JavaMa...   \n",
       "98618   {'Message-ID': '<27677080.1075841297796.JavaMa...   \n",
       "98617   {'Message-ID': '<27053622.1075841297772.JavaMa...   \n",
       "98704   {'Message-ID': '<19044266.1075841299880.JavaMa...   \n",
       "98605   {'Message-ID': '<19500157.1075841297502.JavaMa...   \n",
       "...                                                   ...   \n",
       "7328    {'Message-ID': '<4617246.1075855806069.JavaMai...   \n",
       "56518   {'Message-ID': '<16818862.1075842248023.JavaMa...   \n",
       "92931   {'Message-ID': '<20798891.1075845629294.JavaMa...   \n",
       "121988  {'Message-ID': '<22610625.1075844720790.JavaMa...   \n",
       "113526  {'Message-ID': '<5088134.1075859511639.JavaMai...   \n",
       "\n",
       "                                           Message-ID  \\\n",
       "98614   <15489782.1075841297698.JavaMail.evans@thyme>   \n",
       "98618   <27677080.1075841297796.JavaMail.evans@thyme>   \n",
       "98617   <27053622.1075841297772.JavaMail.evans@thyme>   \n",
       "98704   <19044266.1075841299880.JavaMail.evans@thyme>   \n",
       "98605   <19500157.1075841297502.JavaMail.evans@thyme>   \n",
       "...                                               ...   \n",
       "7328     <4617246.1075855806069.JavaMail.evans@thyme>   \n",
       "56518   <16818862.1075842248023.JavaMail.evans@thyme>   \n",
       "92931   <20798891.1075845629294.JavaMail.evans@thyme>   \n",
       "121988  <22610625.1075844720790.JavaMail.evans@thyme>   \n",
       "113526   <5088134.1075859511639.JavaMail.evans@thyme>   \n",
       "\n",
       "                     X-FileName  \\\n",
       "98614   bert meyers 6-25-02.PST   \n",
       "98618   bert meyers 6-25-02.PST   \n",
       "98617   bert meyers 6-25-02.PST   \n",
       "98704   bert meyers 6-25-02.PST   \n",
       "98605   bert meyers 6-25-02.PST   \n",
       "...                         ...   \n",
       "7328                  sbeck.nsf   \n",
       "56518                 dhyvl.nsf   \n",
       "92931                 kmann.nsf   \n",
       "121988             sshackle.nsf   \n",
       "113526               esager.nsf   \n",
       "\n",
       "                                                     Body  \\\n",
       "98614   \\n\\n\\nStart Date: 1/24/02; HourAhead hour: 13;...   \n",
       "98618   \\n\\n\\nStart Date: 1/24/02; HourAhead hour: 10;...   \n",
       "98617   \\n\\n\\nStart Date: 1/24/02; HourAhead hour: 11;...   \n",
       "98704   \\n\\n\\nStart Date: 1/21/02; HourAhead hour: 12;...   \n",
       "98605   \\n\\n\\nStart Date: 1/24/02; HourAhead hour: 19;...   \n",
       "...                                                   ...   \n",
       "7328    \\nI agree with the section written for settlem...   \n",
       "56518   \\nHere is a draft that does not address the En...   \n",
       "92931   \\nBen Jacoby has asked that I forward the atta...   \n",
       "121988  \\nCheryl,\\n\\nPlease add the RBC Dominion Secur...   \n",
       "113526  \\n---------------------- Forwarded by Elizabet...   \n",
       "\n",
       "                                               final_body  \\\n",
       "98614   Start Date: 1/24/02; HourAhead hour: 13; HourA...   \n",
       "98618   Start Date: 1/24/02; HourAhead hour: 10; HourA...   \n",
       "98617   Start Date: 1/24/02; HourAhead hour: 11; HourA...   \n",
       "98704   Start Date: 1/21/02; HourAhead hour: 12; HourA...   \n",
       "98605   Start Date: 1/24/02; HourAhead hour: 19; HourA...   \n",
       "...                                                   ...   \n",
       "7328    Subject: Interim Operational, Accounting Tax S...   \n",
       "56518   draft address Enron Services deal operating ag...   \n",
       "92931   Ben Jacoby asked forward attached drafts lette...   \n",
       "121988  Subject: Update List Cheryl, Please add RBC Do...   \n",
       "113526  Subject: Enron Master Agreement Enron Capital ...   \n",
       "\n",
       "                                                embedding  spam  \\\n",
       "98614   [-0.06107, -0.551, -0.5913, -1.205, 1.005, -0....     0   \n",
       "98618   [-0.0902, -0.4102, -0.4253, -1.234, 0.9966, -0...     0   \n",
       "98617   [-0.09845, -0.5376, -0.4358, -1.298, 1.08, -0....     0   \n",
       "98704   [-0.132, -0.5293, -0.595, -0.97, 0.6724, -0.05...     0   \n",
       "98605   [-0.054, -0.6216, -0.457, -1.314, 0.759, -0.30...     0   \n",
       "...                                                   ...   ...   \n",
       "7328    [-0.892, -0.864, 0.2305, -1.005, 0.2346, -0.03...     0   \n",
       "56518   [-0.836, -0.496, -0.1189, -0.53, 1.049, -0.076...     0   \n",
       "92931   [-0.7876, -0.6455, -0.2404, 0.2974, 1.566, 0.0...     0   \n",
       "121988  [-0.278, -1.009, 0.1251, -0.946, 0.3445, 0.225...     0   \n",
       "113526  [-0.6396, -0.465, 0.4133, -0.798, 0.1748, -0.2...     0   \n",
       "\n",
       "                             From  KMeans_Labels  hdbscan_cluster  \\\n",
       "98614        pete.davis@enron.com           1120                0   \n",
       "98618        pete.davis@enron.com           1120                0   \n",
       "98617        pete.davis@enron.com           1120                0   \n",
       "98704        pete.davis@enron.com           1120                0   \n",
       "98605        pete.davis@enron.com           1120                0   \n",
       "...                           ...            ...              ...   \n",
       "7328          bob.klein@enron.com           1082              327   \n",
       "56518      chris.foster@enron.com           1082              327   \n",
       "92931          kay.mann@enron.com           1082              327   \n",
       "121988  aneela.charania@enron.com           1082              327   \n",
       "113526  elizabeth.sager@enron.com            581              327   \n",
       "\n",
       "        Distance_to_Centroid  \n",
       "98614               4.384933  \n",
       "98618               4.489759  \n",
       "98617               4.522798  \n",
       "98704               4.532666  \n",
       "98605               4.589929  \n",
       "...                      ...  \n",
       "7328               11.432283  \n",
       "56518              11.449037  \n",
       "92931              11.478019  \n",
       "121988             11.494771  \n",
       "113526             11.534246  \n",
       "\n",
       "[6560 rows x 13 columns]"
      ]
     },
     "execution_count": 38,
     "metadata": {},
     "output_type": "execute_result"
    }
   ],
   "source": [
    "filtered_data_cluster_HDBSCAN"
   ]
  },
  {
   "cell_type": "code",
   "execution_count": 39,
   "metadata": {},
   "outputs": [],
   "source": [
    "filtered_data_cluster_HDBSCAN.to_parquet('Top20_Centroide_HDBSCAN.parquet', index=False)"
   ]
  },
  {
   "cell_type": "code",
   "execution_count": 5,
   "metadata": {},
   "outputs": [],
   "source": [
    "data_cluster_bruit = merged_df[merged_df['hdbscan_cluster'] == -1]\n",
    "data_cluster_bruit.to_csv('Cluster_KMeans_HDBSCAN_noiseTRUE.csv', index=False)"
   ]
  },
  {
   "cell_type": "code",
   "execution_count": 6,
   "metadata": {},
   "outputs": [],
   "source": [
    "def display_random_final_body(dataframe, n=10, seed=None):\n",
    "    \"\"\"\n",
    "    Affiche de manière aléatoire des textes de la colonne 'final_body'.\n",
    "\n",
    "    Params:\n",
    "        dataframe (pd.DataFrame): Le DataFrame contenant la colonne 'final_body'.\n",
    "        n (int): Nombre de textes à afficher. Par défaut : 10.\n",
    "        seed (int): Graine pour la reproductibilité du tirage aléatoire. Par défaut : None.\n",
    "    \"\"\"\n",
    "    # Ajuster les paramètres pour afficher tout le texte\n",
    "    pd.set_option('display.max_colwidth', None)\n",
    "\n",
    "    # Tirer un échantillon aléatoire de la colonne 'final_body'\n",
    "    sample_texts = dataframe['final_body'].sample(n=n, random_state=seed)\n",
    "\n",
    "    # Afficher les textes\n",
    "    for i, text in enumerate(sample_texts, start=1):\n",
    "        print(f\"--- Texte {i} (Index: {sample_texts.index[i-1]}) ---\")\n",
    "        print(text)\n",
    "        print(\"\\n\" + \"=\" * 50 + \"\\n\")\n",
    "\n",
    "    # Réinitialiser les options de pandas\n",
    "    pd.reset_option('display.max_colwidth')"
   ]
  },
  {
   "cell_type": "code",
   "execution_count": 7,
   "metadata": {},
   "outputs": [
    {
     "name": "stdout",
     "output_type": "stream",
     "text": [
      "--- Texte 1 (Index: 35712) ---\n",
      "Subject: Chevron - Winter monthly nom 413447 right - swing deal 413462 needs extended match term 413447, buyback 413472 Daren J Farmer 10/18/2000 03:48 PM Lee, deal 413447 (Chevron @ Olefins), flex nom 6,000 12,000/day. monthly nom daily nom? swing deal winter? current swing deal Oct only. Oct, pulled average 16,000/day.\n",
      "\n",
      "==================================================\n",
      "\n",
      "--- Texte 2 (Index: 100256) ---\n",
      "Subject: Keyspan true-up Janet, Colleen Sullivan replaced Kate Fraser team finalize negotiations folks Keyspan. intention finish calculations Colleen requested next days get feel offsets occur proxy pricing given certain decisions. able finish Keyspan. Hopefully, Ed Anderson Melissa Reges taking vacations while. Colleen talked Scott internally releasing East Origination Group's cut accrual profits Year 2 asset management deal. problem end quarter. Sorry delay, Ruth Janet R Dietrich 09/08/2000 12:43 PM Ruth, gotten everything finalized Keyspan re: one-year deal? so, let's finalize internal dollar true-ups now. not, please set meeting next week Scott decide need proceed closure issues. Thanks.\n",
      "\n",
      "==================================================\n",
      "\n",
      "--- Texte 3 (Index: 88254) ---\n",
      "Yeah party sounds fun, count in. live night IPAMS reception?\n",
      "\n",
      "==================================================\n",
      "\n",
      "--- Texte 4 (Index: 141455) ---\n",
      "Sean Crandall deal: 453094 error: Sean Amerex recognize Diana Scholtes deal: 452697 error: Prebon shows price $93........enpower $95 Mark fischer deal: 453278 error: Prebon shows terms Dec'00 ......enpower shows 11/9\n",
      "\n",
      "==================================================\n",
      "\n",
      "--- Texte 5 (Index: 97437) ---\n",
      "Subject: Option Trades Thanks sending - trades look good. Thanks, Errol 02/16/2001 08:47 Quigley/HOU/ECT@ECT Hi Errol, understand trouble getting view sample option trade morning. AI'm able get in, attached screen prints trade auto-hedge. Please verify correct let either Dawn Tara know.. Thanks, Torrey\n",
      "\n",
      "==================================================\n",
      "\n",
      "--- Texte 6 (Index: 45359) ---\n",
      "11-21 Enovate.xls\n",
      "\n",
      "==================================================\n",
      "\n",
      "--- Texte 7 (Index: 85176) ---\n",
      "Subject: Re: Transwestern CAF Request Enron Energy Services Scott/ET&S/Enron@ENRON, Kevin Hyatt/ET&S/Enron@Enron seems capacity months Nov-Mar, reference discounted rate section 2 state period Nov-Mar 2010. Also, language paragraph 6 eliminate reference tariff, since it, start phrase \"Shipper agrees utilizes ----- See previous comment well. Need make sure want commit 10 year discount, policy may change Tw would required absord difference. MK Christine Stokes 05/31/2000 08:35 Fossum/ET&S/Enron@ENRON, Mary Kay Miller/ET&S/Enron@ENRON, Glen Hass/ET&S/Enron@ENRON, Mary Darveaux/ET&S/Enron@ENRON, Bill Cordes/ET&S/Enron@ENRON, Susan Scott/ET&S/Enron@ENRON TRANSWESTERN PIPELINE CONTRACT APPROVAL REQUEST Please review attached non-standard discount letter Southwest Gas Corporation (SWG). SWG shall enter 10 year agreement 14,000 Dth/d seasonal (November March) capacity effective November 1, 2000. transport rate $.15/Dth/d shall increase annually $.005/Dth/d. primary path shall Tranwestern's East Thoreau (EOT) Area SWG Interconnect located East California Area. Alternate receipt point rights shall Tranwestern's EOT Area Bloomfield Compressor. SWG ROFR rights shall wiaved. additionTranswestern shall propose retain revenues generated capacity release rates higher effective contract's discount rate. (Please note FTS-1 Appendix - shown discount letter- specifically indicates 0 MMcf/d capacity April October period. Therefore, even though $.1500/MMBtu rate Paragraph 3 discount letter indicate rate \"seasonal rate\", effective billing SWG shall seasonal.) Please indicate approval via REPLY HISTORY. Officer approvals shall faxed Bill Cordes final Officer approval.\n",
      "\n",
      "==================================================\n",
      "\n",
      "--- Texte 8 (Index: 131236) ---\n",
      "thought would interested feedback Board Trade Electricity Taskforce meeting morning: a) weekend, May 4- 6, Ontario Chamber Commerce unanimously adopted Toronto Board Trade's position paper market opening November 1, 2001. OCC umbrella organization local chambers commerce/ boards trade across Ontario. Toronto Board Trade position paper largely follows Enron position paper market opening. b) Elyse Allan, Louise Verity Jan Carr (all representing Toronto Board Trade) met Minister Wilson Judy Hubert Tuesday, May 8. Wilson explicitly asked BOT \"keep heat\" November 1 opening. Wilson evidently impressed OCC resolution. c) concern expressed David McFadden (head SAC BE's lawyer) OPG may put fossil units block August, since Ministry Environment's new emissions regulations promulgated time. Paul might want raise Gord Homer: see OPG would wait August begin process; substance regs known now, even law August. d) fight brewing City Toronto Province regarding Hearn facility. City wants tear part waterfront plan Province pushing keep generation facility type. IMO evidently prepared report issue yet made public. e)There push taskforce members (particularly Jan Carr) adopt, transitional measure, type controls limit exports control prices Ontario. non-starter members taskforce initiative go forward. undertaken, instead, give BOT talking points use answering questions interregional trade type comments Howard Hampton (NDP leader) making US sucking cheap power Ontario.\n",
      "\n",
      "==================================================\n",
      "\n",
      "--- Texte 9 (Index: 85398) ---\n",
      "effort bring incremental revenue pipeline, researched outstanding invoices generated facility interconnects, etc. Transwestern currently outstanding dollars collect. However, appears $600,000 collected Northern Natural addition $250,000 written off. Attached spreadsheets Accounts Receivable.\n",
      "\n",
      "==================================================\n",
      "\n",
      "--- Texte 10 (Index: 47991) ---\n",
      "Enron Events available viewing pleasure scrapbook form. scrapbooks located top Pharmacopia cabinet Real Time. pictures Enron Holiday Party 2000 Ski Weekend 2001. Negatives kept, may order photos. Please promptly return scrapbooks take new home. Thanks!\n",
      "\n",
      "==================================================\n",
      "\n"
     ]
    }
   ],
   "source": [
    "display_random_final_body(data_cluster_bruit)"
   ]
  },
  {
   "cell_type": "code",
   "execution_count": 17,
   "metadata": {},
   "outputs": [
    {
     "ename": "",
     "evalue": "",
     "output_type": "error",
     "traceback": [
      "\u001b[1;31mThe Kernel crashed while executing code in the current cell or a previous cell. \n",
      "\u001b[1;31mPlease review the code in the cell(s) to identify a possible cause of the failure. \n",
      "\u001b[1;31mClick <a href='https://aka.ms/vscodeJupyterKernelCrash'>here</a> for more info. \n",
      "\u001b[1;31mView Jupyter <a href='command:jupyter.viewOutput'>log</a> for further details."
     ]
    }
   ],
   "source": [
    "from sklearn.cluster import AgglomerativeClustering\n",
    "\n",
    "def perform_ahc_on_text_embeddings(df, embedding_col, n_clusters=5, metric='euclidean', linkage_method='ward'):\n",
    "    \"\"\"\n",
    "    Applique Agglomerative Hierarchical Clustering (AHC) sur des embeddings textuels.\n",
    "\n",
    "    :param df: pandas.DataFrame contenant une colonne d'embeddings\n",
    "    :param embedding_col: Nom de la colonne contenant les embeddings\n",
    "    :param n_clusters: Nombre de clusters à générer\n",
    "    :param metric: Métrique de distance ('euclidean', 'cosine', etc.)\n",
    "    :param linkage_method: Méthode de linkage ('ward', 'complete', 'average', 'single')\n",
    "    :return: DataFrame avec une colonne supplémentaire 'cluster_label'\n",
    "    \"\"\"\n",
    "    # Vérification si la colonne des embeddings existe\n",
    "    if embedding_col not in df.columns:\n",
    "        raise ValueError(f\"La colonne '{embedding_col}' n'existe pas dans le DataFrame.\")\n",
    "\n",
    "    # Conversion des embeddings en tableau numpy\n",
    "    embeddings = np.array(df[embedding_col].tolist())\n",
    "\n",
    "    # Étape 1 : Application d'Agglomerative Clustering\n",
    "    clustering = AgglomerativeClustering(\n",
    "        n_clusters=n_clusters,\n",
    "        metric=metric,\n",
    "        linkage=linkage_method\n",
    "    )\n",
    "    cluster_labels = clustering.fit_predict(embeddings)\n",
    "\n",
    "    # Ajouter les labels des clusters au DataFrame\n",
    "    df['cluster_label'] = cluster_labels\n",
    "\n",
    "    return df\n"
   ]
  },
  {
   "cell_type": "code",
   "execution_count": null,
   "metadata": {},
   "outputs": [],
   "source": [
    "data_with_clusters = perform_ahc_on_text_embeddings(\n",
    "    data_cluster_bruit,\n",
    "    embedding_col='embedding',\n",
    "    n_clusters=5,         # Par exemple\n",
    "    metric='euclidean',   # Distance métrique pour les embeddings\n",
    "    linkage_method='ward' # Méthode de linkage (Ward pour variance minimale)\n",
    ")\n",
    "\n",
    "print(data_cluster_bruit.head())\n"
   ]
  },
  {
   "cell_type": "code",
   "execution_count": null,
   "metadata": {},
   "outputs": [],
   "source": []
  }
 ],
 "metadata": {
  "kernelspec": {
   "display_name": "Python 3",
   "language": "python",
   "name": "python3"
  },
  "language_info": {
   "codemirror_mode": {
    "name": "ipython",
    "version": 3
   },
   "file_extension": ".py",
   "mimetype": "text/x-python",
   "name": "python",
   "nbconvert_exporter": "python",
   "pygments_lexer": "ipython3",
   "version": "3.11.11"
  }
 },
 "nbformat": 4,
 "nbformat_minor": 2
}
